{
 "cells": [
  {
   "cell_type": "code",
   "execution_count": 1,
   "metadata": {},
   "outputs": [
    {
     "ename": "TypeError",
     "evalue": "'>' not supported between instances of 'str' and 'int'",
     "output_type": "error",
     "traceback": [
      "\u001b[1;31m---------------------------------------------------------------------------\u001b[0m",
      "\u001b[1;31mTypeError\u001b[0m                                 Traceback (most recent call last)",
      "\u001b[1;32m~\\AppData\\Local\\Temp\\ipykernel_17480\\645354877.py\u001b[0m in \u001b[0;36m<module>\u001b[1;34m\u001b[0m\n\u001b[0;32m     27\u001b[0m \u001b[0mdirectory\u001b[0m \u001b[1;33m=\u001b[0m \u001b[1;34m'data/only2004_BPE'\u001b[0m\u001b[1;33m\u001b[0m\u001b[0m\n\u001b[0;32m     28\u001b[0m \u001b[0mvocab_size\u001b[0m \u001b[1;33m=\u001b[0m \u001b[1;36m514\u001b[0m  \u001b[1;31m# Example vocabulary size\u001b[0m\u001b[1;33m\u001b[0m\u001b[0m\n\u001b[1;32m---> 29\u001b[1;33m \u001b[0mlarge_token_files\u001b[0m \u001b[1;33m=\u001b[0m \u001b[0mfind_files_with_large_tokens\u001b[0m\u001b[1;33m(\u001b[0m\u001b[0mdirectory\u001b[0m\u001b[1;33m,\u001b[0m \u001b[0mvocab_size\u001b[0m\u001b[1;33m)\u001b[0m\u001b[1;33m\u001b[0m\u001b[0m\n\u001b[0m\u001b[0;32m     30\u001b[0m \u001b[0mprint\u001b[0m\u001b[1;33m(\u001b[0m\u001b[1;34m\"Files with tokens exceeding the vocab size:\"\u001b[0m\u001b[1;33m,\u001b[0m \u001b[0mlarge_token_files\u001b[0m\u001b[1;33m)\u001b[0m\u001b[1;33m\u001b[0m\u001b[0m\n",
      "\u001b[1;32m~\\AppData\\Local\\Temp\\ipykernel_17480\\645354877.py\u001b[0m in \u001b[0;36mfind_files_with_large_tokens\u001b[1;34m(directory, vocab_size)\u001b[0m\n\u001b[0;32m     19\u001b[0m             \u001b[0mdata\u001b[0m \u001b[1;33m=\u001b[0m \u001b[0mjson\u001b[0m\u001b[1;33m.\u001b[0m\u001b[0mload\u001b[0m\u001b[1;33m(\u001b[0m\u001b[0mf\u001b[0m\u001b[1;33m)\u001b[0m\u001b[1;33m\u001b[0m\u001b[0m\n\u001b[0;32m     20\u001b[0m             \u001b[1;31m# Assuming the tokens are stored as a list of integers\u001b[0m\u001b[1;33m\u001b[0m\u001b[1;33m\u001b[0m\u001b[0m\n\u001b[1;32m---> 21\u001b[1;33m             \u001b[1;32mif\u001b[0m \u001b[0many\u001b[0m\u001b[1;33m(\u001b[0m\u001b[0mtoken\u001b[0m \u001b[1;33m>\u001b[0m \u001b[0mvocab_size\u001b[0m \u001b[1;32mfor\u001b[0m \u001b[0mtoken\u001b[0m \u001b[1;32min\u001b[0m \u001b[0mdata\u001b[0m\u001b[1;33m)\u001b[0m\u001b[1;33m:\u001b[0m  \u001b[1;31m# Adjust if the structure is different\u001b[0m\u001b[1;33m\u001b[0m\u001b[0m\n\u001b[0m\u001b[0;32m     22\u001b[0m                 \u001b[0mfiles_with_large_tokens\u001b[0m\u001b[1;33m.\u001b[0m\u001b[0mappend\u001b[0m\u001b[1;33m(\u001b[0m\u001b[0mfile\u001b[0m\u001b[1;33m.\u001b[0m\u001b[0mname\u001b[0m\u001b[1;33m)\u001b[0m\u001b[1;33m\u001b[0m\u001b[0m\n\u001b[0;32m     23\u001b[0m \u001b[1;33m\u001b[0m\u001b[0m\n",
      "\u001b[1;32m~\\AppData\\Local\\Temp\\ipykernel_17480\\645354877.py\u001b[0m in \u001b[0;36m<genexpr>\u001b[1;34m(.0)\u001b[0m\n\u001b[0;32m     19\u001b[0m             \u001b[0mdata\u001b[0m \u001b[1;33m=\u001b[0m \u001b[0mjson\u001b[0m\u001b[1;33m.\u001b[0m\u001b[0mload\u001b[0m\u001b[1;33m(\u001b[0m\u001b[0mf\u001b[0m\u001b[1;33m)\u001b[0m\u001b[1;33m\u001b[0m\u001b[0m\n\u001b[0;32m     20\u001b[0m             \u001b[1;31m# Assuming the tokens are stored as a list of integers\u001b[0m\u001b[1;33m\u001b[0m\u001b[1;33m\u001b[0m\u001b[0m\n\u001b[1;32m---> 21\u001b[1;33m             \u001b[1;32mif\u001b[0m \u001b[0many\u001b[0m\u001b[1;33m(\u001b[0m\u001b[0mtoken\u001b[0m \u001b[1;33m>\u001b[0m \u001b[0mvocab_size\u001b[0m \u001b[1;32mfor\u001b[0m \u001b[0mtoken\u001b[0m \u001b[1;32min\u001b[0m \u001b[0mdata\u001b[0m\u001b[1;33m)\u001b[0m\u001b[1;33m:\u001b[0m  \u001b[1;31m# Adjust if the structure is different\u001b[0m\u001b[1;33m\u001b[0m\u001b[0m\n\u001b[0m\u001b[0;32m     22\u001b[0m                 \u001b[0mfiles_with_large_tokens\u001b[0m\u001b[1;33m.\u001b[0m\u001b[0mappend\u001b[0m\u001b[1;33m(\u001b[0m\u001b[0mfile\u001b[0m\u001b[1;33m.\u001b[0m\u001b[0mname\u001b[0m\u001b[1;33m)\u001b[0m\u001b[1;33m\u001b[0m\u001b[0m\n\u001b[0;32m     23\u001b[0m \u001b[1;33m\u001b[0m\u001b[0m\n",
      "\u001b[1;31mTypeError\u001b[0m: '>' not supported between instances of 'str' and 'int'"
     ]
    }
   ],
   "source": [
    "import json\n",
    "from pathlib import Path\n",
    "\n",
    "def find_files_with_large_tokens(directory, vocab_size):\n",
    "    \"\"\"\n",
    "    Scans all JSON files in the specified directory and returns a list of filenames\n",
    "    where any token in the file exceeds the specified vocabulary size.\n",
    "\n",
    "    :param directory: Path to the directory containing JSON files.\n",
    "    :param vocab_size: The maximum allowable token value.\n",
    "    :return: List of filenames with tokens exceeding the vocab_size.\n",
    "    \"\"\"\n",
    "    path = Path(directory)\n",
    "    files_with_large_tokens = []\n",
    "    \n",
    "    # Iterate over all JSON files in the directory\n",
    "    for file in path.glob('*.json'):\n",
    "        with open(file, 'r') as f:\n",
    "            data = json.load(f)\n",
    "            # Assuming the tokens are stored as a list of integers\n",
    "            if any(token > vocab_size for token in data):  # Adjust if the structure is different\n",
    "                files_with_large_tokens.append(file.name)\n",
    "                \n",
    "    return files_with_large_tokens\n",
    "\n",
    "# Usage\n",
    "directory = 'data/only2004_BPE'\n",
    "vocab_size = 514  # Example vocabulary size\n",
    "large_token_files = find_files_with_large_tokens(directory, vocab_size)\n",
    "print(\"Files with tokens exceeding the vocab size:\", large_token_files)\n"
   ]
  },
  {
   "cell_type": "code",
   "execution_count": 5,
   "metadata": {},
   "outputs": [
    {
     "name": "stdout",
     "output_type": "stream",
     "text": [
      "Files with tokens exceeding the vocab size: []\n"
     ]
    }
   ],
   "source": [
    "import json\n",
    "from pathlib import Path\n",
    "\n",
    "def find_files_with_large_tokens(directory, vocab_size):\n",
    "    \"\"\"\n",
    "    Scans all JSON files in the specified directory and returns a list of filenames\n",
    "    where any token in the file exceeds the specified vocabulary size.\n",
    "\n",
    "    :param directory: Path to the directory containing JSON files.\n",
    "    :param vocab_size: The maximum allowable token value.\n",
    "    :return: List of filenames with tokens exceeding the vocab size.\n",
    "    \"\"\"\n",
    "    path = Path(directory)\n",
    "    files_with_large_tokens = []\n",
    "\n",
    "    # Iterate over all JSON files in the directory\n",
    "    for file in path.glob('*.json'):\n",
    "        with open(file, 'r') as f:\n",
    "            data = json.load(f)\n",
    "            # Assuming the tokens are stored in a nested list under the 'tokens' key\n",
    "            if any(token > vocab_size for sublist in data['tokens'] for token in sublist):\n",
    "                files_with_large_tokens.append(file.name)\n",
    "                \n",
    "    return files_with_large_tokens\n",
    "\n",
    "# Usage\n",
    "directory = 'data/only2004_BPE'\n",
    "vocab_size = 513  # Example vocabulary size\n",
    "large_token_files = find_files_with_large_tokens(directory, vocab_size)\n",
    "print(\"Files with tokens exceeding the vocab size:\", large_token_files)\n"
   ]
  },
  {
   "cell_type": "code",
   "execution_count": null,
   "metadata": {},
   "outputs": [],
   "source": []
  }
 ],
 "metadata": {
  "kernelspec": {
   "display_name": "music",
   "language": "python",
   "name": "python3"
  },
  "language_info": {
   "codemirror_mode": {
    "name": "ipython",
    "version": 3
   },
   "file_extension": ".py",
   "mimetype": "text/x-python",
   "name": "python",
   "nbconvert_exporter": "python",
   "pygments_lexer": "ipython3",
   "version": "3.7.0"
  }
 },
 "nbformat": 4,
 "nbformat_minor": 2
}
