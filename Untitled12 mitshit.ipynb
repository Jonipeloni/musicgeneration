{
  "nbformat": 4,
  "nbformat_minor": 0,
  "metadata": {
    "colab": {
      "provenance": [],
      "collapsed_sections": [
        "T5ec4jW8nqUW"
      ],
      "include_colab_link": true
    },
    "kernelspec": {
      "name": "python3",
      "display_name": "Python 3"
    },
    "language_info": {
      "name": "python"
    }
  },
  "cells": [
    {
      "cell_type": "markdown",
      "metadata": {
        "id": "view-in-github",
        "colab_type": "text"
      },
      "source": [
        "<a href=\"https://colab.research.google.com/github/Jonipeloni/musicgeneration/blob/main/Untitled12%20mitshit.ipynb\" target=\"_parent\"><img src=\"https://colab.research.google.com/assets/colab-badge.svg\" alt=\"Open In Colab\"/></a>"
      ]
    },
    {
      "cell_type": "code",
      "source": [
        "pip install 'miditok == 1.4.2'"
      ],
      "metadata": {
        "colab": {
          "base_uri": "https://localhost:8080/",
          "height": 776
        },
        "id": "cQstDdMySaT8",
        "outputId": "086e7a6e-077c-4e77-e19b-53304ea2b305"
      },
      "execution_count": null,
      "outputs": [
        {
          "output_type": "stream",
          "name": "stdout",
          "text": [
            "Collecting miditok==1.4.2\n",
            "  Downloading miditok-1.4.2-py3-none-any.whl (84 kB)\n",
            "\u001b[2K     \u001b[90m━━━━━━━━━━━━━━━━━━━━━━━━━━━━━━━━━━━━━━━━\u001b[0m \u001b[32m84.4/84.4 kB\u001b[0m \u001b[31m1.1 MB/s\u001b[0m eta \u001b[36m0:00:00\u001b[0m\n",
            "\u001b[?25hCollecting numpy<1.24,>=1.19 (from miditok==1.4.2)\n",
            "  Downloading numpy-1.23.5-cp310-cp310-manylinux_2_17_x86_64.manylinux2014_x86_64.whl (17.1 MB)\n",
            "\u001b[2K     \u001b[90m━━━━━━━━━━━━━━━━━━━━━━━━━━━━━━━━━━━━━━━━\u001b[0m \u001b[32m17.1/17.1 MB\u001b[0m \u001b[31m18.8 MB/s\u001b[0m eta \u001b[36m0:00:00\u001b[0m\n",
            "\u001b[?25hCollecting miditoolkit>=0.1.16 (from miditok==1.4.2)\n",
            "  Downloading miditoolkit-1.0.1-py3-none-any.whl (24 kB)\n",
            "Requirement already satisfied: tqdm in /usr/local/lib/python3.10/dist-packages (from miditok==1.4.2) (4.66.2)\n",
            "Requirement already satisfied: matplotlib in /usr/local/lib/python3.10/dist-packages (from miditoolkit>=0.1.16->miditok==1.4.2) (3.7.1)\n",
            "Collecting mido>=1.1.16 (from miditoolkit>=0.1.16->miditok==1.4.2)\n",
            "  Downloading mido-1.3.2-py3-none-any.whl (54 kB)\n",
            "\u001b[2K     \u001b[90m━━━━━━━━━━━━━━━━━━━━━━━━━━━━━━━━━━━━━━━━\u001b[0m \u001b[32m54.6/54.6 kB\u001b[0m \u001b[31m1.9 MB/s\u001b[0m eta \u001b[36m0:00:00\u001b[0m\n",
            "\u001b[?25hCollecting packaging~=23.1 (from mido>=1.1.16->miditoolkit>=0.1.16->miditok==1.4.2)\n",
            "  Downloading packaging-23.2-py3-none-any.whl (53 kB)\n",
            "\u001b[2K     \u001b[90m━━━━━━━━━━━━━━━━━━━━━━━━━━━━━━━━━━━━━━━━\u001b[0m \u001b[32m53.0/53.0 kB\u001b[0m \u001b[31m2.3 MB/s\u001b[0m eta \u001b[36m0:00:00\u001b[0m\n",
            "\u001b[?25hRequirement already satisfied: contourpy>=1.0.1 in /usr/local/lib/python3.10/dist-packages (from matplotlib->miditoolkit>=0.1.16->miditok==1.4.2) (1.2.1)\n",
            "Requirement already satisfied: cycler>=0.10 in /usr/local/lib/python3.10/dist-packages (from matplotlib->miditoolkit>=0.1.16->miditok==1.4.2) (0.12.1)\n",
            "Requirement already satisfied: fonttools>=4.22.0 in /usr/local/lib/python3.10/dist-packages (from matplotlib->miditoolkit>=0.1.16->miditok==1.4.2) (4.51.0)\n",
            "Requirement already satisfied: kiwisolver>=1.0.1 in /usr/local/lib/python3.10/dist-packages (from matplotlib->miditoolkit>=0.1.16->miditok==1.4.2) (1.4.5)\n",
            "Requirement already satisfied: pillow>=6.2.0 in /usr/local/lib/python3.10/dist-packages (from matplotlib->miditoolkit>=0.1.16->miditok==1.4.2) (9.4.0)\n",
            "Requirement already satisfied: pyparsing>=2.3.1 in /usr/local/lib/python3.10/dist-packages (from matplotlib->miditoolkit>=0.1.16->miditok==1.4.2) (3.1.2)\n",
            "Requirement already satisfied: python-dateutil>=2.7 in /usr/local/lib/python3.10/dist-packages (from matplotlib->miditoolkit>=0.1.16->miditok==1.4.2) (2.8.2)\n",
            "Requirement already satisfied: six>=1.5 in /usr/local/lib/python3.10/dist-packages (from python-dateutil>=2.7->matplotlib->miditoolkit>=0.1.16->miditok==1.4.2) (1.16.0)\n",
            "Installing collected packages: packaging, numpy, mido, miditoolkit, miditok\n",
            "  Attempting uninstall: packaging\n",
            "    Found existing installation: packaging 24.0\n",
            "    Uninstalling packaging-24.0:\n",
            "      Successfully uninstalled packaging-24.0\n",
            "  Attempting uninstall: numpy\n",
            "    Found existing installation: numpy 1.25.2\n",
            "    Uninstalling numpy-1.25.2:\n",
            "      Successfully uninstalled numpy-1.25.2\n",
            "\u001b[31mERROR: pip's dependency resolver does not currently take into account all the packages that are installed. This behaviour is the source of the following dependency conflicts.\n",
            "chex 0.1.86 requires numpy>=1.24.1, but you have numpy 1.23.5 which is incompatible.\n",
            "pandas-stubs 2.0.3.230814 requires numpy>=1.25.0; python_version >= \"3.9\", but you have numpy 1.23.5 which is incompatible.\u001b[0m\u001b[31m\n",
            "\u001b[0mSuccessfully installed miditok-1.4.2 miditoolkit-1.0.1 mido-1.3.2 numpy-1.23.5 packaging-23.2\n"
          ]
        },
        {
          "output_type": "display_data",
          "data": {
            "application/vnd.colab-display-data+json": {
              "pip_warning": {
                "packages": [
                  "numpy"
                ]
              },
              "id": "7363a08eb4054650b6b1920f69662996"
            }
          },
          "metadata": {}
        }
      ]
    },
    {
      "cell_type": "code",
      "source": [
        "!pip install pretty_midi numpy"
      ],
      "metadata": {
        "colab": {
          "base_uri": "https://localhost:8080/"
        },
        "id": "jB8FChu_jj0_",
        "outputId": "04657e10-31e2-4944-88d6-24b6b7bc460e"
      },
      "execution_count": null,
      "outputs": [
        {
          "output_type": "stream",
          "name": "stdout",
          "text": [
            "Collecting pretty_midi\n",
            "  Downloading pretty_midi-0.2.10.tar.gz (5.6 MB)\n",
            "\u001b[2K     \u001b[90m━━━━━━━━━━━━━━━━━━━━━━━━━━━━━━━━━━━━━━━━\u001b[0m \u001b[32m5.6/5.6 MB\u001b[0m \u001b[31m32.0 MB/s\u001b[0m eta \u001b[36m0:00:00\u001b[0m\n",
            "\u001b[?25h  Preparing metadata (setup.py) ... \u001b[?25l\u001b[?25hdone\n",
            "Requirement already satisfied: numpy in /usr/local/lib/python3.10/dist-packages (1.23.5)\n",
            "Requirement already satisfied: mido>=1.1.16 in /usr/local/lib/python3.10/dist-packages (from pretty_midi) (1.3.2)\n",
            "Requirement already satisfied: six in /usr/local/lib/python3.10/dist-packages (from pretty_midi) (1.16.0)\n",
            "Requirement already satisfied: packaging~=23.1 in /usr/local/lib/python3.10/dist-packages (from mido>=1.1.16->pretty_midi) (23.2)\n",
            "Building wheels for collected packages: pretty_midi\n",
            "  Building wheel for pretty_midi (setup.py) ... \u001b[?25l\u001b[?25hdone\n",
            "  Created wheel for pretty_midi: filename=pretty_midi-0.2.10-py3-none-any.whl size=5592289 sha256=7d291b8fe1638182382d9a1e14eef048e67f2df822c91db17a66c74bc4c5b29b\n",
            "  Stored in directory: /root/.cache/pip/wheels/cd/a5/30/7b8b7f58709f5150f67f98fde4b891ebf0be9ef07a8af49f25\n",
            "Successfully built pretty_midi\n",
            "Installing collected packages: pretty_midi\n",
            "Successfully installed pretty_midi-0.2.10\n"
          ]
        }
      ]
    },
    {
      "cell_type": "code",
      "source": [
        "import os\n",
        "import shutil\n",
        "import numpy as np\n",
        "import tensorflow as tf\n",
        "import pretty_midi\n",
        "\n",
        "import collections\n",
        "#import datetime<\n",
        "#import fluidsynth\n",
        "#import glob\n",
        "#import numpy as np\n",
        "import pathlib\n",
        "#import pandas as pd\n",
        "#import pretty_midi\n",
        "#import seaborn as sns\n",
        "#import tensorflow as tf\n",
        "from miditok import REMI\n"
      ],
      "metadata": {
        "id": "bRO_e6nRjfvz"
      },
      "execution_count": null,
      "outputs": []
    },
    {
      "cell_type": "code",
      "source": [
        "#Loading Data\n",
        "data_dir = pathlib.Path('data/maestro-v2.0.0')\n",
        "if not data_dir.exists():\n",
        "  tf.keras.utils.get_file(\n",
        "      'maestro-v2.0.0-midi.zip',\n",
        "      origin='https://storage.googleapis.com/magentadata/datasets/maestro/v2.0.0/maestro-v2.0.0-midi.zip',\n",
        "      extract=True,\n",
        "      cache_dir='.', cache_subdir='data',\n",
        "  )"
      ],
      "metadata": {
        "id": "2CH_AUwejTgg",
        "colab": {
          "base_uri": "https://localhost:8080/"
        },
        "outputId": "0aa8fe2b-9ac0-4f13-cb5f-bb5aa64a63d8"
      },
      "execution_count": null,
      "outputs": [
        {
          "output_type": "stream",
          "name": "stdout",
          "text": [
            "Downloading data from https://storage.googleapis.com/magentadata/datasets/maestro/v2.0.0/maestro-v2.0.0-midi.zip\n",
            "59243107/59243107 [==============================] - 0s 0us/step\n"
          ]
        }
      ]
    },
    {
      "cell_type": "code",
      "source": [
        "#Shrinking amount of Files\n",
        "import shutil\n",
        "from pathlib import Path\n",
        "\n",
        "subdirectories = [\"2006\", \"2008\", \"2009\", \"2011\", \"2013\", \"2014\", \"2015\", \"2017\", \"2018\"]\n",
        "for a in subdirectories:\n",
        "\n",
        "  directory_to_delete = data_dir / a\n",
        "\n",
        "  # Delete the directory and all its contents\n",
        "  try:\n",
        "      shutil.rmtree(directory_to_delete)\n",
        "      print(f\"Deleted {directory_to_delete}\")\n",
        "  except Exception as e:\n",
        "      print(f\"Error deleting {directory_to_delete}: {e}\")"
      ],
      "metadata": {
        "colab": {
          "base_uri": "https://localhost:8080/"
        },
        "id": "A5zlvti1j8dN",
        "outputId": "2daa5031-2708-438b-ab8b-9a39d67b3664"
      },
      "execution_count": null,
      "outputs": [
        {
          "output_type": "stream",
          "name": "stdout",
          "text": [
            "Deleted data/maestro-v2.0.0/2006\n",
            "Deleted data/maestro-v2.0.0/2008\n",
            "Deleted data/maestro-v2.0.0/2009\n",
            "Deleted data/maestro-v2.0.0/2011\n",
            "Deleted data/maestro-v2.0.0/2013\n",
            "Deleted data/maestro-v2.0.0/2014\n",
            "Deleted data/maestro-v2.0.0/2015\n",
            "Deleted data/maestro-v2.0.0/2017\n",
            "Deleted data/maestro-v2.0.0/2018\n"
          ]
        }
      ]
    },
    {
      "cell_type": "code",
      "source": [
        "folders = [\"2004\"]\n",
        "for folder in folders:\n",
        "    folder_path = os.path.join(data_dir, folder)\n",
        "\n",
        "    # Check if the folder exists\n",
        "    if os.path.exists(folder_path) and os.path.isdir(folder_path):\n",
        "        for filename in os.listdir(folder_path):\n",
        "            file_path = os.path.join(folder_path, filename)\n",
        "\n",
        "            # Check if it is a file and not a sub-directory\n",
        "            if os.path.isfile(file_path):\n",
        "                # Move file\n",
        "                shutil.move(file_path, data_dir)\n",
        "\n",
        "        # Remove the now-empty folder\n",
        "        os.rmdir(folder_path)"
      ],
      "metadata": {
        "id": "wHCTH1oIkDf4"
      },
      "execution_count": null,
      "outputs": []
    },
    {
      "cell_type": "code",
      "source": [
        "import os\n",
        "import pretty_midi\n",
        "\n",
        "midi_files_dir = data_dir\n",
        "output_dir = \"selected_midi_files\"  # Define the output directory\n",
        "output_path = os.path.join(midi_files_dir, output_dir)\n",
        "\n",
        "if not os.path.exists(output_path):\n",
        "    os.makedirs(output_path)\n",
        "\n",
        "# Criteria for selection\n",
        "desired_time_signature = (4, 4)  # (numerator, denominator)\n",
        "min_length_seconds = 100\n",
        "max_length_seconds = 800\n",
        "\n",
        "selected_files = []\n",
        "\n",
        "# Iterate over all files in the directory\n",
        "for filename in os.listdir(midi_files_dir):\n",
        "    if filename.endswith('.mid') or filename.endswith('.midi'):  # Check if it's a MIDI file\n",
        "        file_path = os.path.join(midi_files_dir, filename)\n",
        "\n",
        "        try:\n",
        "            # Load the MIDI file\n",
        "            midi_data = pretty_midi.PrettyMIDI(file_path)\n",
        "\n",
        "            # Check time signatures\n",
        "            time_signatures = midi_data.time_signature_changes\n",
        "            has_desired_time_signature = any(ts.numerator == desired_time_signature[0] and\n",
        "                                             ts.denominator == desired_time_signature[1]\n",
        "                                             for ts in time_signatures)\n",
        "\n",
        "            # Check length\n",
        "            length = midi_data.get_end_time()  # This returns the length in seconds\n",
        "            if has_desired_time_signature and min_length_seconds <= length <= max_length_seconds:\n",
        "                # Construct output file path\n",
        "                output_file_path = os.path.join(output_path, filename)\n",
        "                # Copy the file to the output directory\n",
        "                os.rename(file_path, output_file_path)\n",
        "                selected_files.append(output_file_path)\n",
        "\n",
        "        except Exception as e:\n",
        "            print(f\"Error processing {filename}: {e}\")\n",
        "\n",
        "# Print or use the selected files\n",
        "for file in selected_files:\n",
        "    print(file)\n"
      ],
      "metadata": {
        "id": "RQAaeIpGkMWY",
        "colab": {
          "base_uri": "https://localhost:8080/"
        },
        "outputId": "dc1dde13-2575-4e28-c9df-3439b8d2086a"
      },
      "execution_count": null,
      "outputs": [
        {
          "output_type": "stream",
          "name": "stdout",
          "text": [
            "data/maestro-v2.0.0/selected_midi_files/MIDI-Unprocessed_XP_06_R2_2004_01_ORIG_MID--AUDIO_06_R2_2004_01_Track01_wav.midi\n",
            "data/maestro-v2.0.0/selected_midi_files/MIDI-Unprocessed_XP_10_R1_2004_03-04_ORIG_MID--AUDIO_10_R1_2004_03_Track03_wav.midi\n",
            "data/maestro-v2.0.0/selected_midi_files/MIDI-Unprocessed_XP_22_R2_2004_01_ORIG_MID--AUDIO_22_R2_2004_03_Track03_wav.midi\n",
            "data/maestro-v2.0.0/selected_midi_files/MIDI-Unprocessed_XP_10_R1_2004_01-02_ORIG_MID--AUDIO_10_R1_2004_01_Track01_wav.midi\n",
            "data/maestro-v2.0.0/selected_midi_files/MIDI-Unprocessed_SMF_17_R1_2004_01-03_ORIG_MID--AUDIO_17_R1_2004_02_Track02_wav--2.midi\n",
            "data/maestro-v2.0.0/selected_midi_files/MIDI-Unprocessed_XP_16_R2_2004_01_ORIG_MID--AUDIO_16_R2_2004_03_Track03_wav.midi\n",
            "data/maestro-v2.0.0/selected_midi_files/MIDI-Unprocessed_SMF_13_01_2004_01-05_ORIG_MID--AUDIO_13_R1_2004_10_Track10_wav.midi\n",
            "data/maestro-v2.0.0/selected_midi_files/MIDI-Unprocessed_XP_16_R2_2004_01_ORIG_MID--AUDIO_16_R2_2004_04_Track04_wav.midi\n",
            "data/maestro-v2.0.0/selected_midi_files/MIDI-Unprocessed_SMF_12_01_2004_01-05_ORIG_MID--AUDIO_12_R1_2004_08_Track08_wav.midi\n",
            "data/maestro-v2.0.0/selected_midi_files/MIDI-Unprocessed_XP_01_R1_2004_01-02_ORIG_MID--AUDIO_01_R1_2004_03_Track03_wav.midi\n",
            "data/maestro-v2.0.0/selected_midi_files/MIDI-Unprocessed_SMF_16_R1_2004_01-08_ORIG_MID--AUDIO_16_R1_2004_04_Track04_wav.midi\n",
            "data/maestro-v2.0.0/selected_midi_files/MIDI-Unprocessed_SMF_12_01_2004_01-05_ORIG_MID--AUDIO_12_R1_2004_07_Track07_wav.midi\n",
            "data/maestro-v2.0.0/selected_midi_files/MIDI-Unprocessed_SMF_17_R1_2004_01-02_ORIG_MID--AUDIO_20_R2_2004_04_Track04_wav.midi\n",
            "data/maestro-v2.0.0/selected_midi_files/MIDI-Unprocessed_XP_21_R1_2004_02_ORIG_MID--AUDIO_21_R1_2004_02_Track02_wav.midi\n",
            "data/maestro-v2.0.0/selected_midi_files/MIDI-Unprocessed_XP_11_R1_2004_03-04_ORIG_MID--AUDIO_11_R1_2004_04_Track04_wav.midi\n",
            "data/maestro-v2.0.0/selected_midi_files/MIDI-Unprocessed_SMF_13_01_2004_01-05_ORIG_MID--AUDIO_13_R1_2004_08_Track08_wav.midi\n",
            "data/maestro-v2.0.0/selected_midi_files/MIDI-Unprocessed_XP_09_R1_2004_01-02_ORIG_MID--AUDIO_09_R1_2004_02_Track02_wav.midi\n",
            "data/maestro-v2.0.0/selected_midi_files/MIDI-Unprocessed_SMF_02_R1_2004_01-05_ORIG_MID--AUDIO_02_R1_2004_08_Track08_wav.midi\n",
            "data/maestro-v2.0.0/selected_midi_files/MIDI-Unprocessed_SMF_16_R1_2004_01-08_ORIG_MID--AUDIO_16_R1_2004_05_Track05_wav.midi\n",
            "data/maestro-v2.0.0/selected_midi_files/MIDI-Unprocessed_SMF_17_R1_2004_03-06_ORIG_MID--AUDIO_20_R2_2004_12_Track12_wav--1.midi\n",
            "data/maestro-v2.0.0/selected_midi_files/MIDI-Unprocessed_XP_20_R2_2004_01_ORIG_MID--AUDIO_20_R1_2004_02_Track02_wav.midi\n",
            "data/maestro-v2.0.0/selected_midi_files/MIDI-Unprocessed_SMF_05_R1_2004_01_ORIG_MID--AUDIO_05_R1_2004_03_Track03_wav.midi\n",
            "data/maestro-v2.0.0/selected_midi_files/MIDI-Unprocessed_XP_06_R1_2004_02-03_ORIG_MID--AUDIO_06_R1_2004_05_Track05_wav.midi\n",
            "data/maestro-v2.0.0/selected_midi_files/MIDI-Unprocessed_XP_19_R2_2004_01_ORIG_MID--AUDIO_19_R2_2004_01_Track01_wav.midi\n",
            "data/maestro-v2.0.0/selected_midi_files/MIDI-Unprocessed_SMF_02_R1_2004_01-05_ORIG_MID--AUDIO_02_R1_2004_10_Track10_wav.midi\n",
            "data/maestro-v2.0.0/selected_midi_files/MIDI-Unprocessed_XP_04_R1_2004_03-05_ORIG_MID--AUDIO_04_R1_2004_05_Track05_wav.midi\n",
            "data/maestro-v2.0.0/selected_midi_files/MIDI-Unprocessed_XP_14_R1_2004_04_ORIG_MID--AUDIO_14_R1_2004_06_Track06_wav.midi\n",
            "data/maestro-v2.0.0/selected_midi_files/MIDI-Unprocessed_XP_15_R2_2004_01_ORIG_MID--AUDIO_15_R2_2004_03_Track03_wav.midi\n",
            "data/maestro-v2.0.0/selected_midi_files/MIDI-Unprocessed_XP_14_R1_2004_04_ORIG_MID--AUDIO_14_R1_2004_05_Track05_wav.midi\n",
            "data/maestro-v2.0.0/selected_midi_files/MIDI-Unprocessed_XP_09_R1_2004_01-02_ORIG_MID--AUDIO_09_R1_2004_03_Track03_wav.midi\n",
            "data/maestro-v2.0.0/selected_midi_files/MIDI-Unprocessed_SMF_13_01_2004_01-05_ORIG_MID--AUDIO_13_R1_2004_09_Track09_wav.midi\n",
            "data/maestro-v2.0.0/selected_midi_files/MIDI-Unprocessed_XP_08_R1_2004_03_ORIG_MID--AUDIO_08_R1_2004_03_Track03_wav.midi\n",
            "data/maestro-v2.0.0/selected_midi_files/MIDI-Unprocessed_XP_03_R1_2004_01-02_ORIG_MID--AUDIO_03_R1_2004_01_Track01_wav.midi\n",
            "data/maestro-v2.0.0/selected_midi_files/MIDI-Unprocessed_XP_22_R2_2004_01_ORIG_MID--AUDIO_22_R2_2004_04_Track04_wav.midi\n",
            "data/maestro-v2.0.0/selected_midi_files/MIDI-Unprocessed_SMF_07_R1_2004_01_ORIG_MID--AUDIO_07_R1_2004_06_Track06_wav.midi\n",
            "data/maestro-v2.0.0/selected_midi_files/MIDI-Unprocessed_XP_14_R1_2004_04_ORIG_MID--AUDIO_14_R1_2004_04_Track04_wav.midi\n",
            "data/maestro-v2.0.0/selected_midi_files/MIDI-Unprocessed_XP_04_R1_2004_06_ORIG_MID--AUDIO_04_R1_2004_08_Track08_wav.midi\n",
            "data/maestro-v2.0.0/selected_midi_files/MIDI-Unprocessed_XP_04_R1_2004_03-05_ORIG_MID--AUDIO_04_R1_2004_04_Track04_wav.midi\n",
            "data/maestro-v2.0.0/selected_midi_files/MIDI-Unprocessed_XP_22_R2_2004_01_ORIG_MID--AUDIO_22_R2_2004_01_Track01_wav.midi\n",
            "data/maestro-v2.0.0/selected_midi_files/MIDI-Unprocessed_XP_09_R1_2004_01-02_ORIG_MID--AUDIO_09_R1_2004_01_Track01_wav.midi\n",
            "data/maestro-v2.0.0/selected_midi_files/MIDI-Unprocessed_XP_21_R1_2004_02_ORIG_MID--AUDIO_21_R1_2004_03_Track03_wav.midi\n",
            "data/maestro-v2.0.0/selected_midi_files/MIDI-Unprocessed_SMF_22_R1_2004_01-04_ORIG_MID--AUDIO_22_R1_2004_05_Track05_wav.midi\n",
            "data/maestro-v2.0.0/selected_midi_files/MIDI-Unprocessed_SMF_17_R1_2004_01-02_ORIG_MID--AUDIO_20_R2_2004_06_Track06_wav.midi\n",
            "data/maestro-v2.0.0/selected_midi_files/MIDI-Unprocessed_XP_08_R1_2004_04-06_ORIG_MID--AUDIO_08_R1_2004_05_Track05_wav--2.midi\n",
            "data/maestro-v2.0.0/selected_midi_files/MIDI-Unprocessed_XP_04_R1_2004_01-02_ORIG_MID--AUDIO_04_R1_2004_02_Track02_wav.midi\n",
            "data/maestro-v2.0.0/selected_midi_files/MIDI-Unprocessed_XP_01_R1_2004_04-05_ORIG_MID--AUDIO_01_R1_2004_06_Track06_wav.midi\n",
            "data/maestro-v2.0.0/selected_midi_files/MIDI-Unprocessed_SMF_07_R1_2004_01_ORIG_MID--AUDIO_07_R1_2004_02_Track02_wav.midi\n",
            "data/maestro-v2.0.0/selected_midi_files/MIDI-Unprocessed_XP_14_R2_2004_01_ORIG_MID--AUDIO_14_R2_2004_03_Track03_wav.midi\n",
            "data/maestro-v2.0.0/selected_midi_files/MIDI-Unprocessed_SMF_05_R1_2004_02-03_ORIG_MID--AUDIO_05_R1_2004_06_Track06_wav.midi\n",
            "data/maestro-v2.0.0/selected_midi_files/MIDI-Unprocessed_XP_14_R2_2004_01_ORIG_MID--AUDIO_14_R2_2004_02_Track02_wav.midi\n",
            "data/maestro-v2.0.0/selected_midi_files/MIDI-Unprocessed_SMF_16_R1_2004_01-08_ORIG_MID--AUDIO_16_R1_2004_02_Track02_wav.midi\n",
            "data/maestro-v2.0.0/selected_midi_files/MIDI-Unprocessed_XP_11_R1_2004_01-02_ORIG_MID--AUDIO_11_R1_2004_01_Track01_wav.midi\n",
            "data/maestro-v2.0.0/selected_midi_files/MIDI-Unprocessed_XP_19_R1_2004_01-02_ORIG_MID--AUDIO_19_R1_2004_02_Track02_wav.midi\n",
            "data/maestro-v2.0.0/selected_midi_files/MIDI-Unprocessed_SMF_13_01_2004_01-05_ORIG_MID--AUDIO_13_R1_2004_12_Track12_wav.midi\n",
            "data/maestro-v2.0.0/selected_midi_files/MIDI-Unprocessed_XP_08_R1_2004_01-02_ORIG_MID--AUDIO_08_R1_2004_01_Track01_wav.midi\n",
            "data/maestro-v2.0.0/selected_midi_files/MIDI-Unprocessed_SMF_12_01_2004_01-05_ORIG_MID--AUDIO_12_R1_2004_09_Track09_wav.midi\n",
            "data/maestro-v2.0.0/selected_midi_files/MIDI-Unprocessed_XP_19_R1_2004_01-02_ORIG_MID--AUDIO_19_R1_2004_01_Track01_wav.midi\n",
            "data/maestro-v2.0.0/selected_midi_files/MIDI-Unprocessed_XP_08_R1_2004_04-06_ORIG_MID--AUDIO_08_R1_2004_04_Track04_wav.midi\n",
            "data/maestro-v2.0.0/selected_midi_files/MIDI-Unprocessed_XP_06_R2_2004_01_ORIG_MID--AUDIO_06_R2_2004_02_Track02_wav.midi\n",
            "data/maestro-v2.0.0/selected_midi_files/MIDI-Unprocessed_XP_15_R2_2004_01_ORIG_MID--AUDIO_15_R2_2004_04_Track04_wav.midi\n",
            "data/maestro-v2.0.0/selected_midi_files/MIDI-Unprocessed_XP_15_R2_2004_01_ORIG_MID--AUDIO_15_R2_2004_02_Track02_wav.midi\n",
            "data/maestro-v2.0.0/selected_midi_files/MIDI-Unprocessed_XP_04_R1_2004_03-05_ORIG_MID--AUDIO_04_R1_2004_06_Track06_wav.midi\n",
            "data/maestro-v2.0.0/selected_midi_files/MIDI-Unprocessed_XP_20_R2_2004_01_ORIG_MID--AUDIO_20_R1_2004_03_Track03_wav.midi\n",
            "data/maestro-v2.0.0/selected_midi_files/MIDI-Unprocessed_XP_20_R2_2004_01_ORIG_MID--AUDIO_20_R1_2004_01_Track01_wav.midi\n",
            "data/maestro-v2.0.0/selected_midi_files/MIDI-Unprocessed_XP_01_R1_2004_04-05_ORIG_MID--AUDIO_01_R1_2004_05_Track05_wav.midi\n",
            "data/maestro-v2.0.0/selected_midi_files/MIDI-Unprocessed_SMF_07_R1_2004_01_ORIG_MID--AUDIO_07_R1_2004_12_Track12_wav.midi\n",
            "data/maestro-v2.0.0/selected_midi_files/MIDI-Unprocessed_XP_14_R1_2004_01-03_ORIG_MID--AUDIO_14_R1_2004_01_Track01_wav.midi\n",
            "data/maestro-v2.0.0/selected_midi_files/MIDI-Unprocessed_SMF_16_R1_2004_01-08_ORIG_MID--AUDIO_16_R1_2004_03_Track03_wav.midi\n",
            "data/maestro-v2.0.0/selected_midi_files/MIDI-Unprocessed_SMF_17_R1_2004_01-02_ORIG_MID--AUDIO_20_R2_2004_02_Track02_wav.midi\n",
            "data/maestro-v2.0.0/selected_midi_files/MIDI-Unprocessed_XP_19_R2_2004_01_ORIG_MID--AUDIO_19_R2_2004_02_Track02_wav.midi\n",
            "data/maestro-v2.0.0/selected_midi_files/MIDI-Unprocessed_XP_09_R1_2004_05_ORIG_MID--AUDIO_09_R1_2004_06_Track06_wav.midi\n",
            "data/maestro-v2.0.0/selected_midi_files/MIDI-Unprocessed_XP_15_R2_2004_01_ORIG_MID--AUDIO_15_R2_2004_01_Track01_wav.midi\n",
            "data/maestro-v2.0.0/selected_midi_files/MIDI-Unprocessed_XP_01_R1_2004_01-02_ORIG_MID--AUDIO_01_R1_2004_02_Track02_wav.midi\n",
            "data/maestro-v2.0.0/selected_midi_files/MIDI-Unprocessed_XP_17_R2_2004_01_ORIG_MID--AUDIO_17_R2_2004_01_Track01_wav.midi\n",
            "data/maestro-v2.0.0/selected_midi_files/MIDI-Unprocessed_SMF_17_R1_2004_01-03_ORIG_MID--AUDIO_17_R1_2004_03_Track03_wav.midi\n",
            "data/maestro-v2.0.0/selected_midi_files/MIDI-Unprocessed_XP_22_R2_2004_01_ORIG_MID--AUDIO_22_R2_2004_02_Track02_wav.midi\n",
            "data/maestro-v2.0.0/selected_midi_files/MIDI-Unprocessed_SMF_02_R1_2004_01-05_ORIG_MID--AUDIO_02_R1_2004_06_Track06_wav.midi\n",
            "data/maestro-v2.0.0/selected_midi_files/MIDI-Unprocessed_XP_16_R2_2004_01_ORIG_MID--AUDIO_16_R2_2004_02_Track02_wav.midi\n",
            "data/maestro-v2.0.0/selected_midi_files/MIDI-Unprocessed_XP_19_R2_2004_01_ORIG_MID--AUDIO_19_R2_2004_03_Track03_wav.midi\n",
            "data/maestro-v2.0.0/selected_midi_files/MIDI-Unprocessed_SMF_17_R1_2004_01-03_ORIG_MID--AUDIO_17_R1_2004_02_Track02_wav--1.midi\n",
            "data/maestro-v2.0.0/selected_midi_files/MIDI-Unprocessed_XP_18_R1_2004_01-02_ORIG_MID--AUDIO_18_R1_2004_03_Track03_wav.midi\n",
            "data/maestro-v2.0.0/selected_midi_files/MIDI-Unprocessed_XP_15_R1_2004_01-02_ORIG_MID--AUDIO_15_R1_2004_01_Track01_wav.midi\n",
            "data/maestro-v2.0.0/selected_midi_files/MIDI-Unprocessed_XP_09_R1_2004_05_ORIG_MID--AUDIO_09_R1_2004_08_Track08_wav.midi\n",
            "data/maestro-v2.0.0/selected_midi_files/MIDI-Unprocessed_SMF_17_R1_2004_04_ORIG_MID--AUDIO_17_R1_2004_11_Track11_wav.midi\n",
            "data/maestro-v2.0.0/selected_midi_files/MIDI-Unprocessed_XP_08_R1_2004_04-06_ORIG_MID--AUDIO_08_R1_2004_05_Track05_wav--1.midi\n",
            "data/maestro-v2.0.0/selected_midi_files/MIDI-Unprocessed_SMF_12_01_2004_01-05_ORIG_MID--AUDIO_12_R1_2004_10_Track10_wav.midi\n",
            "data/maestro-v2.0.0/selected_midi_files/MIDI-Unprocessed_XP_17_R2_2004_01_ORIG_MID--AUDIO_17_R2_2004_04_Track04_wav.midi\n",
            "data/maestro-v2.0.0/selected_midi_files/MIDI-Unprocessed_XP_11_R1_2004_03-04_ORIG_MID--AUDIO_11_R1_2004_03_Track03_wav.midi\n",
            "data/maestro-v2.0.0/selected_midi_files/MIDI-Unprocessed_XP_18_R1_2004_01-02_ORIG_MID--AUDIO_18_R1_2004_02_Track02_wav.midi\n",
            "data/maestro-v2.0.0/selected_midi_files/MIDI-Unprocessed_XP_17_R2_2004_01_ORIG_MID--AUDIO_17_R2_2004_02_Track02_wav.midi\n",
            "data/maestro-v2.0.0/selected_midi_files/MIDI-Unprocessed_SMF_17_R1_2004_01-03_ORIG_MID--AUDIO_17_R1_2004_06_Track06_wav.midi\n",
            "data/maestro-v2.0.0/selected_midi_files/MIDI-Unprocessed_SMF_16_R1_2004_01-08_ORIG_MID--AUDIO_16_R1_2004_06_Track06_wav.midi\n",
            "data/maestro-v2.0.0/selected_midi_files/MIDI-Unprocessed_XP_17_R2_2004_01_ORIG_MID--AUDIO_17_R2_2004_03_Track03_wav.midi\n",
            "data/maestro-v2.0.0/selected_midi_files/MIDI-Unprocessed_SMF_22_R1_2004_01-04_ORIG_MID--AUDIO_22_R1_2004_03_Track03_wav.midi\n",
            "data/maestro-v2.0.0/selected_midi_files/MIDI-Unprocessed_XP_18_R1_2004_01-02_ORIG_MID--AUDIO_18_R1_2004_04_Track04_wav.midi\n",
            "data/maestro-v2.0.0/selected_midi_files/MIDI-Unprocessed_XP_18_R1_2004_01-02_ORIG_MID--AUDIO_18_R1_2004_05_Track05_wav.midi\n",
            "data/maestro-v2.0.0/selected_midi_files/MIDI-Unprocessed_XP_06_R2_2004_01_ORIG_MID--AUDIO_06_R2_2004_03_Track03_wav.midi\n",
            "data/maestro-v2.0.0/selected_midi_files/MIDI-Unprocessed_SMF_17_R1_2004_03-06_ORIG_MID--AUDIO_20_R2_2004_08_Track08_wav.midi\n",
            "data/maestro-v2.0.0/selected_midi_files/MIDI-Unprocessed_XP_14_R2_2004_01_ORIG_MID--AUDIO_14_R2_2004_04_Track04_wav.midi\n",
            "data/maestro-v2.0.0/selected_midi_files/MIDI-Unprocessed_SMF_17_R1_2004_03-06_ORIG_MID--AUDIO_20_R2_2004_12_Track12_wav--2.midi\n",
            "data/maestro-v2.0.0/selected_midi_files/MIDI-Unprocessed_XP_09_R1_2004_05_ORIG_MID--AUDIO_09_R1_2004_07_Track07_wav.midi\n"
          ]
        }
      ]
    },
    {
      "cell_type": "code",
      "source": [
        "from miditok import REMI\n",
        "from pathlib import Path\n",
        "\n",
        "# A validation method to discard MIDIs we do not want\n",
        "def midi_valid(midi) -> bool:\n",
        "    if any(ts.numerator != 4 for ts in midi.time_signature_changes):\n",
        "        return False  # time signature different from 4/*, 4 beats per bar\n",
        "    if midi.max_tick < 10 * midi.ticks_per_beat:\n",
        "        return False  # this MIDI is too short\n",
        "    return True\n",
        "\n",
        "# Creates the tokenizer and list the file paths\n",
        "tokenizer = REMI(sos_eos=True)\n",
        "midi_paths = list(Path('/content/data/maestro-v2.0.0/selected_midi_files').glob('**/*.mid*'))\n",
        "\n",
        "# Converts MIDI files to tokens saved as JSON files\n",
        "tokenizer.tokenize_midi_dataset(\n",
        "    midi_paths,\n",
        "    Path('data/new_grand_midi_noBPE'),\n",
        "    midi_valid\n",
        ")\n",
        "\n",
        "# Learns the vocabulary with BPE\n",
        "tokenizer.learn_bpe(\n",
        "    'data/new_grand_midi_noBPE',\n",
        "    512,\n",
        "    'data/new_grand_midi_BPE'\n",
        ")\n",
        "\n",
        "# Converts the tokenized musics into tokens with BPE\n",
        "tokenizer.apply_bpe_to_dataset(Path('data/new_grand_midi_noBPE'), Path('data/new_grand_midi_BPE'))"
      ],
      "metadata": {
        "colab": {
          "base_uri": "https://localhost:8080/"
        },
        "id": "EVTC6UGSTmYn",
        "outputId": "584f8636-5a3a-494b-97fd-8aaa1e0e20b0"
      },
      "execution_count": null,
      "outputs": [
        {
          "output_type": "stream",
          "name": "stderr",
          "text": [
            "Tokenizing MIDIs (data/new_grand_midi_noBPE): 100%|██████████| 101/101 [00:48<00:00,  2.08it/s]\n",
            "Loading token files: 100%|██████████| 101/101 [00:00<00:00, 528.01it/s]\n",
            "Learning byte pair encoding: 100%|██████████| 292/292 [05:30<00:00,  1.13s/it, seq_len_variation=-30.73, avg_nb_token_combs=2.51, max_nb_token_combs=3]\n"
          ]
        },
        {
          "output_type": "stream",
          "name": "stdout",
          "text": [
            "Mean of original lengths: 15497.50495049505\n",
            "Mean length after BPE: 10734.356435643564\n",
            "Variation from original: -30.73 %\n"
          ]
        },
        {
          "output_type": "stream",
          "name": "stderr",
          "text": [
            "Applying BPE to dataset: 100%|██████████| 101/101 [01:13<00:00,  1.37it/s]\n"
          ]
        }
      ]
    },
    {
      "cell_type": "code",
      "source": [
        "import json\n",
        "import numpy as np\n",
        "import os\n",
        "from pathlib import Path\n",
        "\n",
        "output_folder = Path(\"/content/data/BPE_tokenized_data\")\n",
        "output_folder.mkdir(parents=True, exist_ok=True)\n",
        "\n",
        "# Turns all the json files from tokenization in a folder into numpy arrays\n",
        "def json_to_nparray(path):\n",
        "    for filename in os.listdir(path):\n",
        "        if filename.endswith('.json'):\n",
        "            with open(path + '/' + filename, \"r\") as f:\n",
        "                data = json.load(f)\n",
        "                np.save(output_folder / (filename[:-5] + '.npy'), np.array(data))  # Corrected the save path\n",
        "        continue\n",
        "\n",
        "json_to_nparray(\"/content/data/new_grand_midi_BPE\")"
      ],
      "metadata": {
        "id": "SJJIlwMeke3R"
      },
      "execution_count": null,
      "outputs": []
    },
    {
      "cell_type": "code",
      "source": [
        "path_tokens_BPE = \"/content/data/BPE_tokenized_data/\""
      ],
      "metadata": {
        "id": "pKJ4Z8cTlBgy"
      },
      "execution_count": null,
      "outputs": []
    },
    {
      "cell_type": "code",
      "source": [
        "def get_tokens(path): # function to get all tokens from the dataset and put them in a numpy array\n",
        "    to_shuffle = np.array(()) # to_shuffle aggregator for one piece\n",
        "    data = np.array(()) # data aggregator for one piece\n",
        "    piece_counter = 0\n",
        "\n",
        "    for filename in os.listdir(path):\n",
        "        if filename.endswith('.npy'):\n",
        "            to_shuffle = np.append(to_shuffle, np.load(path + filename, allow_pickle=True)[()])\n",
        "    np.random.shuffle(to_shuffle)\n",
        "\n",
        "    for i in range(len(to_shuffle)):\n",
        "        data = np.append(data, 1)\n",
        "        for j in range(len(to_shuffle[i].get('tokens'))):\n",
        "            data = np.append(data, to_shuffle[i].get('tokens')[j])\n",
        "        data = np.append(data, 2)\n",
        "        piece_counter += 1\n",
        "\n",
        "    return data, piece_counter\n",
        "\n",
        "tokens, piece_counter = get_tokens(path_tokens_BPE)\n",
        "\n",
        "np.save(path_tokens_BPE, tokens)"
      ],
      "metadata": {
        "id": "g-4-m1Pacz92"
      },
      "execution_count": null,
      "outputs": []
    },
    {
      "cell_type": "code",
      "source": [
        "import matplotlib.pyplot as plt\n",
        "# plot the distribution of the tokens\n",
        "print(f'Number of tokens: {tokenizer.len}')\n",
        "print(f'Missing tokens: {set(range(0, 512))-set(tokens)}')\n",
        "\n",
        "plt.figure(figsize=(10, 5))\n",
        "plt.hist(tokens, bins=500)\n",
        "plt.show()"
      ],
      "metadata": {
        "colab": {
          "base_uri": "https://localhost:8080/",
          "height": 369
        },
        "id": "ZX6Io2_LgniW",
        "outputId": "f09006ad-0866-40a8-a3ed-922851393b42"
      },
      "execution_count": null,
      "outputs": [
        {
          "output_type": "stream",
          "name": "stdout",
          "text": [
            "Number of tokens: 512\n",
            "Missing tokens: {0, 188, 121, 122, 123, 92}\n"
          ]
        },
        {
          "output_type": "display_data",
          "data": {
            "text/plain": [
              "<Figure size 1000x500 with 1 Axes>"
            ],
            "image/png": "[encoded data removed]"
          },
          "metadata": {}
        }
      ]
    },
    {
      "cell_type": "markdown",
      "source": [
        "# Ab hier alt"
      ],
      "metadata": {
        "id": "T5ec4jW8nqUW"
      }
    },
    {
      "cell_type": "code",
      "source": [
        "import os\n",
        "from miditok import REMI, TokenizerConfig\n",
        "from symusic import Score\n",
        "\n",
        "# Set up the tokenizer configuration\n",
        "config = TokenizerConfig(num_velocities=16, use_chords=True, use_programs=True)\n",
        "tokenizer = REMI()\n",
        "\n",
        "# Path to the folder containing MIDI files\n",
        "midi_files_dir = \"/content/data/maestro-v2.0.0/selected_midi_files\"\n",
        "\n",
        "# Path to the folder where token files will be saved\n",
        "tokens_dir = \"/content/data/maestro-v2.0.0/tokenized_midi_files\"\n",
        "output_path = os.path.join(data_dir, tokens_dir)\n",
        "\n",
        "if not os.path.exists(output_path):\n",
        "    os.makedirs(output_path)\n",
        "# Create the tokens folder if it doesn't exist\n",
        "os.makedirs(tokens_dir, exist_ok=True)\n",
        "\n",
        "# Iterate through each MIDI file in the folder\n",
        "for filename in os.listdir(midi_files_dir):\n",
        "    # Construct the full path to the MIDI file\n",
        "    midi_file_path = os.path.join(midi_files_dir, filename)\n",
        "\n",
        "    # Check if the item in the folder is a file (not a subdirectory)\n",
        "    if os.path.isfile(midi_file_path):\n",
        "        try:\n",
        "            # Load the MIDI file\n",
        "            midi = Score(midi_file_path)\n",
        "\n",
        "            # Tokenize the MIDI file\n",
        "            tokens = tokenizer(midi)\n",
        "\n",
        "            # Construct the path for the token file\n",
        "            tokens_file_path = os.path.join(tokens_dir, os.path.splitext(filename)[0] + \"_tokens.txt\")\n",
        "\n",
        "            # Save the tokens to the token file\n",
        "            with open(tokens_file_path, \"w\") as f:\n",
        "                f.write(str(tokens))\n",
        "\n",
        "            print(f\"Tokenization successful for {filename}. Tokens saved to {tokens_file_path}\")\n",
        "        except Exception as e:\n",
        "            print(f\"Error processing {filename}: {e}\")\n",
        "    else:\n",
        "        print(f\"{filename} is not a file\")"
      ],
      "metadata": {
        "colab": {
          "base_uri": "https://localhost:8080/"
        },
        "id": "iHmHFvsXqlup",
        "outputId": "ccd18d69-e7a8-49c8-98b5-126439fd0eae"
      },
      "execution_count": null,
      "outputs": [
        {
          "output_type": "stream",
          "name": "stdout",
          "text": [
            "Tokenization successful for MIDI-Unprocessed_XP_15_R2_2004_01_ORIG_MID--AUDIO_15_R2_2004_02_Track02_wav.midi. Tokens saved to /content/data/maestro-v2.0.0/tokenized_midi_files/MIDI-Unprocessed_XP_15_R2_2004_01_ORIG_MID--AUDIO_15_R2_2004_02_Track02_wav_tokens.txt\n",
            "Tokenization successful for MIDI-Unprocessed_XP_11_R1_2004_03-04_ORIG_MID--AUDIO_11_R1_2004_04_Track04_wav.midi. Tokens saved to /content/data/maestro-v2.0.0/tokenized_midi_files/MIDI-Unprocessed_XP_11_R1_2004_03-04_ORIG_MID--AUDIO_11_R1_2004_04_Track04_wav_tokens.txt\n",
            "Tokenization successful for MIDI-Unprocessed_XP_19_R2_2004_01_ORIG_MID--AUDIO_19_R2_2004_02_Track02_wav.midi. Tokens saved to /content/data/maestro-v2.0.0/tokenized_midi_files/MIDI-Unprocessed_XP_19_R2_2004_01_ORIG_MID--AUDIO_19_R2_2004_02_Track02_wav_tokens.txt\n",
            "Tokenization successful for MIDI-Unprocessed_SMF_17_R1_2004_01-03_ORIG_MID--AUDIO_17_R1_2004_02_Track02_wav--1.midi. Tokens saved to /content/data/maestro-v2.0.0/tokenized_midi_files/MIDI-Unprocessed_SMF_17_R1_2004_01-03_ORIG_MID--AUDIO_17_R1_2004_02_Track02_wav--1_tokens.txt\n",
            "Tokenization successful for MIDI-Unprocessed_XP_01_R1_2004_01-02_ORIG_MID--AUDIO_01_R1_2004_03_Track03_wav.midi. Tokens saved to /content/data/maestro-v2.0.0/tokenized_midi_files/MIDI-Unprocessed_XP_01_R1_2004_01-02_ORIG_MID--AUDIO_01_R1_2004_03_Track03_wav_tokens.txt\n",
            "Tokenization successful for MIDI-Unprocessed_XP_14_R2_2004_01_ORIG_MID--AUDIO_14_R2_2004_04_Track04_wav.midi. Tokens saved to /content/data/maestro-v2.0.0/tokenized_midi_files/MIDI-Unprocessed_XP_14_R2_2004_01_ORIG_MID--AUDIO_14_R2_2004_04_Track04_wav_tokens.txt\n",
            "Tokenization successful for MIDI-Unprocessed_XP_06_R2_2004_01_ORIG_MID--AUDIO_06_R2_2004_02_Track02_wav.midi. Tokens saved to /content/data/maestro-v2.0.0/tokenized_midi_files/MIDI-Unprocessed_XP_06_R2_2004_01_ORIG_MID--AUDIO_06_R2_2004_02_Track02_wav_tokens.txt\n",
            "Tokenization successful for MIDI-Unprocessed_XP_18_R1_2004_01-02_ORIG_MID--AUDIO_18_R1_2004_02_Track02_wav.midi. Tokens saved to /content/data/maestro-v2.0.0/tokenized_midi_files/MIDI-Unprocessed_XP_18_R1_2004_01-02_ORIG_MID--AUDIO_18_R1_2004_02_Track02_wav_tokens.txt\n",
            "Tokenization successful for MIDI-Unprocessed_SMF_16_R1_2004_01-08_ORIG_MID--AUDIO_16_R1_2004_02_Track02_wav.midi. Tokens saved to /content/data/maestro-v2.0.0/tokenized_midi_files/MIDI-Unprocessed_SMF_16_R1_2004_01-08_ORIG_MID--AUDIO_16_R1_2004_02_Track02_wav_tokens.txt\n",
            "Tokenization successful for MIDI-Unprocessed_XP_06_R2_2004_01_ORIG_MID--AUDIO_06_R2_2004_03_Track03_wav.midi. Tokens saved to /content/data/maestro-v2.0.0/tokenized_midi_files/MIDI-Unprocessed_XP_06_R2_2004_01_ORIG_MID--AUDIO_06_R2_2004_03_Track03_wav_tokens.txt\n",
            "Tokenization successful for MIDI-Unprocessed_XP_14_R1_2004_04_ORIG_MID--AUDIO_14_R1_2004_06_Track06_wav.midi. Tokens saved to /content/data/maestro-v2.0.0/tokenized_midi_files/MIDI-Unprocessed_XP_14_R1_2004_04_ORIG_MID--AUDIO_14_R1_2004_06_Track06_wav_tokens.txt\n",
            "Tokenization successful for MIDI-Unprocessed_SMF_17_R1_2004_01-02_ORIG_MID--AUDIO_20_R2_2004_04_Track04_wav.midi. Tokens saved to /content/data/maestro-v2.0.0/tokenized_midi_files/MIDI-Unprocessed_SMF_17_R1_2004_01-02_ORIG_MID--AUDIO_20_R2_2004_04_Track04_wav_tokens.txt\n",
            "Tokenization successful for MIDI-Unprocessed_SMF_13_01_2004_01-05_ORIG_MID--AUDIO_13_R1_2004_12_Track12_wav.midi. Tokens saved to /content/data/maestro-v2.0.0/tokenized_midi_files/MIDI-Unprocessed_SMF_13_01_2004_01-05_ORIG_MID--AUDIO_13_R1_2004_12_Track12_wav_tokens.txt\n",
            "Tokenization successful for MIDI-Unprocessed_XP_19_R2_2004_01_ORIG_MID--AUDIO_19_R2_2004_01_Track01_wav.midi. Tokens saved to /content/data/maestro-v2.0.0/tokenized_midi_files/MIDI-Unprocessed_XP_19_R2_2004_01_ORIG_MID--AUDIO_19_R2_2004_01_Track01_wav_tokens.txt\n",
            "Tokenization successful for MIDI-Unprocessed_XP_14_R2_2004_01_ORIG_MID--AUDIO_14_R2_2004_02_Track02_wav.midi. Tokens saved to /content/data/maestro-v2.0.0/tokenized_midi_files/MIDI-Unprocessed_XP_14_R2_2004_01_ORIG_MID--AUDIO_14_R2_2004_02_Track02_wav_tokens.txt\n",
            "Tokenization successful for MIDI-Unprocessed_XP_09_R1_2004_01-02_ORIG_MID--AUDIO_09_R1_2004_03_Track03_wav.midi. Tokens saved to /content/data/maestro-v2.0.0/tokenized_midi_files/MIDI-Unprocessed_XP_09_R1_2004_01-02_ORIG_MID--AUDIO_09_R1_2004_03_Track03_wav_tokens.txt\n",
            "Tokenization successful for MIDI-Unprocessed_XP_04_R1_2004_03-05_ORIG_MID--AUDIO_04_R1_2004_05_Track05_wav.midi. Tokens saved to /content/data/maestro-v2.0.0/tokenized_midi_files/MIDI-Unprocessed_XP_04_R1_2004_03-05_ORIG_MID--AUDIO_04_R1_2004_05_Track05_wav_tokens.txt\n",
            "Tokenization successful for MIDI-Unprocessed_XP_14_R1_2004_04_ORIG_MID--AUDIO_14_R1_2004_04_Track04_wav.midi. Tokens saved to /content/data/maestro-v2.0.0/tokenized_midi_files/MIDI-Unprocessed_XP_14_R1_2004_04_ORIG_MID--AUDIO_14_R1_2004_04_Track04_wav_tokens.txt\n",
            "Tokenization successful for MIDI-Unprocessed_XP_11_R1_2004_01-02_ORIG_MID--AUDIO_11_R1_2004_01_Track01_wav.midi. Tokens saved to /content/data/maestro-v2.0.0/tokenized_midi_files/MIDI-Unprocessed_XP_11_R1_2004_01-02_ORIG_MID--AUDIO_11_R1_2004_01_Track01_wav_tokens.txt\n",
            "Tokenization successful for MIDI-Unprocessed_SMF_17_R1_2004_01-02_ORIG_MID--AUDIO_20_R2_2004_06_Track06_wav.midi. Tokens saved to /content/data/maestro-v2.0.0/tokenized_midi_files/MIDI-Unprocessed_SMF_17_R1_2004_01-02_ORIG_MID--AUDIO_20_R2_2004_06_Track06_wav_tokens.txt\n",
            "Tokenization successful for MIDI-Unprocessed_XP_20_R2_2004_01_ORIG_MID--AUDIO_20_R1_2004_02_Track02_wav.midi. Tokens saved to /content/data/maestro-v2.0.0/tokenized_midi_files/MIDI-Unprocessed_XP_20_R2_2004_01_ORIG_MID--AUDIO_20_R1_2004_02_Track02_wav_tokens.txt\n",
            "Tokenization successful for MIDI-Unprocessed_SMF_22_R1_2004_01-04_ORIG_MID--AUDIO_22_R1_2004_05_Track05_wav.midi. Tokens saved to /content/data/maestro-v2.0.0/tokenized_midi_files/MIDI-Unprocessed_SMF_22_R1_2004_01-04_ORIG_MID--AUDIO_22_R1_2004_05_Track05_wav_tokens.txt\n",
            "Tokenization successful for MIDI-Unprocessed_XP_16_R2_2004_01_ORIG_MID--AUDIO_16_R2_2004_02_Track02_wav.midi. Tokens saved to /content/data/maestro-v2.0.0/tokenized_midi_files/MIDI-Unprocessed_XP_16_R2_2004_01_ORIG_MID--AUDIO_16_R2_2004_02_Track02_wav_tokens.txt\n",
            "Tokenization successful for MIDI-Unprocessed_XP_18_R1_2004_01-02_ORIG_MID--AUDIO_18_R1_2004_05_Track05_wav.midi. Tokens saved to /content/data/maestro-v2.0.0/tokenized_midi_files/MIDI-Unprocessed_XP_18_R1_2004_01-02_ORIG_MID--AUDIO_18_R1_2004_05_Track05_wav_tokens.txt\n",
            "Tokenization successful for MIDI-Unprocessed_XP_21_R1_2004_02_ORIG_MID--AUDIO_21_R1_2004_03_Track03_wav.midi. Tokens saved to /content/data/maestro-v2.0.0/tokenized_midi_files/MIDI-Unprocessed_XP_21_R1_2004_02_ORIG_MID--AUDIO_21_R1_2004_03_Track03_wav_tokens.txt\n",
            "Tokenization successful for MIDI-Unprocessed_XP_19_R1_2004_01-02_ORIG_MID--AUDIO_19_R1_2004_02_Track02_wav.midi. Tokens saved to /content/data/maestro-v2.0.0/tokenized_midi_files/MIDI-Unprocessed_XP_19_R1_2004_01-02_ORIG_MID--AUDIO_19_R1_2004_02_Track02_wav_tokens.txt\n",
            "Tokenization successful for MIDI-Unprocessed_XP_04_R1_2004_03-05_ORIG_MID--AUDIO_04_R1_2004_04_Track04_wav.midi. Tokens saved to /content/data/maestro-v2.0.0/tokenized_midi_files/MIDI-Unprocessed_XP_04_R1_2004_03-05_ORIG_MID--AUDIO_04_R1_2004_04_Track04_wav_tokens.txt\n",
            "Tokenization successful for MIDI-Unprocessed_SMF_17_R1_2004_01-02_ORIG_MID--AUDIO_20_R2_2004_02_Track02_wav.midi. Tokens saved to /content/data/maestro-v2.0.0/tokenized_midi_files/MIDI-Unprocessed_SMF_17_R1_2004_01-02_ORIG_MID--AUDIO_20_R2_2004_02_Track02_wav_tokens.txt\n",
            "Tokenization successful for MIDI-Unprocessed_XP_17_R2_2004_01_ORIG_MID--AUDIO_17_R2_2004_04_Track04_wav.midi. Tokens saved to /content/data/maestro-v2.0.0/tokenized_midi_files/MIDI-Unprocessed_XP_17_R2_2004_01_ORIG_MID--AUDIO_17_R2_2004_04_Track04_wav_tokens.txt\n",
            "Tokenization successful for MIDI-Unprocessed_XP_15_R2_2004_01_ORIG_MID--AUDIO_15_R2_2004_03_Track03_wav.midi. Tokens saved to /content/data/maestro-v2.0.0/tokenized_midi_files/MIDI-Unprocessed_XP_15_R2_2004_01_ORIG_MID--AUDIO_15_R2_2004_03_Track03_wav_tokens.txt\n",
            "Tokenization successful for MIDI-Unprocessed_XP_22_R2_2004_01_ORIG_MID--AUDIO_22_R2_2004_03_Track03_wav.midi. Tokens saved to /content/data/maestro-v2.0.0/tokenized_midi_files/MIDI-Unprocessed_XP_22_R2_2004_01_ORIG_MID--AUDIO_22_R2_2004_03_Track03_wav_tokens.txt\n",
            "Tokenization successful for MIDI-Unprocessed_SMF_05_R1_2004_02-03_ORIG_MID--AUDIO_05_R1_2004_06_Track06_wav.midi. Tokens saved to /content/data/maestro-v2.0.0/tokenized_midi_files/MIDI-Unprocessed_SMF_05_R1_2004_02-03_ORIG_MID--AUDIO_05_R1_2004_06_Track06_wav_tokens.txt\n",
            "Tokenization successful for MIDI-Unprocessed_SMF_17_R1_2004_01-03_ORIG_MID--AUDIO_17_R1_2004_03_Track03_wav.midi. Tokens saved to /content/data/maestro-v2.0.0/tokenized_midi_files/MIDI-Unprocessed_SMF_17_R1_2004_01-03_ORIG_MID--AUDIO_17_R1_2004_03_Track03_wav_tokens.txt\n",
            "Tokenization successful for MIDI-Unprocessed_SMF_07_R1_2004_01_ORIG_MID--AUDIO_07_R1_2004_02_Track02_wav.midi. Tokens saved to /content/data/maestro-v2.0.0/tokenized_midi_files/MIDI-Unprocessed_SMF_07_R1_2004_01_ORIG_MID--AUDIO_07_R1_2004_02_Track02_wav_tokens.txt\n",
            "Tokenization successful for MIDI-Unprocessed_XP_09_R1_2004_05_ORIG_MID--AUDIO_09_R1_2004_06_Track06_wav.midi. Tokens saved to /content/data/maestro-v2.0.0/tokenized_midi_files/MIDI-Unprocessed_XP_09_R1_2004_05_ORIG_MID--AUDIO_09_R1_2004_06_Track06_wav_tokens.txt\n"
          ]
        }
      ]
    },
    {
      "cell_type": "code",
      "source": [
        "from miditok import REMI, TokSequence\n",
        "from pathlib import Path\n",
        "from copy import deepcopy\n",
        "from tokenizers import ByteLevelBPETokenizer\n",
        "\n",
        "\n",
        "def midi_valid(midi) -> bool:\n",
        "    if any(ts.numerator != 4 for ts in midi.time_signature_changes):\n",
        "        return False  # time signature different from 4/*, 4 beats per bar\n",
        "    if midi.max_tick < 10 * midi.ticks_per_beat:\n",
        "        return False  # this MIDI is too short\n",
        "    return True\n",
        "\n",
        "# Paths to the MIDI files paths to where the tokens will be saved\n",
        "path_midi_files = '/content/data/maestro-v2.0.0/selected_midi_files'\n",
        "path_tokens_noBPE = '/content/data/maestro-v2.0.0/tokenized_midi_files'\n",
        "path_tokens_BPE = 'data/tokens_small_BPE/'\n",
        "\n",
        "if not os.path.exists(path_tokens_noBPE):\n",
        "    os.makedirs(path_tokens_noBPE)\n",
        "\n",
        "if not os.path.exists(path_tokens_BPE):\n",
        "    os.makedirs(path_tokens_BPE)\n",
        "\n",
        "\n",
        "# Creates the tokenizer and list the file paths\n",
        "tokenizer = REMI()\n",
        "midi_paths = list(Path(path_midi_files).glob('**/*.mid*'))\n",
        "\n",
        "# Converts MIDI files to tokens saved as JSON files\n",
        "tokenizer.tokenize_midi_dataset(\n",
        "    midi_paths,\n",
        "    Path(path_tokens_noBPE),\n",
        "    midi_valid\n",
        ")\n",
        "\n",
        "token_paths = list(Path('/content/data/tokens_small_noBPE').glob('**/*.json'))\n",
        "\n",
        "token_paths = [str(path) for path in token_paths]\n",
        "\n",
        "# Learns the vocabulary with BPE\n",
        "tokenizer.learn_bpe(\n",
        "    vocab_size=500,\n",
        "    iterator = token_paths,\n",
        "    out_dir=Path('/content/data/tokens_small_BPE'),\n",
        ")\n",
        "\n",
        "tokens = tokenizer.load_tokens(token_paths[0])\n",
        "tokens = TokSequence(ids=tokens)\n",
        "tokens_with_bpe = tokenizer.apply_bpe(tokens)\n",
        "tokens_no_bpe = tokenizer.decode_bpe(deepcopy(tokens_with_bpe))\n",
        "\n",
        "# Converts the tokenized musics into tokens with BPE\n",
        "tokenizer.apply_bpe_to_dataset(Path('/content/data/tokens_small_noBPE'), Path('data/tokens_small_BPE/'))\n",
        "\n",
        "# Opens tokens, apply BPE on them, and decode BPE back\n",
        "tokens = tokenizer.load_tokens(token_paths[0])\n",
        "#tokens = TokSequence(ids=tokens)\n",
        "tokens_with_bpe = tokenizer.apply_bpe(deepcopy(tokens))  # copy as the method is inplace\n",
        "#tokens_no_bpe = tokenizer.decode_bpe(deepcopy(tokens_with_bpe))\n",
        "\n",
        "# Converts the tokenized musics into tokens with BPE\n",
        "tokenizer.apply_bpe_to_dataset(Path('/content/data/tokens_small_noBPE'), Path('/content/data/tokens_small_BPE'))"
      ],
      "metadata": {
        "colab": {
          "base_uri": "https://localhost:8080/",
          "height": 234
        },
        "id": "3vOqw5hVpdjL",
        "outputId": "f98d3679-c1e8-4385-913e-7a4a6da26bf3"
      },
      "execution_count": null,
      "outputs": [
        {
          "output_type": "stream",
          "name": "stderr",
          "text": [
            "Tokenizing MIDIs (maestro-v2.0.0/tokenized_midi_files): 100%|██████████| 101/101 [00:11<00:00,  8.54it/s]\n"
          ]
        },
        {
          "output_type": "error",
          "ename": "IndexError",
          "evalue": "list index out of range",
          "traceback": [
            "\u001b[0;31m---------------------------------------------------------------------------\u001b[0m",
            "\u001b[0;31mIndexError\u001b[0m                                Traceback (most recent call last)",
            "\u001b[0;32m<ipython-input-14-b1c3d0cf5c2d>\u001b[0m in \u001b[0;36m<cell line: 48>\u001b[0;34m()\u001b[0m\n\u001b[1;32m     46\u001b[0m )\n\u001b[1;32m     47\u001b[0m \u001b[0;34m\u001b[0m\u001b[0m\n\u001b[0;32m---> 48\u001b[0;31m \u001b[0mtokens\u001b[0m \u001b[0;34m=\u001b[0m \u001b[0mtokenizer\u001b[0m\u001b[0;34m.\u001b[0m\u001b[0mload_tokens\u001b[0m\u001b[0;34m(\u001b[0m\u001b[0mtoken_paths\u001b[0m\u001b[0;34m[\u001b[0m\u001b[0;36m0\u001b[0m\u001b[0;34m]\u001b[0m\u001b[0;34m)\u001b[0m\u001b[0;34m\u001b[0m\u001b[0;34m\u001b[0m\u001b[0m\n\u001b[0m\u001b[1;32m     49\u001b[0m \u001b[0mtokens\u001b[0m \u001b[0;34m=\u001b[0m \u001b[0mTokSequence\u001b[0m\u001b[0;34m(\u001b[0m\u001b[0mids\u001b[0m\u001b[0;34m=\u001b[0m\u001b[0mtokens\u001b[0m\u001b[0;34m)\u001b[0m\u001b[0;34m\u001b[0m\u001b[0;34m\u001b[0m\u001b[0m\n\u001b[1;32m     50\u001b[0m \u001b[0mtokens_with_bpe\u001b[0m \u001b[0;34m=\u001b[0m \u001b[0mtokenizer\u001b[0m\u001b[0;34m.\u001b[0m\u001b[0mapply_bpe\u001b[0m\u001b[0;34m(\u001b[0m\u001b[0mtokens\u001b[0m\u001b[0;34m)\u001b[0m\u001b[0;34m\u001b[0m\u001b[0;34m\u001b[0m\u001b[0m\n",
            "\u001b[0;31mIndexError\u001b[0m: list index out of range"
          ]
        }
      ]
    },
    {
      "cell_type": "code",
      "source": [
        "import os\n",
        "from collections import Counter\n",
        "\n",
        "class BPE:\n",
        "    def __init__(self, vocab_size=1000):\n",
        "        self.vocab_size = vocab_size\n",
        "        self.vocab = {}\n",
        "\n",
        "    def train_from_files(self, corpus_dir, num_iters=10):\n",
        "        # Initialize vocabulary with characters\n",
        "        tokens = Counter()\n",
        "        for filename in os.listdir(corpus_dir):\n",
        "            with open(os.path.join(corpus_dir, filename), 'r', encoding='utf-8') as file:\n",
        "                text = file.read()\n",
        "                tokens.update(text)\n",
        "\n",
        "        self.vocab = {token: count for token, count in tokens.items() if count > 0}\n",
        "\n",
        "        for i in range(num_iters):\n",
        "            pairs = self._get_stats()\n",
        "            if not pairs:\n",
        "                break\n",
        "\n",
        "            best_pair = max(pairs, key=pairs.get)\n",
        "            self._merge_vocab(best_pair)\n",
        "\n",
        "    def _get_stats(self):\n",
        "        pairs = Counter()\n",
        "        for word, freq in self.vocab.items():\n",
        "            symbols = word.split()\n",
        "            for i in range(len(symbols) - 1):\n",
        "                pair = (symbols[i], symbols[i + 1])\n",
        "                pairs[pair] += freq\n",
        "        return pairs\n",
        "\n",
        "    def _merge_vocab(self, pair):\n",
        "        new_vocab = {}\n",
        "        bigram = ' '.join(pair)\n",
        "        replacement = ''.join(pair)\n",
        "\n",
        "        for word in self.vocab:\n",
        "            new_word = word.replace(bigram, replacement)\n",
        "            new_vocab[new_word] = self.vocab[word]\n",
        "        self.vocab = new_vocab\n",
        "\n",
        "    def tokenize(self, text):\n",
        "        tokens = text.split()\n",
        "        encoded_tokens = []\n",
        "        for token in tokens:\n",
        "            if token in self.vocab:\n",
        "                encoded_tokens.append(token)\n",
        "            else:\n",
        "                encoded_tokens.extend(self._split_token(token))\n",
        "        return encoded_tokens\n",
        "\n",
        "    def _split_token(self, token):\n",
        "        if len(token) == 1:\n",
        "            return [token]\n",
        "        pairs = [(token[i], token[i+1]) for i in range(len(token) - 1)]\n",
        "        split_tokens = []\n",
        "        for pair in pairs:\n",
        "            if pair in self.vocab:\n",
        "                split_tokens.append(''.join(pair))\n",
        "            else:\n",
        "                split_tokens.extend(pair)\n",
        "        return split_tokens\n",
        "\n",
        "# Example usage:\n",
        "corpus_dir = \"/content/data/maestro-v2.0.0/tokenized_midi_files\"\n",
        "bpe = BPE()\n",
        "bpe.train_from_files(corpus_dir)\n",
        "encoded_tokens = bpe.tokenize(\"/content/data/maestro-v2.0.0/tokenized_midi_files\")\n",
        "print(encoded_tokens)\n"
      ],
      "metadata": {
        "colab": {
          "base_uri": "https://localhost:8080/"
        },
        "id": "uxZ6lKIS8qyB",
        "outputId": "d032406f-2435-4391-ab6e-d58450befa4c"
      },
      "execution_count": null,
      "outputs": [
        {
          "output_type": "stream",
          "name": "stdout",
          "text": [
            "['/', 'c', 'c', 'o', 'o', 'n', 'n', 't', 't', 'e', 'e', 'n', 'n', 't', 't', '/', '/', 'd', 'd', 'a', 'a', 't', 't', 'a', 'a', '/', '/', 'm', 'm', 'a', 'a', 'e', 'e', 's', 's', 't', 't', 'r', 'r', 'o', 'o', '-', '-', 'v', 'v', '2', '2', '.', '.', '0', '0', '.', '.', '0', '0', '/', '/', 't', 't', 'o', 'o', 'k', 'k', 'e', 'e', 'n', 'n', 'i', 'i', 'z', 'z', 'e', 'e', 'd', 'd', '_', '_', 'm', 'm', 'i', 'i', 'd', 'd', 'i', 'i', '_', '_', 'f', 'f', 'i', 'i', 'l', 'l', 'e', 'e', 's']\n"
          ]
        }
      ]
    },
    {
      "cell_type": "code",
      "source": [
        "import os\n",
        "import json\n",
        "from tokenizers import ByteLevelBPETokenizer\n",
        "\n",
        "class BPE:\n",
        "    def __init__(self):\n",
        "        self.tokenizer = ByteLevelBPETokenizer()\n",
        "\n",
        "    def train_from_json_files(self, corpus_dir):\n",
        "        for filename in os.listdir(corpus_dir):\n",
        "            if filename.endswith('.json'):\n",
        "                with open(os.path.join(corpus_dir, filename), 'r', encoding='utf-8') as file:\n",
        "                    data = json.load(file)\n",
        "                    for item in data:\n",
        "                        text = item.get('text', '')  # Assuming each item has a 'text' key\n",
        "                        self.tokenizer.add_tokens(text)\n",
        "\n",
        "    def apply_bpe_encoding(self, text):\n",
        "        return self.tokenizer.encode(text).tokens\n",
        "\n",
        "# Example usage:\n",
        "corpus_dir = \"/content/data/maestro-v2.0.0/tokenized_midi_files\"\n",
        "bpe = BPE()\n",
        "bpe.train_from_json_files(corpus_dir)\n"
      ],
      "metadata": {
        "colab": {
          "base_uri": "https://localhost:8080/",
          "height": 305
        },
        "id": "SklMjipZ_SKC",
        "outputId": "85bd22e1-7177-4f80-f8e6-33c340b06b6f"
      },
      "execution_count": null,
      "outputs": [
        {
          "output_type": "error",
          "ename": "AttributeError",
          "evalue": "'str' object has no attribute 'get'",
          "traceback": [
            "\u001b[0;31m---------------------------------------------------------------------------\u001b[0m",
            "\u001b[0;31mAttributeError\u001b[0m                            Traceback (most recent call last)",
            "\u001b[0;32m<ipython-input-18-fa5353988d2f>\u001b[0m in \u001b[0;36m<cell line: 24>\u001b[0;34m()\u001b[0m\n\u001b[1;32m     22\u001b[0m \u001b[0mcorpus_dir\u001b[0m \u001b[0;34m=\u001b[0m \u001b[0;34m\"/content/data/maestro-v2.0.0/tokenized_midi_files\"\u001b[0m\u001b[0;34m\u001b[0m\u001b[0;34m\u001b[0m\u001b[0m\n\u001b[1;32m     23\u001b[0m \u001b[0mbpe\u001b[0m \u001b[0;34m=\u001b[0m \u001b[0mBPE\u001b[0m\u001b[0;34m(\u001b[0m\u001b[0;34m)\u001b[0m\u001b[0;34m\u001b[0m\u001b[0;34m\u001b[0m\u001b[0m\n\u001b[0;32m---> 24\u001b[0;31m \u001b[0mbpe\u001b[0m\u001b[0;34m.\u001b[0m\u001b[0mtrain_from_json_files\u001b[0m\u001b[0;34m(\u001b[0m\u001b[0mcorpus_dir\u001b[0m\u001b[0;34m)\u001b[0m\u001b[0;34m\u001b[0m\u001b[0;34m\u001b[0m\u001b[0m\n\u001b[0m",
            "\u001b[0;32m<ipython-input-18-fa5353988d2f>\u001b[0m in \u001b[0;36mtrain_from_json_files\u001b[0;34m(self, corpus_dir)\u001b[0m\n\u001b[1;32m     13\u001b[0m                     \u001b[0mdata\u001b[0m \u001b[0;34m=\u001b[0m \u001b[0mjson\u001b[0m\u001b[0;34m.\u001b[0m\u001b[0mload\u001b[0m\u001b[0;34m(\u001b[0m\u001b[0mfile\u001b[0m\u001b[0;34m)\u001b[0m\u001b[0;34m\u001b[0m\u001b[0;34m\u001b[0m\u001b[0m\n\u001b[1;32m     14\u001b[0m                     \u001b[0;32mfor\u001b[0m \u001b[0mitem\u001b[0m \u001b[0;32min\u001b[0m \u001b[0mdata\u001b[0m\u001b[0;34m:\u001b[0m\u001b[0;34m\u001b[0m\u001b[0;34m\u001b[0m\u001b[0m\n\u001b[0;32m---> 15\u001b[0;31m                         \u001b[0mtext\u001b[0m \u001b[0;34m=\u001b[0m \u001b[0mitem\u001b[0m\u001b[0;34m.\u001b[0m\u001b[0mget\u001b[0m\u001b[0;34m(\u001b[0m\u001b[0;34m'text'\u001b[0m\u001b[0;34m,\u001b[0m \u001b[0;34m''\u001b[0m\u001b[0;34m)\u001b[0m  \u001b[0;31m# Assuming each item has a 'text' key\u001b[0m\u001b[0;34m\u001b[0m\u001b[0;34m\u001b[0m\u001b[0m\n\u001b[0m\u001b[1;32m     16\u001b[0m                         \u001b[0mself\u001b[0m\u001b[0;34m.\u001b[0m\u001b[0mtokenizer\u001b[0m\u001b[0;34m.\u001b[0m\u001b[0madd_tokens\u001b[0m\u001b[0;34m(\u001b[0m\u001b[0mtext\u001b[0m\u001b[0;34m)\u001b[0m\u001b[0;34m\u001b[0m\u001b[0;34m\u001b[0m\u001b[0m\n\u001b[1;32m     17\u001b[0m \u001b[0;34m\u001b[0m\u001b[0m\n",
            "\u001b[0;31mAttributeError\u001b[0m: 'str' object has no attribute 'get'"
          ]
        }
      ]
    },
    {
      "cell_type": "code",
      "source": [
        "import os\n",
        "from collections import Counter\n",
        "\n",
        "class BPE:\n",
        "    def __init__(self, vocab_size=1000):\n",
        "        self.vocab_size = vocab_size\n",
        "        self.vocab = {}\n",
        "\n",
        "    def train_from_files(self, corpus_dir, num_iters=10):\n",
        "        # Initialize vocabulary with characters\n",
        "        tokens = Counter()\n",
        "        for filename in os.listdir(corpus_dir):\n",
        "            with open(os.path.join(corpus_dir, filename), 'r') as file:\n",
        "                text = file.read()\n",
        "                tokens.update(text.split())\n",
        "\n",
        "        self.vocab = {token: count for token, count in tokens.items() if count > 0}\n",
        "\n",
        "        for i in range(num_iters):\n",
        "            pairs = self._get_stats()\n",
        "            if not pairs:\n",
        "                break\n",
        "\n",
        "            best_pair = max(pairs, key=pairs.get)\n",
        "            self._merge_vocab(best_pair)\n",
        "\n",
        "    def tokenize_file(self, file_path):\n",
        "        with open(file_path, 'r') as file:\n",
        "            text = file.read()\n",
        "            return self.tokenize(text)\n",
        "\n",
        "    def _get_stats(self):\n",
        "        pairs = Counter()\n",
        "        for word, freq in self.vocab.items():\n",
        "            symbols = word.split()\n",
        "            for i in range(len(symbols) - 1):\n",
        "                pair = (symbols[i], symbols[i + 1])\n",
        "                pairs[pair] += freq\n",
        "        return pairs\n",
        "\n",
        "    def _merge_vocab(self, pair):\n",
        "        new_vocab = {}\n",
        "        bigram = ' '.join(pair)\n",
        "        replacement = ''.join(pair)\n",
        "\n",
        "        for word in self.vocab:\n",
        "            new_word = word.replace(bigram, replacement)\n",
        "            new_vocab[new_word] = self.vocab[word]\n",
        "        self.vocab = new_vocab\n",
        "\n",
        "    def tokenize(self, text):\n",
        "        tokens = text.split()\n",
        "        encoded_tokens = []\n",
        "        for token in tokens:\n",
        "            if token in self.vocab:\n",
        "                encoded_tokens.append(token)\n",
        "            else:\n",
        "                encoded_tokens.extend(self._split_token(token))\n",
        "        return encoded_tokens\n",
        "\n",
        "    def _split_token(self, token):\n",
        "        if len(token) == 1:\n",
        "            return [token]\n",
        "        pairs = [(token[i], token[i+1]) for i in range(len(token) - 1)]\n",
        "        split_tokens = []\n",
        "        for pair in pairs:\n",
        "            if pair in self.vocab:\n",
        "                split_tokens.append(''.join(pair))\n",
        "            else:\n",
        "                split_tokens.extend(pair)\n",
        "        return split_tokens\n",
        "\n",
        "# Example usage:\n",
        "corpus_dir = \"/content/data/maestro-v2.0.0/tokenized_midi_files\"\n",
        "bpe = BPE()\n",
        "bpe.train_from_files(corpus_dir)\n",
        "encoded_tokens = bpe.tokenize_file(os.path.join(corpus_dir, \"filename.txt\"))\n",
        "print(encoded_tokens)\n"
      ],
      "metadata": {
        "colab": {
          "base_uri": "https://localhost:8080/",
          "height": 323
        },
        "id": "38i-FoUe9x4m",
        "outputId": "64a85660-76ae-4a9d-ebaa-da2faa95bb57"
      },
      "execution_count": null,
      "outputs": [
        {
          "output_type": "error",
          "ename": "FileNotFoundError",
          "evalue": "[Errno 2] No such file or directory: '/content/data/maestro-v2.0.0/tokenized_midi_files/filename.txt'",
          "traceback": [
            "\u001b[0;31m---------------------------------------------------------------------------\u001b[0m",
            "\u001b[0;31mFileNotFoundError\u001b[0m                         Traceback (most recent call last)",
            "\u001b[0;32m<ipython-input-16-9672e3d11b5d>\u001b[0m in \u001b[0;36m<cell line: 77>\u001b[0;34m()\u001b[0m\n\u001b[1;32m     75\u001b[0m \u001b[0mbpe\u001b[0m \u001b[0;34m=\u001b[0m \u001b[0mBPE\u001b[0m\u001b[0;34m(\u001b[0m\u001b[0;34m)\u001b[0m\u001b[0;34m\u001b[0m\u001b[0;34m\u001b[0m\u001b[0m\n\u001b[1;32m     76\u001b[0m \u001b[0mbpe\u001b[0m\u001b[0;34m.\u001b[0m\u001b[0mtrain_from_files\u001b[0m\u001b[0;34m(\u001b[0m\u001b[0mcorpus_dir\u001b[0m\u001b[0;34m)\u001b[0m\u001b[0;34m\u001b[0m\u001b[0;34m\u001b[0m\u001b[0m\n\u001b[0;32m---> 77\u001b[0;31m \u001b[0mencoded_tokens\u001b[0m \u001b[0;34m=\u001b[0m \u001b[0mbpe\u001b[0m\u001b[0;34m.\u001b[0m\u001b[0mtokenize_file\u001b[0m\u001b[0;34m(\u001b[0m\u001b[0mos\u001b[0m\u001b[0;34m.\u001b[0m\u001b[0mpath\u001b[0m\u001b[0;34m.\u001b[0m\u001b[0mjoin\u001b[0m\u001b[0;34m(\u001b[0m\u001b[0mcorpus_dir\u001b[0m\u001b[0;34m,\u001b[0m \u001b[0;34m\"filename.txt\"\u001b[0m\u001b[0;34m)\u001b[0m\u001b[0;34m)\u001b[0m\u001b[0;34m\u001b[0m\u001b[0;34m\u001b[0m\u001b[0m\n\u001b[0m\u001b[1;32m     78\u001b[0m \u001b[0mprint\u001b[0m\u001b[0;34m(\u001b[0m\u001b[0mencoded_tokens\u001b[0m\u001b[0;34m)\u001b[0m\u001b[0;34m\u001b[0m\u001b[0;34m\u001b[0m\u001b[0m\n",
            "\u001b[0;32m<ipython-input-16-9672e3d11b5d>\u001b[0m in \u001b[0;36mtokenize_file\u001b[0;34m(self, file_path)\u001b[0m\n\u001b[1;32m     26\u001b[0m \u001b[0;34m\u001b[0m\u001b[0m\n\u001b[1;32m     27\u001b[0m     \u001b[0;32mdef\u001b[0m \u001b[0mtokenize_file\u001b[0m\u001b[0;34m(\u001b[0m\u001b[0mself\u001b[0m\u001b[0;34m,\u001b[0m \u001b[0mfile_path\u001b[0m\u001b[0;34m)\u001b[0m\u001b[0;34m:\u001b[0m\u001b[0;34m\u001b[0m\u001b[0;34m\u001b[0m\u001b[0m\n\u001b[0;32m---> 28\u001b[0;31m         \u001b[0;32mwith\u001b[0m \u001b[0mopen\u001b[0m\u001b[0;34m(\u001b[0m\u001b[0mfile_path\u001b[0m\u001b[0;34m,\u001b[0m \u001b[0;34m'r'\u001b[0m\u001b[0;34m)\u001b[0m \u001b[0;32mas\u001b[0m \u001b[0mfile\u001b[0m\u001b[0;34m:\u001b[0m\u001b[0;34m\u001b[0m\u001b[0;34m\u001b[0m\u001b[0m\n\u001b[0m\u001b[1;32m     29\u001b[0m             \u001b[0mtext\u001b[0m \u001b[0;34m=\u001b[0m \u001b[0mfile\u001b[0m\u001b[0;34m.\u001b[0m\u001b[0mread\u001b[0m\u001b[0;34m(\u001b[0m\u001b[0;34m)\u001b[0m\u001b[0;34m\u001b[0m\u001b[0;34m\u001b[0m\u001b[0m\n\u001b[1;32m     30\u001b[0m             \u001b[0;32mreturn\u001b[0m \u001b[0mself\u001b[0m\u001b[0;34m.\u001b[0m\u001b[0mtokenize\u001b[0m\u001b[0;34m(\u001b[0m\u001b[0mtext\u001b[0m\u001b[0;34m)\u001b[0m\u001b[0;34m\u001b[0m\u001b[0;34m\u001b[0m\u001b[0m\n",
            "\u001b[0;31mFileNotFoundError\u001b[0m: [Errno 2] No such file or directory: '/content/data/maestro-v2.0.0/tokenized_midi_files/filename.txt'"
          ]
        }
      ]
    },
    {
      "cell_type": "code",
      "source": [
        "from tokenizers import ByteLevelBPETokenizer\n",
        "\n",
        "# Step 1: Load tokenized data\n",
        "tokenized_data = '/content/data/tokens_small_noBPE'  # Your tokenized data\n",
        "\n",
        "# Step 2: Learn BPE encoding\n",
        "tokenizer = ByteLevelBPETokenizer()\n",
        "tokenizer.train_from_iterator(tokenized_data)\n",
        "\n",
        "# Step 3: Apply BPE encoding\n",
        "bpe_encoded_data = [tokenizer.encode(sequence).tokens for sequence in tokenized_data]\n",
        "\n",
        "print(bpe_encoded_data)"
      ],
      "metadata": {
        "colab": {
          "base_uri": "https://localhost:8080/"
        },
        "id": "DimLi-Zzt5QV",
        "outputId": "d43c5bf1-ece3-4156-850f-0cfeabbcbd78"
      },
      "execution_count": null,
      "outputs": [
        {
          "output_type": "stream",
          "name": "stdout",
          "text": [
            "[['/'], ['c'], ['o'], ['n'], ['t'], ['e'], ['n'], ['t'], ['/'], ['d'], ['a'], ['t'], ['a'], ['/'], ['t'], ['o'], ['k'], ['e'], ['n'], ['s'], ['_'], ['s'], ['m'], ['a'], ['l'], ['l'], ['_'], ['n'], ['o'], ['B'], ['P'], ['E']]\n"
          ]
        }
      ]
    },
    {
      "cell_type": "code",
      "source": [
        "tokenized_data = Path('/content/data/tokens_small_noBPE')  # Your tokenized data\n",
        "\n",
        "tokenizer = ByteLevelBPETokenizer()\n",
        "tokenizer.train_from_iterator(tokenized_data)\n",
        "\n",
        "bpe_encoded_data = [tokenizer.encode(sequence).tokens for sequence in tokenized_data]\n",
        "\n",
        "\n",
        "print(bpe_encoded_data)"
      ],
      "metadata": {
        "colab": {
          "base_uri": "https://localhost:8080/",
          "height": 359
        },
        "id": "wvrz1AB02qQC",
        "outputId": "1374c6e1-91dd-43e4-dd02-df0e861a14a8"
      },
      "execution_count": null,
      "outputs": [
        {
          "output_type": "error",
          "ename": "TypeError",
          "evalue": "'PosixPath' object is not iterable",
          "traceback": [
            "\u001b[0;31m---------------------------------------------------------------------------\u001b[0m",
            "\u001b[0;31mTypeError\u001b[0m                                 Traceback (most recent call last)",
            "\u001b[0;32m<ipython-input-46-3400c6e7c35d>\u001b[0m in \u001b[0;36m<cell line: 4>\u001b[0;34m()\u001b[0m\n\u001b[1;32m      2\u001b[0m \u001b[0;34m\u001b[0m\u001b[0m\n\u001b[1;32m      3\u001b[0m \u001b[0mtokenizer\u001b[0m \u001b[0;34m=\u001b[0m \u001b[0mByteLevelBPETokenizer\u001b[0m\u001b[0;34m(\u001b[0m\u001b[0;34m)\u001b[0m\u001b[0;34m\u001b[0m\u001b[0;34m\u001b[0m\u001b[0m\n\u001b[0;32m----> 4\u001b[0;31m \u001b[0mtokenizer\u001b[0m\u001b[0;34m.\u001b[0m\u001b[0mtrain_from_iterator\u001b[0m\u001b[0;34m(\u001b[0m\u001b[0mtokenized_data\u001b[0m\u001b[0;34m)\u001b[0m\u001b[0;34m\u001b[0m\u001b[0;34m\u001b[0m\u001b[0m\n\u001b[0m\u001b[1;32m      5\u001b[0m \u001b[0;34m\u001b[0m\u001b[0m\n\u001b[1;32m      6\u001b[0m \u001b[0mbpe_encoded_data\u001b[0m \u001b[0;34m=\u001b[0m \u001b[0;34m[\u001b[0m\u001b[0mtokenizer\u001b[0m\u001b[0;34m.\u001b[0m\u001b[0mencode\u001b[0m\u001b[0;34m(\u001b[0m\u001b[0msequence\u001b[0m\u001b[0;34m)\u001b[0m\u001b[0;34m.\u001b[0m\u001b[0mtokens\u001b[0m \u001b[0;32mfor\u001b[0m \u001b[0msequence\u001b[0m \u001b[0;32min\u001b[0m \u001b[0mtokenized_data\u001b[0m\u001b[0;34m]\u001b[0m\u001b[0;34m\u001b[0m\u001b[0;34m\u001b[0m\u001b[0m\n",
            "\u001b[0;32m/usr/local/lib/python3.10/dist-packages/tokenizers/implementations/byte_level_bpe.py\u001b[0m in \u001b[0;36mtrain_from_iterator\u001b[0;34m(self, iterator, vocab_size, min_frequency, show_progress, special_tokens, length)\u001b[0m\n\u001b[1;32m    116\u001b[0m             \u001b[0minitial_alphabet\u001b[0m\u001b[0;34m=\u001b[0m\u001b[0mpre_tokenizers\u001b[0m\u001b[0;34m.\u001b[0m\u001b[0mByteLevel\u001b[0m\u001b[0;34m.\u001b[0m\u001b[0malphabet\u001b[0m\u001b[0;34m(\u001b[0m\u001b[0;34m)\u001b[0m\u001b[0;34m,\u001b[0m\u001b[0;34m\u001b[0m\u001b[0;34m\u001b[0m\u001b[0m\n\u001b[1;32m    117\u001b[0m         )\n\u001b[0;32m--> 118\u001b[0;31m         self._tokenizer.train_from_iterator(\n\u001b[0m\u001b[1;32m    119\u001b[0m             \u001b[0miterator\u001b[0m\u001b[0;34m,\u001b[0m\u001b[0;34m\u001b[0m\u001b[0;34m\u001b[0m\u001b[0m\n\u001b[1;32m    120\u001b[0m             \u001b[0mtrainer\u001b[0m\u001b[0;34m=\u001b[0m\u001b[0mtrainer\u001b[0m\u001b[0;34m,\u001b[0m\u001b[0;34m\u001b[0m\u001b[0;34m\u001b[0m\u001b[0m\n",
            "\u001b[0;31mTypeError\u001b[0m: 'PosixPath' object is not iterable"
          ]
        }
      ]
    },
    {
      "cell_type": "code",
      "source": [
        "\n",
        "\n",
        "def midi_valid(midi) -> bool:\n",
        "    if any(ts.numerator != 4 for ts in midi.time_signature_changes):\n",
        "        return False  # time signature different from 4/*, 4 beats per bar\n",
        "    if midi.max_tick < 10 * midi.ticks_per_beat:\n",
        "        return False  # this MIDI is too short\n",
        "    return True\n",
        "\n",
        "# Paths to the MIDI files paths to where the tokens will be saved\n",
        "path_midi_files = '/content/data/maestro-v2.0.0/selected_midi_files'\n",
        "path_tokens_noBPE = 'data/tokens_small_noBPE/'\n",
        "path_tokens_BPE = 'data/tokens_small_BPE/'\n",
        "\n",
        "if not os.path.exists(path_tokens_noBPE):\n",
        "    os.makedirs(output_path)\n",
        "\n",
        "if not os.path.exists(output_path):\n",
        "    os.makedirs(output_path)\n",
        "\n",
        "\n",
        "# Creates the tokenizer and list the file paths\n",
        "tokenizer = REMI()\n",
        "midi_paths = list(Path(path_midi_files).glob('**/*.mid*'))\n",
        "\n",
        "# Converts MIDI files to tokens saved as JSON files\n",
        "tokenizer.tokenize_midi_dataset(\n",
        "    midi_paths,\n",
        "    Path(path_tokens_noBPE),\n",
        "    midi_valid\n",
        ")\n",
        "\n",
        "# Learns the vocabulary with BPE\n",
        "tokenizer.learn_bpe(\n",
        "    500,\n",
        "    midi_paths,\n",
        "    files_paths=path_tokens_noBPE,\n",
        ")\n",
        "# Applies the learned BPE to the non-BPE tokens\n",
        "tokenizer.apply_bpe_to_dataset(Path(path_tokens_noBPE), Path(path_tokens_BPE))"
      ],
      "metadata": {
        "id": "OfAglI94rMmD"
      },
      "execution_count": null,
      "outputs": []
    },
    {
      "cell_type": "code",
      "source": [
        "from miditok import REMI, TokSequence\n",
        "from pathlib import Path\n",
        "from copy import deepcopy\n",
        "\n",
        "tokenizer = REMI()  # using defaults parameters (constants.py)\n",
        "token_paths = list(Path('/content/data/tokens_small_noBPE').glob('**/*.json'))\n",
        "\n",
        "token_paths = [str(path) for path in token_paths]\n",
        "\n",
        "# Learns the vocabulary with BPE\n",
        "tokenizer.learn_bpe(\n",
        "    vocab_size=500,\n",
        "    iterator = token_paths,\n",
        "    out_dir=Path('/content/data/tokens_small_BPE'),\n",
        ")\n",
        "\n",
        "# Opens tokens, apply BPE on them, and decode BPE back\n",
        "tokens = tokenizer.load_tokens(token_paths[0])\n",
        "tokens = TokSequence(ids=tokens)\n",
        "tokens_with_bpe = tokenizer.apply_bpe(deepcopy(tokens))  # copy as the method is inplace\n",
        "tokens_no_bpe = tokenizer.decode_bpe(deepcopy(tokens_with_bpe))\n",
        "\n",
        "# Converts the tokenized musics into tokens with BPE\n",
        "tokenizer.apply_bpe_to_dataset(Path('/content/data/tokens_small_noBPE'), Path('/content/data/tokens_small_BPE'))"
      ],
      "metadata": {
        "id": "sZvIPghuq6na"
      },
      "execution_count": null,
      "outputs": []
    },
    {
      "cell_type": "code",
      "source": [
        "from miditok import REMI\n",
        "from pathlib import Path\n",
        "\n",
        "# Creates the tokenizer and list the file paths\n",
        "tokenizer = REMI()  # using defaults parameters (constants.py)\n",
        "midi_paths = list(Path(\"/content/data/maestro-v2.0.0/selected_midi_files\").glob(\"**/*.mid\"))\n",
        "\n",
        "# Builds the vocabulary with BPE\n",
        "output = tokenizer.learn_bpe(vocab_size=30000, files_paths=midi_paths)\n",
        "\n",
        "print(output)"
      ],
      "metadata": {
        "colab": {
          "base_uri": "https://localhost:8080/"
        },
        "id": "ADYW2J-OPhHj",
        "outputId": "18581d1b-9a26-4109-d42c-26cdb6e361e8"
      },
      "execution_count": null,
      "outputs": [
        {
          "output_type": "stream",
          "name": "stdout",
          "text": [
            "None\n"
          ]
        }
      ]
    },
    {
      "cell_type": "code",
      "source": [
        "from miditok import REMI\n",
        "from pathlib import Path\n",
        "\n",
        "# Creates the tokenizer and lists the file paths\n",
        "tokenizer = REMI()\n",
        "midi_paths = list(Path(\"/content/data/maestro-v2.0.0/selected_midi_files\").glob(\"**/*.mid\"))\n",
        "\n",
        "# Builds the vocabulary with BPE\n",
        "tokenizer.learn_bpe(vocab_size=30000, files_paths=midi_paths)\n",
        "\n",
        "# Create a new folder to save the tokenized data\n",
        "output_folder = Path(\"/content/data/BPE_tokenized_data\")\n",
        "output_folder.mkdir(parents=True, exist_ok=True)\n",
        "\n",
        "# Tokenize and save the MIDI files\n",
        "for midi_path in midi_paths:\n",
        "    output_path = output_folder / midi_path.relative_to(\"/content/data/maestro-v2.0.0/selected_midi_files\").with_suffix(\".tokens\")\n",
        "    tokenizer.tokenize_file(midi_path, output_path)\n"
      ],
      "metadata": {
        "id": "dljKbc_sH513"
      },
      "execution_count": null,
      "outputs": []
    },
    {
      "cell_type": "code",
      "source": [
        "from miditok import REMI, bpe\n",
        "from pathlib import Path\n",
        "\n",
        "# Creates the tokenizer and list the file paths\n",
        "tokenizer = REMI()  # using defaults parameters (constants.py), with MASK tokens for pre-training\n",
        "paths = list(Path('/content/data/maestro-v2.0.0/selected_midi_files').glob('**/*.midi'))\n",
        "\n",
        "# A validation method to discard MIDIs we do not want\n",
        "# It can also be used for custom pre-processing, for instance if you want to merge\n",
        "# some tracks before tokenizing a MIDI file\n",
        "def midi_valid(midi) -> bool:\n",
        "    if any(ts.numerator != 4 for ts in midi.time_signature_changes):\n",
        "        return False  # time signature different from 4/*, 4 beats per bar\n",
        "    if midi.max_tick < 10 * midi.ticks_per_beat:\n",
        "        return False  # this MIDI is too short\n",
        "    return True\n",
        "\n",
        "# Converts MIDI files to tokens saved as JSON files\n",
        "tokenizer.tokenize_midi_dataset(paths, '/content/data/BPE_tokenized_data', midi_valid)\n",
        "\n",
        "# Creates the tokenizer, bpe method takes a class and its constructor arguments as arguments\n",
        "tokenizer = bpe(REMI)  # as is, its exactly like a standard REMI tokenizer\n",
        "midi_paths = list(Path('/content/data/maestro-v2.0.0/selected_midi_files').glob('**/*.midi'))\n",
        "tokenizer.tokenize_midi_dataset(midi_paths, Path('/content/data/BPE_tokenized_data'))\n",
        "\n",
        "# Constructs the vocabulary with BPE\n",
        "tokenizer.bpe(tokens_path=Path('/content/data/BPE_tokenized_data'), vocab_size=500,\n",
        "              out_dir=Path('/content/data/BPE_tokenized_data'), files_lim=300)\n",
        "\n",
        "# Converts the tokenized musics into tokens with BPE\n",
        "tokenizer.apply_bpe_to_dataset(Path('/content/data/BPE_tokenized_data'), Path('/content/data/BPE_tokenized_data'))"
      ],
      "metadata": {
        "id": "q-LxbPuPKSzm",
        "colab": {
          "base_uri": "https://localhost:8080/",
          "height": 419
        },
        "outputId": "fa5cec3f-6b62-42e7-b2dc-e1bc8c7775d7"
      },
      "execution_count": null,
      "outputs": [
        {
          "output_type": "error",
          "ename": "ImportError",
          "evalue": "cannot import name 'bpe' from 'miditok' (/usr/local/lib/python3.10/dist-packages/miditok/__init__.py)",
          "traceback": [
            "\u001b[0;31m---------------------------------------------------------------------------\u001b[0m",
            "\u001b[0;31mImportError\u001b[0m                               Traceback (most recent call last)",
            "\u001b[0;32m<ipython-input-8-c2876e8f36e6>\u001b[0m in \u001b[0;36m<cell line: 1>\u001b[0;34m()\u001b[0m\n\u001b[0;32m----> 1\u001b[0;31m \u001b[0;32mfrom\u001b[0m \u001b[0mmiditok\u001b[0m \u001b[0;32mimport\u001b[0m \u001b[0mREMI\u001b[0m\u001b[0;34m,\u001b[0m \u001b[0mbpe\u001b[0m\u001b[0;34m\u001b[0m\u001b[0;34m\u001b[0m\u001b[0m\n\u001b[0m\u001b[1;32m      2\u001b[0m \u001b[0;32mfrom\u001b[0m \u001b[0mpathlib\u001b[0m \u001b[0;32mimport\u001b[0m \u001b[0mPath\u001b[0m\u001b[0;34m\u001b[0m\u001b[0;34m\u001b[0m\u001b[0m\n\u001b[1;32m      3\u001b[0m \u001b[0;34m\u001b[0m\u001b[0m\n\u001b[1;32m      4\u001b[0m \u001b[0;31m# Creates the tokenizer and list the file paths\u001b[0m\u001b[0;34m\u001b[0m\u001b[0;34m\u001b[0m\u001b[0m\n\u001b[1;32m      5\u001b[0m \u001b[0mtokenizer\u001b[0m \u001b[0;34m=\u001b[0m \u001b[0mREMI\u001b[0m\u001b[0;34m(\u001b[0m\u001b[0;34m)\u001b[0m  \u001b[0;31m# using defaults parameters (constants.py), with MASK tokens for pre-training\u001b[0m\u001b[0;34m\u001b[0m\u001b[0;34m\u001b[0m\u001b[0m\n",
            "\u001b[0;31mImportError\u001b[0m: cannot import name 'bpe' from 'miditok' (/usr/local/lib/python3.10/dist-packages/miditok/__init__.py)",
            "",
            "\u001b[0;31m---------------------------------------------------------------------------\u001b[0;32m\nNOTE: If your import is failing due to a missing package, you can\nmanually install dependencies using either !pip or !apt.\n\nTo view examples of installing some common dependencies, click the\n\"Open Examples\" button below.\n\u001b[0;31m---------------------------------------------------------------------------\u001b[0m\n"
          ],
          "errorDetails": {
            "actions": [
              {
                "action": "open_url",
                "actionText": "Open Examples",
                "url": "/notebooks/snippets/importing_libraries.ipynb"
              }
            ]
          }
        }
      ]
    },
    {
      "cell_type": "code",
      "source": [
        "from miditok import REMI, TokenizerConfig, TokSequence\n",
        "from copy import deepcopy\n",
        "from pathlib import Path\n",
        "\n",
        "\n",
        "tokenizer = REMI(TokenizerConfig(use_programs=True))\n",
        "paths_midis = list(Path(\"/content/data/maestro-v2.0.0/selected_midi_files\").glob('**/*.mid'))\n",
        "\n",
        "# Learns the vocabulary with BPE\n",
        "tokenizer.learn_bpe(\n",
        "    vocab_size= 500,\n",
        "    files_paths=paths_midis,\n",
        ")"
      ],
      "metadata": {
        "id": "Y6V8asgsRwio"
      },
      "execution_count": null,
      "outputs": []
    },
    {
      "cell_type": "code",
      "source": [
        "import miditok\n",
        "\n",
        "data = list(Path('/content/data/maestro-v2.0.0/tokenized_midi_files'))\n",
        "miditok.MIDITokenizer.apply_bpe(data)"
      ],
      "metadata": {
        "colab": {
          "base_uri": "https://localhost:8080/",
          "height": 193
        },
        "id": "EeBwIWXOUqCU",
        "outputId": "5780d942-5efd-4f61-cc0a-67e9124a90bc"
      },
      "execution_count": null,
      "outputs": [
        {
          "output_type": "error",
          "ename": "TypeError",
          "evalue": "'PosixPath' object is not iterable",
          "traceback": [
            "\u001b[0;31m---------------------------------------------------------------------------\u001b[0m",
            "\u001b[0;31mTypeError\u001b[0m                                 Traceback (most recent call last)",
            "\u001b[0;32m<ipython-input-10-01fcb592ca2a>\u001b[0m in \u001b[0;36m<cell line: 3>\u001b[0;34m()\u001b[0m\n\u001b[1;32m      1\u001b[0m \u001b[0;32mimport\u001b[0m \u001b[0mmiditok\u001b[0m\u001b[0;34m\u001b[0m\u001b[0;34m\u001b[0m\u001b[0m\n\u001b[1;32m      2\u001b[0m \u001b[0;34m\u001b[0m\u001b[0m\n\u001b[0;32m----> 3\u001b[0;31m \u001b[0mdata\u001b[0m \u001b[0;34m=\u001b[0m \u001b[0mlist\u001b[0m\u001b[0;34m(\u001b[0m\u001b[0mPath\u001b[0m\u001b[0;34m(\u001b[0m\u001b[0;34m'/content/data/maestro-v2.0.0/tokenized_midi_files'\u001b[0m\u001b[0;34m)\u001b[0m\u001b[0;34m)\u001b[0m\u001b[0;34m\u001b[0m\u001b[0;34m\u001b[0m\u001b[0m\n\u001b[0m\u001b[1;32m      4\u001b[0m \u001b[0mmiditok\u001b[0m\u001b[0;34m.\u001b[0m\u001b[0mMIDITokenizer\u001b[0m\u001b[0;34m.\u001b[0m\u001b[0mapply_bpe\u001b[0m\u001b[0;34m(\u001b[0m\u001b[0mdata\u001b[0m\u001b[0;34m)\u001b[0m\u001b[0;34m\u001b[0m\u001b[0;34m\u001b[0m\u001b[0m\n",
            "\u001b[0;31mTypeError\u001b[0m: 'PosixPath' object is not iterable"
          ]
        }
      ]
    },
    {
      "cell_type": "code",
      "source": [],
      "metadata": {
        "id": "0yr6VBhlVQzF"
      },
      "execution_count": null,
      "outputs": []
    }
  ]
}