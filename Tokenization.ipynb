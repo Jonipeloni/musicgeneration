{
  "cells": [
    {
      "cell_type": "markdown",
      "metadata": {
        "colab_type": "text",
        "id": "view-in-github"
      },
      "source": [
        "## Imports"
      ]
    },
    {
      "cell_type": "code",
      "execution_count": 15,
      "metadata": {
        "id": "bRO_e6nRjfvz"
      },
      "outputs": [],
      "source": [
        "import os\n",
        "import shutil\n",
        "import numpy as np\n",
        "import pretty_midi\n",
        "import pathlib\n",
        "import collections\n",
        "from miditok import REMI\n",
        "import glob"
      ]
    },
    {
      "cell_type": "markdown",
      "metadata": {
        "id": "NA7a8dB2z4Kc"
      },
      "source": [
        "# Loading Data"
      ]
    },
    {
      "cell_type": "code",
      "execution_count": 16,
      "metadata": {
        "colab": {
          "base_uri": "https://localhost:8080/"
        },
        "id": "2CH_AUwejTgg",
        "outputId": "d0ef0a99-6ff1-470d-a72d-c7a9f015d2c2"
      },
      "outputs": [],
      "source": [
        "data_dir = pathlib.Path('maestro-v2.0.0')"
      ]
    },
    {
      "cell_type": "markdown",
      "metadata": {
        "id": "UDoqu2pir3oK"
      },
      "source": [
        "# Teilmenge des Datasets wählen"
      ]
    },
    {
      "cell_type": "markdown",
      "metadata": {
        "id": "R2CVOvSxzpxa"
      },
      "source": [
        "#"
      ]
    },
    {
      "cell_type": "code",
      "execution_count": 17,
      "metadata": {},
      "outputs": [],
      "source": [
        "#Hier den Ordner wählen, den es zu tokenizen gilt\n",
        "paths = glob.glob(\"maestro-v2.0.0/2008/*.mid*\")# + glob.glob(\"maestro-v2.0.0/2006/*.mid*\") + glob.glob(\"maestro-v2.0.0/2008/*.mid*\")"
      ]
    },
    {
      "cell_type": "markdown",
      "metadata": {},
      "source": [
        "## Lists Midi files with appropriate length and Timesignature"
      ]
    },
    {
      "cell_type": "code",
      "execution_count": 18,
      "metadata": {
        "colab": {
          "base_uri": "https://localhost:8080/"
        },
        "id": "RQAaeIpGkMWY",
        "outputId": "1d81014b-319a-4ac2-924d-d78b13066cf9"
      },
      "outputs": [
        {
          "name": "stdout",
          "output_type": "stream",
          "text": [
            "maestro-v2.0.0/2008\\MIDI-Unprocessed_01_R1_2008_01-04_ORIG_MID--AUDIO_01_R1_2008_wav--1.midi\n",
            "maestro-v2.0.0/2008\\MIDI-Unprocessed_01_R1_2008_01-04_ORIG_MID--AUDIO_01_R1_2008_wav--2.midi\n",
            "maestro-v2.0.0/2008\\MIDI-Unprocessed_01_R1_2008_01-04_ORIG_MID--AUDIO_01_R1_2008_wav--3.midi\n",
            "maestro-v2.0.0/2008\\MIDI-Unprocessed_02_R1_2008_01-05_ORIG_MID--AUDIO_02_R1_2008_wav--1.midi\n",
            "maestro-v2.0.0/2008\\MIDI-Unprocessed_02_R1_2008_01-05_ORIG_MID--AUDIO_02_R1_2008_wav--2.midi\n",
            "maestro-v2.0.0/2008\\MIDI-Unprocessed_02_R1_2008_01-05_ORIG_MID--AUDIO_02_R1_2008_wav--4.midi\n",
            "maestro-v2.0.0/2008\\MIDI-Unprocessed_02_R1_2008_01-05_ORIG_MID--AUDIO_02_R1_2008_wav--5.midi\n",
            "maestro-v2.0.0/2008\\MIDI-Unprocessed_02_R2_2008_01-05_ORIG_MID--AUDIO_02_R2_2008_wav--1.midi\n",
            "maestro-v2.0.0/2008\\MIDI-Unprocessed_02_R2_2008_01-05_ORIG_MID--AUDIO_02_R2_2008_wav--3.midi\n",
            "maestro-v2.0.0/2008\\MIDI-Unprocessed_02_R2_2008_01-05_ORIG_MID--AUDIO_02_R2_2008_wav--4.midi\n",
            "maestro-v2.0.0/2008\\MIDI-Unprocessed_02_R2_2008_01-05_ORIG_MID--AUDIO_02_R2_2008_wav--5.midi\n",
            "maestro-v2.0.0/2008\\MIDI-Unprocessed_02_R3_2008_01-03_ORIG_MID--AUDIO_02_R3_2008_wav--1.midi\n",
            "maestro-v2.0.0/2008\\MIDI-Unprocessed_02_R3_2008_01-03_ORIG_MID--AUDIO_02_R3_2008_wav--2.midi\n",
            "maestro-v2.0.0/2008\\MIDI-Unprocessed_03_R1_2008_01-04_ORIG_MID--AUDIO_03_R1_2008_wav--1.midi\n",
            "maestro-v2.0.0/2008\\MIDI-Unprocessed_03_R1_2008_01-04_ORIG_MID--AUDIO_03_R1_2008_wav--2.midi\n",
            "maestro-v2.0.0/2008\\MIDI-Unprocessed_03_R1_2008_01-04_ORIG_MID--AUDIO_03_R1_2008_wav--3.midi\n",
            "maestro-v2.0.0/2008\\MIDI-Unprocessed_03_R1_2008_01-04_ORIG_MID--AUDIO_03_R1_2008_wav--4.midi\n",
            "maestro-v2.0.0/2008\\MIDI-Unprocessed_03_R2_2008_01-03_ORIG_MID--AUDIO_03_R2_2008_wav--1.midi\n",
            "maestro-v2.0.0/2008\\MIDI-Unprocessed_03_R2_2008_01-03_ORIG_MID--AUDIO_03_R2_2008_wav--2.midi\n",
            "maestro-v2.0.0/2008\\MIDI-Unprocessed_03_R2_2008_01-03_ORIG_MID--AUDIO_03_R2_2008_wav--3.midi\n",
            "maestro-v2.0.0/2008\\MIDI-Unprocessed_03_R3_2008_01-03_ORIG_MID--AUDIO_03_R3_2008_wav--1.midi\n",
            "maestro-v2.0.0/2008\\MIDI-Unprocessed_04_R1_2008_01-04_ORIG_MID--AUDIO_04_R1_2008_wav--1.midi\n",
            "maestro-v2.0.0/2008\\MIDI-Unprocessed_04_R1_2008_01-04_ORIG_MID--AUDIO_04_R1_2008_wav--2.midi\n",
            "maestro-v2.0.0/2008\\MIDI-Unprocessed_04_R1_2008_01-04_ORIG_MID--AUDIO_04_R1_2008_wav--4.midi\n",
            "maestro-v2.0.0/2008\\MIDI-Unprocessed_04_R2_2008_01-04_ORIG_MID--AUDIO_04_R2_2008_wav--1.midi\n",
            "maestro-v2.0.0/2008\\MIDI-Unprocessed_04_R2_2008_01-04_ORIG_MID--AUDIO_04_R2_2008_wav--3.midi\n",
            "maestro-v2.0.0/2008\\MIDI-Unprocessed_04_R2_2008_01-04_ORIG_MID--AUDIO_04_R2_2008_wav--4.midi\n",
            "maestro-v2.0.0/2008\\MIDI-Unprocessed_04_R3_2008_01-07_ORIG_MID--AUDIO_04_R3_2008_wav--1.midi\n",
            "maestro-v2.0.0/2008\\MIDI-Unprocessed_04_R3_2008_01-07_ORIG_MID--AUDIO_04_R3_2008_wav--3.midi\n",
            "maestro-v2.0.0/2008\\MIDI-Unprocessed_04_R3_2008_01-07_ORIG_MID--AUDIO_04_R3_2008_wav--4.midi\n",
            "maestro-v2.0.0/2008\\MIDI-Unprocessed_04_R3_2008_01-07_ORIG_MID--AUDIO_04_R3_2008_wav--5.midi\n",
            "maestro-v2.0.0/2008\\MIDI-Unprocessed_04_R3_2008_01-07_ORIG_MID--AUDIO_04_R3_2008_wav--6.midi\n",
            "maestro-v2.0.0/2008\\MIDI-Unprocessed_04_R3_2008_01-07_ORIG_MID--AUDIO_04_R3_2008_wav--7.midi\n",
            "maestro-v2.0.0/2008\\MIDI-Unprocessed_05_R1_2008_01-04_ORIG_MID--AUDIO_05_R1_2008_wav--1.midi\n",
            "maestro-v2.0.0/2008\\MIDI-Unprocessed_05_R1_2008_01-04_ORIG_MID--AUDIO_05_R1_2008_wav--2.midi\n",
            "maestro-v2.0.0/2008\\MIDI-Unprocessed_05_R1_2008_01-04_ORIG_MID--AUDIO_05_R1_2008_wav--3.midi\n",
            "maestro-v2.0.0/2008\\MIDI-Unprocessed_05_R1_2008_01-04_ORIG_MID--AUDIO_05_R1_2008_wav--4.midi\n",
            "maestro-v2.0.0/2008\\MIDI-Unprocessed_06_R1_2008_01-04_ORIG_MID--AUDIO_06_R1_2008_wav--1.midi\n",
            "maestro-v2.0.0/2008\\MIDI-Unprocessed_06_R1_2008_01-04_ORIG_MID--AUDIO_06_R1_2008_wav--2.midi\n",
            "maestro-v2.0.0/2008\\MIDI-Unprocessed_06_R1_2008_01-04_ORIG_MID--AUDIO_06_R1_2008_wav--3.midi\n",
            "maestro-v2.0.0/2008\\MIDI-Unprocessed_06_R1_2008_01-04_ORIG_MID--AUDIO_06_R1_2008_wav--4.midi\n",
            "maestro-v2.0.0/2008\\MIDI-Unprocessed_06_R2_2008_01-05_ORIG_MID--AUDIO_06_R2_2008_wav--1.midi\n",
            "maestro-v2.0.0/2008\\MIDI-Unprocessed_06_R2_2008_01-05_ORIG_MID--AUDIO_06_R2_2008_wav--3.midi\n",
            "maestro-v2.0.0/2008\\MIDI-Unprocessed_06_R2_2008_01-05_ORIG_MID--AUDIO_06_R2_2008_wav--4.midi\n",
            "maestro-v2.0.0/2008\\MIDI-Unprocessed_06_R2_2008_01-05_ORIG_MID--AUDIO_06_R2_2008_wav--5.midi\n",
            "maestro-v2.0.0/2008\\MIDI-Unprocessed_07_R1_2008_01-04_ORIG_MID--AUDIO_07_R1_2008_wav--1.midi\n",
            "maestro-v2.0.0/2008\\MIDI-Unprocessed_07_R1_2008_01-04_ORIG_MID--AUDIO_07_R1_2008_wav--2.midi\n",
            "maestro-v2.0.0/2008\\MIDI-Unprocessed_07_R1_2008_01-04_ORIG_MID--AUDIO_07_R1_2008_wav--3.midi\n",
            "maestro-v2.0.0/2008\\MIDI-Unprocessed_07_R1_2008_01-04_ORIG_MID--AUDIO_07_R1_2008_wav--4.midi\n",
            "maestro-v2.0.0/2008\\MIDI-Unprocessed_07_R2_2008_01-05_ORIG_MID--AUDIO_07_R2_2008_wav--1.midi\n",
            "maestro-v2.0.0/2008\\MIDI-Unprocessed_07_R2_2008_01-05_ORIG_MID--AUDIO_07_R2_2008_wav--3.midi\n",
            "maestro-v2.0.0/2008\\MIDI-Unprocessed_07_R2_2008_01-05_ORIG_MID--AUDIO_07_R2_2008_wav--4.midi\n",
            "maestro-v2.0.0/2008\\MIDI-Unprocessed_07_R3_2008_01-05_ORIG_MID--AUDIO_07_R3_2008_wav--1.midi\n",
            "maestro-v2.0.0/2008\\MIDI-Unprocessed_07_R3_2008_01-05_ORIG_MID--AUDIO_07_R3_2008_wav--2.midi\n",
            "maestro-v2.0.0/2008\\MIDI-Unprocessed_07_R3_2008_01-05_ORIG_MID--AUDIO_07_R3_2008_wav--3.midi\n",
            "maestro-v2.0.0/2008\\MIDI-Unprocessed_07_R3_2008_01-05_ORIG_MID--AUDIO_07_R3_2008_wav--4.midi\n",
            "maestro-v2.0.0/2008\\MIDI-Unprocessed_08_R1_2008_01-05_ORIG_MID--AUDIO_08_R1_2008_wav--1.midi\n",
            "maestro-v2.0.0/2008\\MIDI-Unprocessed_08_R1_2008_01-05_ORIG_MID--AUDIO_08_R1_2008_wav--2.midi\n",
            "maestro-v2.0.0/2008\\MIDI-Unprocessed_08_R1_2008_01-05_ORIG_MID--AUDIO_08_R1_2008_wav--3.midi\n",
            "maestro-v2.0.0/2008\\MIDI-Unprocessed_08_R1_2008_01-05_ORIG_MID--AUDIO_08_R1_2008_wav--4.midi\n",
            "maestro-v2.0.0/2008\\MIDI-Unprocessed_08_R2_2008_01-04_ORIG_MID--AUDIO_08_R2_2008_wav--1.midi\n",
            "maestro-v2.0.0/2008\\MIDI-Unprocessed_08_R2_2008_01-04_ORIG_MID--AUDIO_08_R2_2008_wav--2.midi\n",
            "maestro-v2.0.0/2008\\MIDI-Unprocessed_08_R2_2008_01-04_ORIG_MID--AUDIO_08_R2_2008_wav--4.midi\n",
            "maestro-v2.0.0/2008\\MIDI-Unprocessed_08_R3_2008_01-05_ORIG_MID--AUDIO_08_R3_2008_wav--1.midi\n",
            "maestro-v2.0.0/2008\\MIDI-Unprocessed_08_R3_2008_01-05_ORIG_MID--AUDIO_08_R3_2008_wav--2.midi\n",
            "maestro-v2.0.0/2008\\MIDI-Unprocessed_08_R3_2008_01-05_ORIG_MID--AUDIO_08_R3_2008_wav--3.midi\n",
            "maestro-v2.0.0/2008\\MIDI-Unprocessed_09_R1_2008_01-05_ORIG_MID--AUDIO_09_R1_2008_wav--1.midi\n",
            "maestro-v2.0.0/2008\\MIDI-Unprocessed_09_R1_2008_01-05_ORIG_MID--AUDIO_09_R1_2008_wav--2.midi\n",
            "maestro-v2.0.0/2008\\MIDI-Unprocessed_09_R1_2008_01-05_ORIG_MID--AUDIO_09_R1_2008_wav--3.midi\n",
            "maestro-v2.0.0/2008\\MIDI-Unprocessed_09_R1_2008_01-05_ORIG_MID--AUDIO_09_R1_2008_wav--4.midi\n",
            "maestro-v2.0.0/2008\\MIDI-Unprocessed_09_R1_2008_01-05_ORIG_MID--AUDIO_09_R1_2008_wav--5.midi\n",
            "maestro-v2.0.0/2008\\MIDI-Unprocessed_09_R2_2008_01-05_ORIG_MID--AUDIO_09_R2_2008_wav--1.midi\n",
            "maestro-v2.0.0/2008\\MIDI-Unprocessed_09_R2_2008_01-05_ORIG_MID--AUDIO_09_R2_2008_wav--2.midi\n",
            "maestro-v2.0.0/2008\\MIDI-Unprocessed_09_R2_2008_01-05_ORIG_MID--AUDIO_09_R2_2008_wav--3.midi\n",
            "maestro-v2.0.0/2008\\MIDI-Unprocessed_09_R2_2008_01-05_ORIG_MID--AUDIO_09_R2_2008_wav--5.midi\n",
            "maestro-v2.0.0/2008\\MIDI-Unprocessed_09_R3_2008_01-07_ORIG_MID--AUDIO_09_R3_2008_wav--1.midi\n",
            "maestro-v2.0.0/2008\\MIDI-Unprocessed_09_R3_2008_01-07_ORIG_MID--AUDIO_09_R3_2008_wav--3.midi\n",
            "maestro-v2.0.0/2008\\MIDI-Unprocessed_09_R3_2008_01-07_ORIG_MID--AUDIO_09_R3_2008_wav--4.midi\n",
            "maestro-v2.0.0/2008\\MIDI-Unprocessed_09_R3_2008_01-07_ORIG_MID--AUDIO_09_R3_2008_wav--5.midi\n",
            "maestro-v2.0.0/2008\\MIDI-Unprocessed_09_R3_2008_01-07_ORIG_MID--AUDIO_09_R3_2008_wav--7.midi\n",
            "maestro-v2.0.0/2008\\MIDI-Unprocessed_10_R1_2008_01-04_ORIG_MID--AUDIO_10_R1_2008_wav--1.midi\n",
            "maestro-v2.0.0/2008\\MIDI-Unprocessed_10_R1_2008_01-04_ORIG_MID--AUDIO_10_R1_2008_wav--2.midi\n",
            "maestro-v2.0.0/2008\\MIDI-Unprocessed_10_R1_2008_01-04_ORIG_MID--AUDIO_10_R1_2008_wav--3.midi\n",
            "maestro-v2.0.0/2008\\MIDI-Unprocessed_10_R1_2008_01-04_ORIG_MID--AUDIO_10_R1_2008_wav--4.midi\n",
            "maestro-v2.0.0/2008\\MIDI-Unprocessed_10_R2_2008_01-05_ORIG_MID--AUDIO_10_R2_2008_wav--2.midi\n",
            "maestro-v2.0.0/2008\\MIDI-Unprocessed_10_R2_2008_01-05_ORIG_MID--AUDIO_10_R2_2008_wav--3.midi\n",
            "maestro-v2.0.0/2008\\MIDI-Unprocessed_10_R2_2008_01-05_ORIG_MID--AUDIO_10_R2_2008_wav--4.midi\n",
            "maestro-v2.0.0/2008\\MIDI-Unprocessed_10_R3_2008_01-05_ORIG_MID--AUDIO_10_R3_2008_wav--1.midi\n",
            "maestro-v2.0.0/2008\\MIDI-Unprocessed_10_R3_2008_01-05_ORIG_MID--AUDIO_10_R3_2008_wav--2.midi\n",
            "maestro-v2.0.0/2008\\MIDI-Unprocessed_10_R3_2008_01-05_ORIG_MID--AUDIO_10_R3_2008_wav--3.midi\n",
            "maestro-v2.0.0/2008\\MIDI-Unprocessed_10_R3_2008_01-05_ORIG_MID--AUDIO_10_R3_2008_wav--4.midi\n",
            "maestro-v2.0.0/2008\\MIDI-Unprocessed_11_R1_2008_01-04_ORIG_MID--AUDIO_11_R1_2008_wav--1.midi\n",
            "maestro-v2.0.0/2008\\MIDI-Unprocessed_11_R1_2008_01-04_ORIG_MID--AUDIO_11_R1_2008_wav--2.midi\n",
            "maestro-v2.0.0/2008\\MIDI-Unprocessed_11_R1_2008_01-04_ORIG_MID--AUDIO_11_R1_2008_wav--3.midi\n",
            "maestro-v2.0.0/2008\\MIDI-Unprocessed_11_R1_2008_01-04_ORIG_MID--AUDIO_11_R1_2008_wav--4.midi\n",
            "maestro-v2.0.0/2008\\MIDI-Unprocessed_11_R2_2008_01-05_ORIG_MID--AUDIO_11_R2_2008_wav--3.midi\n",
            "maestro-v2.0.0/2008\\MIDI-Unprocessed_11_R2_2008_01-05_ORIG_MID--AUDIO_11_R2_2008_wav--5.midi\n",
            "maestro-v2.0.0/2008\\MIDI-Unprocessed_11_R3_2008_01-04_ORIG_MID--AUDIO_11_R3_2008_wav--1.midi\n",
            "maestro-v2.0.0/2008\\MIDI-Unprocessed_11_R3_2008_01-04_ORIG_MID--AUDIO_11_R3_2008_wav--2.midi\n",
            "maestro-v2.0.0/2008\\MIDI-Unprocessed_12_R1_2008_01-04_ORIG_MID--AUDIO_12_R1_2008_wav--1.midi\n",
            "maestro-v2.0.0/2008\\MIDI-Unprocessed_12_R1_2008_01-04_ORIG_MID--AUDIO_12_R1_2008_wav--2.midi\n",
            "maestro-v2.0.0/2008\\MIDI-Unprocessed_12_R1_2008_01-04_ORIG_MID--AUDIO_12_R1_2008_wav--3.midi\n",
            "maestro-v2.0.0/2008\\MIDI-Unprocessed_12_R1_2008_01-04_ORIG_MID--AUDIO_12_R1_2008_wav--4.midi\n",
            "maestro-v2.0.0/2008\\MIDI-Unprocessed_12_R2_2008_01-04_ORIG_MID--AUDIO_12_R2_2008_wav--1.midi\n",
            "maestro-v2.0.0/2008\\MIDI-Unprocessed_12_R2_2008_01-04_ORIG_MID--AUDIO_12_R2_2008_wav--2.midi\n",
            "maestro-v2.0.0/2008\\MIDI-Unprocessed_12_R2_2008_01-04_ORIG_MID--AUDIO_12_R2_2008_wav--3.midi\n",
            "maestro-v2.0.0/2008\\MIDI-Unprocessed_12_R3_2008_01-04_ORIG_MID--AUDIO_12_R3_2008_wav--1.midi\n",
            "maestro-v2.0.0/2008\\MIDI-Unprocessed_12_R3_2008_01-04_ORIG_MID--AUDIO_12_R3_2008_wav--2.midi\n",
            "maestro-v2.0.0/2008\\MIDI-Unprocessed_12_R3_2008_01-04_ORIG_MID--AUDIO_12_R3_2008_wav--3.midi\n",
            "maestro-v2.0.0/2008\\MIDI-Unprocessed_13_R1_2008_01-04_ORIG_MID--AUDIO_13_R1_2008_wav--1.midi\n",
            "maestro-v2.0.0/2008\\MIDI-Unprocessed_13_R1_2008_01-04_ORIG_MID--AUDIO_13_R1_2008_wav--2.midi\n",
            "maestro-v2.0.0/2008\\MIDI-Unprocessed_13_R1_2008_01-04_ORIG_MID--AUDIO_13_R1_2008_wav--4.midi\n",
            "maestro-v2.0.0/2008\\MIDI-Unprocessed_14_R1_2008_01-05_ORIG_MID--AUDIO_14_R1_2008_wav--1.midi\n",
            "maestro-v2.0.0/2008\\MIDI-Unprocessed_14_R1_2008_01-05_ORIG_MID--AUDIO_14_R1_2008_wav--2.midi\n",
            "maestro-v2.0.0/2008\\MIDI-Unprocessed_14_R1_2008_01-05_ORIG_MID--AUDIO_14_R1_2008_wav--3.midi\n",
            "maestro-v2.0.0/2008\\MIDI-Unprocessed_14_R1_2008_01-05_ORIG_MID--AUDIO_14_R1_2008_wav--4.midi\n",
            "maestro-v2.0.0/2008\\MIDI-Unprocessed_15_R1_2008_01-04_ORIG_MID--AUDIO_15_R1_2008_wav--1.midi\n",
            "maestro-v2.0.0/2008\\MIDI-Unprocessed_15_R1_2008_01-04_ORIG_MID--AUDIO_15_R1_2008_wav--2.midi\n",
            "maestro-v2.0.0/2008\\MIDI-Unprocessed_15_R1_2008_01-04_ORIG_MID--AUDIO_15_R1_2008_wav--3.midi\n",
            "maestro-v2.0.0/2008\\MIDI-Unprocessed_15_R1_2008_01-04_ORIG_MID--AUDIO_15_R1_2008_wav--4.midi\n",
            "maestro-v2.0.0/2008\\MIDI-Unprocessed_15_R2_2008_01-04_ORIG_MID--AUDIO_15_R2_2008_wav--2.midi\n",
            "maestro-v2.0.0/2008\\MIDI-Unprocessed_15_R2_2008_01-04_ORIG_MID--AUDIO_15_R2_2008_wav--3.midi\n",
            "maestro-v2.0.0/2008\\MIDI-Unprocessed_15_R2_2008_01-04_ORIG_MID--AUDIO_15_R2_2008_wav--4.midi\n",
            "maestro-v2.0.0/2008\\MIDI-Unprocessed_16_R1_2008_01-04_ORIG_MID--AUDIO_16_R1_2008_wav--1.midi\n",
            "maestro-v2.0.0/2008\\MIDI-Unprocessed_16_R1_2008_01-04_ORIG_MID--AUDIO_16_R1_2008_wav--2.midi\n",
            "maestro-v2.0.0/2008\\MIDI-Unprocessed_16_R1_2008_01-04_ORIG_MID--AUDIO_16_R1_2008_wav--3.midi\n",
            "maestro-v2.0.0/2008\\MIDI-Unprocessed_16_R1_2008_01-04_ORIG_MID--AUDIO_16_R1_2008_wav--4.midi\n",
            "maestro-v2.0.0/2008\\MIDI-Unprocessed_17_R1_2008_01-04_ORIG_MID--AUDIO_17_R1_2008_wav--1.midi\n",
            "maestro-v2.0.0/2008\\MIDI-Unprocessed_17_R1_2008_01-04_ORIG_MID--AUDIO_17_R1_2008_wav--2.midi\n",
            "maestro-v2.0.0/2008\\MIDI-Unprocessed_17_R1_2008_01-04_ORIG_MID--AUDIO_17_R1_2008_wav--3.midi\n",
            "maestro-v2.0.0/2008\\MIDI-Unprocessed_17_R1_2008_01-04_ORIG_MID--AUDIO_17_R1_2008_wav--4.midi\n",
            "maestro-v2.0.0/2008\\MIDI-Unprocessed_17_R2_2008_01-04_ORIG_MID--AUDIO_17_R2_2008_wav--1.midi\n",
            "maestro-v2.0.0/2008\\MIDI-Unprocessed_17_R2_2008_01-04_ORIG_MID--AUDIO_17_R2_2008_wav--2.midi\n",
            "maestro-v2.0.0/2008\\MIDI-Unprocessed_17_R2_2008_01-04_ORIG_MID--AUDIO_17_R2_2008_wav--3.midi\n",
            "maestro-v2.0.0/2008\\MIDI-Unprocessed_18_R1_2008_01-04_ORIG_MID--AUDIO_18_R1_2008_wav--1.midi\n",
            "maestro-v2.0.0/2008\\MIDI-Unprocessed_18_R1_2008_01-04_ORIG_MID--AUDIO_18_R1_2008_wav--2.midi\n",
            "maestro-v2.0.0/2008\\MIDI-Unprocessed_18_R1_2008_01-04_ORIG_MID--AUDIO_18_R1_2008_wav--4.midi\n"
          ]
        }
      ],
      "source": [
        "midi_files_dir = data_dir\n",
        "\n",
        "# Criteria for selection\n",
        "desired_time_signature = (4, 4)  # (numerator, denominator)\n",
        "min_length_seconds = 100\n",
        "max_length_seconds = 800\n",
        "\n",
        "selected_files = []\n",
        "\n",
        "for filepath in paths:\n",
        "    try:\n",
        "        # Load the MIDI file\n",
        "        midi_data = pretty_midi.PrettyMIDI(filepath)\n",
        "\n",
        "        # Check time signatures\n",
        "        time_signatures = midi_data.time_signature_changes\n",
        "        has_desired_time_signature = any(ts.numerator == desired_time_signature[0] and\n",
        "                                            ts.denominator == desired_time_signature[1]\n",
        "                                            for ts in time_signatures)\n",
        "\n",
        "        # Check length\n",
        "        length = midi_data.get_end_time()  # This returns the length in seconds\n",
        "        if has_desired_time_signature and min_length_seconds <= length <= max_length_seconds:\n",
        "        \n",
        "            # Append filepath to list\n",
        "            selected_files.append(filepath)\n",
        "\n",
        "    except Exception as e:\n",
        "        print(f\"Error processing {filepath}: {e}\")\n",
        "\n",
        "# Print or use the selected files\n",
        "for file in selected_files:\n",
        "    print(file)\n"
      ]
    },
    {
      "cell_type": "markdown",
      "metadata": {},
      "source": [
        "## Converts Midi to tokens (safed as Json)"
      ]
    },
    {
      "cell_type": "code",
      "execution_count": 19,
      "metadata": {
        "colab": {
          "base_uri": "https://localhost:8080/"
        },
        "id": "EVTC6UGSTmYn",
        "outputId": "60591849-14d6-4e91-ec85-e2bebd1acf47"
      },
      "outputs": [
        {
          "name": "stderr",
          "output_type": "stream",
          "text": [
            "Tokenizing MIDIs (data/only2008_2): 100%|██████████| 137/137 [00:37<00:00,  3.66it/s]\n"
          ]
        }
      ],
      "source": [
        "from miditok import REMI\n",
        "from pathlib import Path\n",
        "\n",
        "\n",
        "# Creates the tokenizer and lists the file paths\n",
        "tokenizer = REMI(sos_eos=True)\n",
        "midi_paths = selected_files\n",
        "\n",
        "# Converts MIDI files to tokens saved as JSON files\n",
        "tokenizer.tokenize_midi_dataset(\n",
        "    midi_paths,\n",
        "    Path('data/only2008_2')\n",
        ")\n",
        "\n",
        "# Learns the vocabulary with BPE\n"
      ]
    },
    {
      "cell_type": "markdown",
      "metadata": {},
      "source": [
        "## Load trained bpetokenizer"
      ]
    },
    {
      "cell_type": "code",
      "execution_count": 20,
      "metadata": {},
      "outputs": [],
      "source": [
        "import pickle\n",
        "# Load the tokenizer from the file\n",
        "with open('tokenizer_bpe2.pkl', 'rb') as f:\n",
        "    tokenizer = pickle.load(f)\n"
      ]
    },
    {
      "cell_type": "markdown",
      "metadata": {},
      "source": [
        "## Apply Tokenizer to Chosen Midi Files"
      ]
    },
    {
      "cell_type": "code",
      "execution_count": 21,
      "metadata": {},
      "outputs": [
        {
          "name": "stderr",
          "output_type": "stream",
          "text": [
            "Applying BPE to dataset: 100%|██████████| 137/137 [05:12<00:00,  2.28s/it]\n"
          ]
        }
      ],
      "source": [
        "from pathlib import Path\n",
        "\n",
        "# Path to the directories\n",
        "output_path = Path('data/only2008_BPE_2')\n",
        "input_path = Path('data/only2008_2')\n",
        "\n",
        "# Create the output directory if it does not exist\n",
        "output_path.mkdir(parents=True, exist_ok=True)\n",
        "\n",
        "# running function\n",
        "tokenizer.apply_bpe_to_dataset(input_path, output_path)\n"
      ]
    }
  ],
  "metadata": {
    "colab": {
      "collapsed_sections": [
        "T5ec4jW8nqUW"
      ],
      "include_colab_link": true,
      "provenance": []
    },
    "kernelspec": {
      "display_name": "Python 3",
      "name": "python3"
    },
    "language_info": {
      "codemirror_mode": {
        "name": "ipython",
        "version": 3
      },
      "file_extension": ".py",
      "mimetype": "text/x-python",
      "name": "python",
      "nbconvert_exporter": "python",
      "pygments_lexer": "ipython3",
      "version": "3.7.0"
    }
  },
  "nbformat": 4,
  "nbformat_minor": 0
}
