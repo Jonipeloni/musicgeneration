{
  "cells": [
    {
      "cell_type": "markdown",
      "metadata": {
        "colab_type": "text",
        "id": "view-in-github"
      },
      "source": [
        "<a href=\"https://colab.research.google.com/github/Jonipeloni/musicgeneration/blob/main/Aktuell_Dienstag.ipynb\" target=\"_parent\"><img src=\"https://colab.research.google.com/assets/colab-badge.svg\" alt=\"Open In Colab\"/></a>"
      ]
    },
    {
      "cell_type": "code",
      "execution_count": 18,
      "metadata": {
        "id": "bRO_e6nRjfvz"
      },
      "outputs": [],
      "source": [
        "import os\n",
        "import shutil\n",
        "import numpy as np\n",
        "import pretty_midi\n",
        "import pathlib\n",
        "import collections\n",
        "from miditok import REMI\n",
        "\n",
        "#import datetime<\n",
        "#import fluidsynth\n",
        "#import glob\n",
        "#import pretty_midi\n",
        "#import seaborn as sns\n",
        "\n",
        "\n"
      ]
    },
    {
      "cell_type": "markdown",
      "metadata": {
        "id": "NA7a8dB2z4Kc"
      },
      "source": [
        "# Loading Data"
      ]
    },
    {
      "cell_type": "code",
      "execution_count": 19,
      "metadata": {
        "colab": {
          "base_uri": "https://localhost:8080/"
        },
        "id": "2CH_AUwejTgg",
        "outputId": "d0ef0a99-6ff1-470d-a72d-c7a9f015d2c2"
      },
      "outputs": [],
      "source": [
        "data_dir = pathlib.Path('maestro-v2.0.0')"
      ]
    },
    {
      "cell_type": "markdown",
      "metadata": {
        "id": "UDoqu2pir3oK"
      },
      "source": [
        "# Teilmenge des Datasets wählen"
      ]
    },
    {
      "cell_type": "markdown",
      "metadata": {
        "id": "R2CVOvSxzpxa"
      },
      "source": [
        "#"
      ]
    },
    {
      "cell_type": "code",
      "execution_count": 20,
      "metadata": {},
      "outputs": [],
      "source": [
        "import glob\n",
        "paths = glob.glob(\"maestro-v2.0.0/2004/*.mid*\")# + glob.glob(\"maestro-v2.0.0/2006/*.mid*\") + glob.glob(\"maestro-v2.0.0/2008/*.mid*\")"
      ]
    },
    {
      "cell_type": "code",
      "execution_count": 21,
      "metadata": {},
      "outputs": [
        {
          "name": "stdout",
          "output_type": "stream",
          "text": [
            "['maestro-v2.0.0/2004\\\\MIDI-Unprocessed_SMF_02_R1_2004_01-05_ORIG_MID--AUDIO_02_R1_2004_05_Track05_wav.midi', 'maestro-v2.0.0/2004\\\\MIDI-Unprocessed_SMF_02_R1_2004_01-05_ORIG_MID--AUDIO_02_R1_2004_06_Track06_wav.midi', 'maestro-v2.0.0/2004\\\\MIDI-Unprocessed_SMF_02_R1_2004_01-05_ORIG_MID--AUDIO_02_R1_2004_08_Track08_wav.midi', 'maestro-v2.0.0/2004\\\\MIDI-Unprocessed_SMF_02_R1_2004_01-05_ORIG_MID--AUDIO_02_R1_2004_10_Track10_wav.midi', 'maestro-v2.0.0/2004\\\\MIDI-Unprocessed_SMF_05_R1_2004_01_ORIG_MID--AUDIO_05_R1_2004_02_Track02_wav.midi', 'maestro-v2.0.0/2004\\\\MIDI-Unprocessed_SMF_05_R1_2004_01_ORIG_MID--AUDIO_05_R1_2004_03_Track03_wav.midi', 'maestro-v2.0.0/2004\\\\MIDI-Unprocessed_SMF_05_R1_2004_02-03_ORIG_MID--AUDIO_05_R1_2004_06_Track06_wav.midi', 'maestro-v2.0.0/2004\\\\MIDI-Unprocessed_SMF_07_R1_2004_01_ORIG_MID--AUDIO_07_R1_2004_02_Track02_wav.midi', 'maestro-v2.0.0/2004\\\\MIDI-Unprocessed_SMF_07_R1_2004_01_ORIG_MID--AUDIO_07_R1_2004_04_Track04_wav.midi', 'maestro-v2.0.0/2004\\\\MIDI-Unprocessed_SMF_07_R1_2004_01_ORIG_MID--AUDIO_07_R1_2004_06_Track06_wav.midi', 'maestro-v2.0.0/2004\\\\MIDI-Unprocessed_SMF_07_R1_2004_01_ORIG_MID--AUDIO_07_R1_2004_12_Track12_wav.midi', 'maestro-v2.0.0/2004\\\\MIDI-Unprocessed_SMF_12_01_2004_01-05_ORIG_MID--AUDIO_12_R1_2004_03_Track03_wav--1.midi', 'maestro-v2.0.0/2004\\\\MIDI-Unprocessed_SMF_12_01_2004_01-05_ORIG_MID--AUDIO_12_R1_2004_07_Track07_wav.midi', 'maestro-v2.0.0/2004\\\\MIDI-Unprocessed_SMF_12_01_2004_01-05_ORIG_MID--AUDIO_12_R1_2004_08_Track08_wav.midi', 'maestro-v2.0.0/2004\\\\MIDI-Unprocessed_SMF_12_01_2004_01-05_ORIG_MID--AUDIO_12_R1_2004_09_Track09_wav.midi', 'maestro-v2.0.0/2004\\\\MIDI-Unprocessed_SMF_12_01_2004_01-05_ORIG_MID--AUDIO_12_R1_2004_10_Track10_wav.midi', 'maestro-v2.0.0/2004\\\\MIDI-Unprocessed_SMF_13_01_2004_01-05_ORIG_MID--AUDIO_13_R1_2004_02_Track02_wav.midi', 'maestro-v2.0.0/2004\\\\MIDI-Unprocessed_SMF_13_01_2004_01-05_ORIG_MID--AUDIO_13_R1_2004_05_Track05_wav.midi', 'maestro-v2.0.0/2004\\\\MIDI-Unprocessed_SMF_13_01_2004_01-05_ORIG_MID--AUDIO_13_R1_2004_08_Track08_wav.midi', 'maestro-v2.0.0/2004\\\\MIDI-Unprocessed_SMF_13_01_2004_01-05_ORIG_MID--AUDIO_13_R1_2004_09_Track09_wav.midi', 'maestro-v2.0.0/2004\\\\MIDI-Unprocessed_SMF_13_01_2004_01-05_ORIG_MID--AUDIO_13_R1_2004_10_Track10_wav.midi', 'maestro-v2.0.0/2004\\\\MIDI-Unprocessed_SMF_13_01_2004_01-05_ORIG_MID--AUDIO_13_R1_2004_12_Track12_wav.midi', 'maestro-v2.0.0/2004\\\\MIDI-Unprocessed_SMF_16_R1_2004_01-08_ORIG_MID--AUDIO_16_R1_2004_02_Track02_wav.midi', 'maestro-v2.0.0/2004\\\\MIDI-Unprocessed_SMF_16_R1_2004_01-08_ORIG_MID--AUDIO_16_R1_2004_03_Track03_wav.midi', 'maestro-v2.0.0/2004\\\\MIDI-Unprocessed_SMF_16_R1_2004_01-08_ORIG_MID--AUDIO_16_R1_2004_04_Track04_wav.midi', 'maestro-v2.0.0/2004\\\\MIDI-Unprocessed_SMF_16_R1_2004_01-08_ORIG_MID--AUDIO_16_R1_2004_05_Track05_wav.midi', 'maestro-v2.0.0/2004\\\\MIDI-Unprocessed_SMF_16_R1_2004_01-08_ORIG_MID--AUDIO_16_R1_2004_06_Track06_wav.midi', 'maestro-v2.0.0/2004\\\\MIDI-Unprocessed_SMF_16_R1_2004_01-08_ORIG_MID--AUDIO_16_R1_2004_08_Track08_wav.midi', 'maestro-v2.0.0/2004\\\\MIDI-Unprocessed_SMF_16_R1_2004_01-08_ORIG_MID--AUDIO_16_R1_2004_13_Track13_wav.midi', 'maestro-v2.0.0/2004\\\\MIDI-Unprocessed_SMF_17_R1_2004_01-02_ORIG_MID--AUDIO_20_R2_2004_02_Track02_wav.midi', 'maestro-v2.0.0/2004\\\\MIDI-Unprocessed_SMF_17_R1_2004_01-02_ORIG_MID--AUDIO_20_R2_2004_04_Track04_wav.midi', 'maestro-v2.0.0/2004\\\\MIDI-Unprocessed_SMF_17_R1_2004_01-02_ORIG_MID--AUDIO_20_R2_2004_06_Track06_wav.midi', 'maestro-v2.0.0/2004\\\\MIDI-Unprocessed_SMF_17_R1_2004_01-03_ORIG_MID--AUDIO_17_R1_2004_02_Track02_wav--1.midi', 'maestro-v2.0.0/2004\\\\MIDI-Unprocessed_SMF_17_R1_2004_01-03_ORIG_MID--AUDIO_17_R1_2004_02_Track02_wav--2.midi', 'maestro-v2.0.0/2004\\\\MIDI-Unprocessed_SMF_17_R1_2004_01-03_ORIG_MID--AUDIO_17_R1_2004_03_Track03_wav.midi', 'maestro-v2.0.0/2004\\\\MIDI-Unprocessed_SMF_17_R1_2004_01-03_ORIG_MID--AUDIO_17_R1_2004_06_Track06_wav.midi', 'maestro-v2.0.0/2004\\\\MIDI-Unprocessed_SMF_17_R1_2004_03-06_ORIG_MID--AUDIO_20_R2_2004_08_Track08_wav.midi', 'maestro-v2.0.0/2004\\\\MIDI-Unprocessed_SMF_17_R1_2004_03-06_ORIG_MID--AUDIO_20_R2_2004_12_Track12_wav--1.midi', 'maestro-v2.0.0/2004\\\\MIDI-Unprocessed_SMF_17_R1_2004_03-06_ORIG_MID--AUDIO_20_R2_2004_12_Track12_wav--2.midi', 'maestro-v2.0.0/2004\\\\MIDI-Unprocessed_SMF_17_R1_2004_04_ORIG_MID--AUDIO_17_R1_2004_09_Track09_wav.midi', 'maestro-v2.0.0/2004\\\\MIDI-Unprocessed_SMF_17_R1_2004_04_ORIG_MID--AUDIO_17_R1_2004_11_Track11_wav.midi', 'maestro-v2.0.0/2004\\\\MIDI-Unprocessed_SMF_22_R1_2004_01-04_ORIG_MID--AUDIO_22_R1_2004_03_Track03_wav.midi', 'maestro-v2.0.0/2004\\\\MIDI-Unprocessed_SMF_22_R1_2004_01-04_ORIG_MID--AUDIO_22_R1_2004_05_Track05_wav.midi', 'maestro-v2.0.0/2004\\\\MIDI-Unprocessed_SMF_22_R1_2004_01-04_ORIG_MID--AUDIO_22_R1_2004_10_Track10_wav.midi', 'maestro-v2.0.0/2004\\\\MIDI-Unprocessed_SMF_22_R1_2004_01-04_ORIG_MID--AUDIO_22_R1_2004_17_Track17_wav.midi', 'maestro-v2.0.0/2004\\\\MIDI-Unprocessed_XP_01_R1_2004_01-02_ORIG_MID--AUDIO_01_R1_2004_02_Track02_wav.midi', 'maestro-v2.0.0/2004\\\\MIDI-Unprocessed_XP_01_R1_2004_01-02_ORIG_MID--AUDIO_01_R1_2004_03_Track03_wav.midi', 'maestro-v2.0.0/2004\\\\MIDI-Unprocessed_XP_01_R1_2004_03_ORIG_MID--AUDIO_01_R1_2004_04_Track04_wav.midi', 'maestro-v2.0.0/2004\\\\MIDI-Unprocessed_XP_01_R1_2004_04-05_ORIG_MID--AUDIO_01_R1_2004_05_Track05_wav.midi', 'maestro-v2.0.0/2004\\\\MIDI-Unprocessed_XP_01_R1_2004_04-05_ORIG_MID--AUDIO_01_R1_2004_06_Track06_wav.midi', 'maestro-v2.0.0/2004\\\\MIDI-Unprocessed_XP_03_R1_2004_01-02_ORIG_MID--AUDIO_03_R1_2004_01_Track01_wav.midi', 'maestro-v2.0.0/2004\\\\MIDI-Unprocessed_XP_03_R1_2004_01-02_ORIG_MID--AUDIO_03_R1_2004_02_Track02_wav.midi', 'maestro-v2.0.0/2004\\\\MIDI-Unprocessed_XP_04_R1_2004_01-02_ORIG_MID--AUDIO_04_R1_2004_01_Track01_wav.midi', 'maestro-v2.0.0/2004\\\\MIDI-Unprocessed_XP_04_R1_2004_01-02_ORIG_MID--AUDIO_04_R1_2004_02_Track02_wav.midi', 'maestro-v2.0.0/2004\\\\MIDI-Unprocessed_XP_04_R1_2004_03-05_ORIG_MID--AUDIO_04_R1_2004_04_Track04_wav.midi', 'maestro-v2.0.0/2004\\\\MIDI-Unprocessed_XP_04_R1_2004_03-05_ORIG_MID--AUDIO_04_R1_2004_05_Track05_wav.midi', 'maestro-v2.0.0/2004\\\\MIDI-Unprocessed_XP_04_R1_2004_03-05_ORIG_MID--AUDIO_04_R1_2004_06_Track06_wav.midi', 'maestro-v2.0.0/2004\\\\MIDI-Unprocessed_XP_04_R1_2004_06_ORIG_MID--AUDIO_04_R1_2004_08_Track08_wav.midi', 'maestro-v2.0.0/2004\\\\MIDI-Unprocessed_XP_04_R2_2004_01_ORIG_MID--AUDIO_04_R2_2004_01_Track01_wav.midi', 'maestro-v2.0.0/2004\\\\MIDI-Unprocessed_XP_04_R2_2004_01_ORIG_MID--AUDIO_04_R2_2004_02_Track02_wav.midi', 'maestro-v2.0.0/2004\\\\MIDI-Unprocessed_XP_06_R1_2004_01_ORIG_MID--AUDIO_06_R1_2004_01_Track01_wav.midi', 'maestro-v2.0.0/2004\\\\MIDI-Unprocessed_XP_06_R1_2004_02-03_ORIG_MID--AUDIO_06_R1_2004_05_Track05_wav.midi', 'maestro-v2.0.0/2004\\\\MIDI-Unprocessed_XP_06_R2_2004_01_ORIG_MID--AUDIO_06_R2_2004_01_Track01_wav.midi', 'maestro-v2.0.0/2004\\\\MIDI-Unprocessed_XP_06_R2_2004_01_ORIG_MID--AUDIO_06_R2_2004_02_Track02_wav.midi', 'maestro-v2.0.0/2004\\\\MIDI-Unprocessed_XP_06_R2_2004_01_ORIG_MID--AUDIO_06_R2_2004_03_Track03_wav.midi', 'maestro-v2.0.0/2004\\\\MIDI-Unprocessed_XP_08_R1_2004_01-02_ORIG_MID--AUDIO_08_R1_2004_01_Track01_wav.midi', 'maestro-v2.0.0/2004\\\\MIDI-Unprocessed_XP_08_R1_2004_01-02_ORIG_MID--AUDIO_08_R1_2004_02_Track02_wav.midi', 'maestro-v2.0.0/2004\\\\MIDI-Unprocessed_XP_08_R1_2004_03_ORIG_MID--AUDIO_08_R1_2004_03_Track03_wav.midi', 'maestro-v2.0.0/2004\\\\MIDI-Unprocessed_XP_08_R1_2004_04-06_ORIG_MID--AUDIO_08_R1_2004_04_Track04_wav.midi', 'maestro-v2.0.0/2004\\\\MIDI-Unprocessed_XP_08_R1_2004_04-06_ORIG_MID--AUDIO_08_R1_2004_05_Track05_wav--1.midi', 'maestro-v2.0.0/2004\\\\MIDI-Unprocessed_XP_08_R1_2004_04-06_ORIG_MID--AUDIO_08_R1_2004_05_Track05_wav--2.midi', 'maestro-v2.0.0/2004\\\\MIDI-Unprocessed_XP_09_R1_2004_01-02_ORIG_MID--AUDIO_09_R1_2004_01_Track01_wav.midi', 'maestro-v2.0.0/2004\\\\MIDI-Unprocessed_XP_09_R1_2004_01-02_ORIG_MID--AUDIO_09_R1_2004_02_Track02_wav.midi', 'maestro-v2.0.0/2004\\\\MIDI-Unprocessed_XP_09_R1_2004_01-02_ORIG_MID--AUDIO_09_R1_2004_03_Track03_wav.midi', 'maestro-v2.0.0/2004\\\\MIDI-Unprocessed_XP_09_R1_2004_05_ORIG_MID--AUDIO_09_R1_2004_06_Track06_wav.midi', 'maestro-v2.0.0/2004\\\\MIDI-Unprocessed_XP_09_R1_2004_05_ORIG_MID--AUDIO_09_R1_2004_07_Track07_wav.midi', 'maestro-v2.0.0/2004\\\\MIDI-Unprocessed_XP_09_R1_2004_05_ORIG_MID--AUDIO_09_R1_2004_08_Track08_wav.midi', 'maestro-v2.0.0/2004\\\\MIDI-Unprocessed_XP_10_R1_2004_01-02_ORIG_MID--AUDIO_10_R1_2004_01_Track01_wav.midi', 'maestro-v2.0.0/2004\\\\MIDI-Unprocessed_XP_10_R1_2004_01-02_ORIG_MID--AUDIO_10_R1_2004_02_Track02_wav.midi', 'maestro-v2.0.0/2004\\\\MIDI-Unprocessed_XP_10_R1_2004_03-04_ORIG_MID--AUDIO_10_R1_2004_03_Track03_wav.midi', 'maestro-v2.0.0/2004\\\\MIDI-Unprocessed_XP_10_R1_2004_05_ORIG_MID--AUDIO_10_R1_2004_05_Track05_wav.midi', 'maestro-v2.0.0/2004\\\\MIDI-Unprocessed_XP_11_R1_2004_01-02_ORIG_MID--AUDIO_11_R1_2004_01_Track01_wav.midi', 'maestro-v2.0.0/2004\\\\MIDI-Unprocessed_XP_11_R1_2004_01-02_ORIG_MID--AUDIO_11_R1_2004_02_Track02_wav.midi', 'maestro-v2.0.0/2004\\\\MIDI-Unprocessed_XP_11_R1_2004_03-04_ORIG_MID--AUDIO_11_R1_2004_03_Track03_wav.midi', 'maestro-v2.0.0/2004\\\\MIDI-Unprocessed_XP_11_R1_2004_03-04_ORIG_MID--AUDIO_11_R1_2004_04_Track04_wav.midi', 'maestro-v2.0.0/2004\\\\MIDI-Unprocessed_XP_14_R1_2004_01-03_ORIG_MID--AUDIO_14_R1_2004_01_Track01_wav.midi', 'maestro-v2.0.0/2004\\\\MIDI-Unprocessed_XP_14_R1_2004_01-03_ORIG_MID--AUDIO_14_R1_2004_03_Track03_wav.midi', 'maestro-v2.0.0/2004\\\\MIDI-Unprocessed_XP_14_R1_2004_04_ORIG_MID--AUDIO_14_R1_2004_04_Track04_wav.midi', 'maestro-v2.0.0/2004\\\\MIDI-Unprocessed_XP_14_R1_2004_04_ORIG_MID--AUDIO_14_R1_2004_05_Track05_wav.midi', 'maestro-v2.0.0/2004\\\\MIDI-Unprocessed_XP_14_R1_2004_04_ORIG_MID--AUDIO_14_R1_2004_06_Track06_wav.midi', 'maestro-v2.0.0/2004\\\\MIDI-Unprocessed_XP_14_R2_2004_01_ORIG_MID--AUDIO_14_R2_2004_01_Track01_wav.midi', 'maestro-v2.0.0/2004\\\\MIDI-Unprocessed_XP_14_R2_2004_01_ORIG_MID--AUDIO_14_R2_2004_02_Track02_wav.midi', 'maestro-v2.0.0/2004\\\\MIDI-Unprocessed_XP_14_R2_2004_01_ORIG_MID--AUDIO_14_R2_2004_03_Track03_wav.midi', 'maestro-v2.0.0/2004\\\\MIDI-Unprocessed_XP_14_R2_2004_01_ORIG_MID--AUDIO_14_R2_2004_04_Track04_wav.midi', 'maestro-v2.0.0/2004\\\\MIDI-Unprocessed_XP_15_R1_2004_01-02_ORIG_MID--AUDIO_15_R1_2004_01_Track01_wav.midi', 'maestro-v2.0.0/2004\\\\MIDI-Unprocessed_XP_15_R1_2004_01-02_ORIG_MID--AUDIO_15_R1_2004_02_Track02_wav.midi', 'maestro-v2.0.0/2004\\\\MIDI-Unprocessed_XP_15_R1_2004_03_ORIG_MID--AUDIO_15_R1_2004_03_Track03_wav.midi', 'maestro-v2.0.0/2004\\\\MIDI-Unprocessed_XP_15_R1_2004_04_ORIG_MID--AUDIO_15_R1_2004_04_Track04_wav.midi', 'maestro-v2.0.0/2004\\\\MIDI-Unprocessed_XP_15_R2_2004_01_ORIG_MID--AUDIO_15_R2_2004_01_Track01_wav.midi', 'maestro-v2.0.0/2004\\\\MIDI-Unprocessed_XP_15_R2_2004_01_ORIG_MID--AUDIO_15_R2_2004_02_Track02_wav.midi', 'maestro-v2.0.0/2004\\\\MIDI-Unprocessed_XP_15_R2_2004_01_ORIG_MID--AUDIO_15_R2_2004_03_Track03_wav.midi', 'maestro-v2.0.0/2004\\\\MIDI-Unprocessed_XP_15_R2_2004_01_ORIG_MID--AUDIO_15_R2_2004_04_Track04_wav.midi', 'maestro-v2.0.0/2004\\\\MIDI-Unprocessed_XP_16_R2_2004_01_ORIG_MID--AUDIO_16_R2_2004_01_Track01_wav.midi', 'maestro-v2.0.0/2004\\\\MIDI-Unprocessed_XP_16_R2_2004_01_ORIG_MID--AUDIO_16_R2_2004_02_Track02_wav.midi', 'maestro-v2.0.0/2004\\\\MIDI-Unprocessed_XP_16_R2_2004_01_ORIG_MID--AUDIO_16_R2_2004_03_Track03_wav.midi', 'maestro-v2.0.0/2004\\\\MIDI-Unprocessed_XP_16_R2_2004_01_ORIG_MID--AUDIO_16_R2_2004_04_Track04_wav.midi', 'maestro-v2.0.0/2004\\\\MIDI-Unprocessed_XP_17_R2_2004_01_ORIG_MID--AUDIO_17_R2_2004_01_Track01_wav.midi', 'maestro-v2.0.0/2004\\\\MIDI-Unprocessed_XP_17_R2_2004_01_ORIG_MID--AUDIO_17_R2_2004_02_Track02_wav.midi', 'maestro-v2.0.0/2004\\\\MIDI-Unprocessed_XP_17_R2_2004_01_ORIG_MID--AUDIO_17_R2_2004_03_Track03_wav.midi', 'maestro-v2.0.0/2004\\\\MIDI-Unprocessed_XP_17_R2_2004_01_ORIG_MID--AUDIO_17_R2_2004_04_Track04_wav.midi', 'maestro-v2.0.0/2004\\\\MIDI-Unprocessed_XP_18_R1_2004_01-02_ORIG_MID--AUDIO_18_R1_2004_02_Track02_wav.midi', 'maestro-v2.0.0/2004\\\\MIDI-Unprocessed_XP_18_R1_2004_01-02_ORIG_MID--AUDIO_18_R1_2004_03_Track03_wav.midi', 'maestro-v2.0.0/2004\\\\MIDI-Unprocessed_XP_18_R1_2004_01-02_ORIG_MID--AUDIO_18_R1_2004_04_Track04_wav.midi', 'maestro-v2.0.0/2004\\\\MIDI-Unprocessed_XP_18_R1_2004_01-02_ORIG_MID--AUDIO_18_R1_2004_05_Track05_wav.midi', 'maestro-v2.0.0/2004\\\\MIDI-Unprocessed_XP_18_R1_2004_04_ORIG_MID--AUDIO_18_R1_2004_07_Track07_wav.midi', 'maestro-v2.0.0/2004\\\\MIDI-Unprocessed_XP_19_R1_2004_01-02_ORIG_MID--AUDIO_19_R1_2004_01_Track01_wav.midi', 'maestro-v2.0.0/2004\\\\MIDI-Unprocessed_XP_19_R1_2004_01-02_ORIG_MID--AUDIO_19_R1_2004_02_Track02_wav.midi', 'maestro-v2.0.0/2004\\\\MIDI-Unprocessed_XP_19_R1_2004_01-02_ORIG_MID--AUDIO_19_R1_2004_03_Track03_wav.midi', 'maestro-v2.0.0/2004\\\\MIDI-Unprocessed_XP_19_R2_2004_01_ORIG_MID--AUDIO_19_R2_2004_01_Track01_wav.midi', 'maestro-v2.0.0/2004\\\\MIDI-Unprocessed_XP_19_R2_2004_01_ORIG_MID--AUDIO_19_R2_2004_02_Track02_wav.midi', 'maestro-v2.0.0/2004\\\\MIDI-Unprocessed_XP_19_R2_2004_01_ORIG_MID--AUDIO_19_R2_2004_03_Track03_wav.midi', 'maestro-v2.0.0/2004\\\\MIDI-Unprocessed_XP_20_R2_2004_01_ORIG_MID--AUDIO_20_R1_2004_01_Track01_wav.midi', 'maestro-v2.0.0/2004\\\\MIDI-Unprocessed_XP_20_R2_2004_01_ORIG_MID--AUDIO_20_R1_2004_02_Track02_wav.midi', 'maestro-v2.0.0/2004\\\\MIDI-Unprocessed_XP_20_R2_2004_01_ORIG_MID--AUDIO_20_R1_2004_03_Track03_wav.midi', 'maestro-v2.0.0/2004\\\\MIDI-Unprocessed_XP_21_R1_2004_01_ORIG_MID--AUDIO_21_R1_2004_01_Track01_wav.midi', 'maestro-v2.0.0/2004\\\\MIDI-Unprocessed_XP_21_R1_2004_02_ORIG_MID--AUDIO_21_R1_2004_02_Track02_wav.midi', 'maestro-v2.0.0/2004\\\\MIDI-Unprocessed_XP_21_R1_2004_02_ORIG_MID--AUDIO_21_R1_2004_03_Track03_wav.midi', 'maestro-v2.0.0/2004\\\\MIDI-Unprocessed_XP_21_R1_2004_03_ORIG_MID--AUDIO_21_R1_2004_04_Track04_wav.midi', 'maestro-v2.0.0/2004\\\\MIDI-Unprocessed_XP_22_R2_2004_01_ORIG_MID--AUDIO_22_R2_2004_01_Track01_wav.midi', 'maestro-v2.0.0/2004\\\\MIDI-Unprocessed_XP_22_R2_2004_01_ORIG_MID--AUDIO_22_R2_2004_02_Track02_wav.midi', 'maestro-v2.0.0/2004\\\\MIDI-Unprocessed_XP_22_R2_2004_01_ORIG_MID--AUDIO_22_R2_2004_03_Track03_wav.midi', 'maestro-v2.0.0/2004\\\\MIDI-Unprocessed_XP_22_R2_2004_01_ORIG_MID--AUDIO_22_R2_2004_04_Track04_wav.midi']\n"
          ]
        }
      ],
      "source": [
        "print(paths)"
      ]
    },
    {
      "cell_type": "code",
      "execution_count": 5,
      "metadata": {
        "colab": {
          "base_uri": "https://localhost:8080/"
        },
        "id": "RQAaeIpGkMWY",
        "outputId": "1d81014b-319a-4ac2-924d-d78b13066cf9"
      },
      "outputs": [
        {
          "name": "stdout",
          "output_type": "stream",
          "text": [
            "maestro-v2.0.0/2004\\MIDI-Unprocessed_SMF_02_R1_2004_01-05_ORIG_MID--AUDIO_02_R1_2004_06_Track06_wav.midi\n",
            "maestro-v2.0.0/2004\\MIDI-Unprocessed_SMF_02_R1_2004_01-05_ORIG_MID--AUDIO_02_R1_2004_08_Track08_wav.midi\n",
            "maestro-v2.0.0/2004\\MIDI-Unprocessed_SMF_02_R1_2004_01-05_ORIG_MID--AUDIO_02_R1_2004_10_Track10_wav.midi\n",
            "maestro-v2.0.0/2004\\MIDI-Unprocessed_SMF_05_R1_2004_01_ORIG_MID--AUDIO_05_R1_2004_03_Track03_wav.midi\n",
            "maestro-v2.0.0/2004\\MIDI-Unprocessed_SMF_05_R1_2004_02-03_ORIG_MID--AUDIO_05_R1_2004_06_Track06_wav.midi\n",
            "maestro-v2.0.0/2004\\MIDI-Unprocessed_SMF_07_R1_2004_01_ORIG_MID--AUDIO_07_R1_2004_02_Track02_wav.midi\n",
            "maestro-v2.0.0/2004\\MIDI-Unprocessed_SMF_07_R1_2004_01_ORIG_MID--AUDIO_07_R1_2004_06_Track06_wav.midi\n",
            "maestro-v2.0.0/2004\\MIDI-Unprocessed_SMF_07_R1_2004_01_ORIG_MID--AUDIO_07_R1_2004_12_Track12_wav.midi\n",
            "maestro-v2.0.0/2004\\MIDI-Unprocessed_SMF_12_01_2004_01-05_ORIG_MID--AUDIO_12_R1_2004_07_Track07_wav.midi\n",
            "maestro-v2.0.0/2004\\MIDI-Unprocessed_SMF_12_01_2004_01-05_ORIG_MID--AUDIO_12_R1_2004_08_Track08_wav.midi\n",
            "maestro-v2.0.0/2004\\MIDI-Unprocessed_SMF_12_01_2004_01-05_ORIG_MID--AUDIO_12_R1_2004_09_Track09_wav.midi\n",
            "maestro-v2.0.0/2004\\MIDI-Unprocessed_SMF_12_01_2004_01-05_ORIG_MID--AUDIO_12_R1_2004_10_Track10_wav.midi\n",
            "maestro-v2.0.0/2004\\MIDI-Unprocessed_SMF_13_01_2004_01-05_ORIG_MID--AUDIO_13_R1_2004_08_Track08_wav.midi\n",
            "maestro-v2.0.0/2004\\MIDI-Unprocessed_SMF_13_01_2004_01-05_ORIG_MID--AUDIO_13_R1_2004_09_Track09_wav.midi\n",
            "maestro-v2.0.0/2004\\MIDI-Unprocessed_SMF_13_01_2004_01-05_ORIG_MID--AUDIO_13_R1_2004_10_Track10_wav.midi\n",
            "maestro-v2.0.0/2004\\MIDI-Unprocessed_SMF_13_01_2004_01-05_ORIG_MID--AUDIO_13_R1_2004_12_Track12_wav.midi\n",
            "maestro-v2.0.0/2004\\MIDI-Unprocessed_SMF_16_R1_2004_01-08_ORIG_MID--AUDIO_16_R1_2004_02_Track02_wav.midi\n",
            "maestro-v2.0.0/2004\\MIDI-Unprocessed_SMF_16_R1_2004_01-08_ORIG_MID--AUDIO_16_R1_2004_03_Track03_wav.midi\n",
            "maestro-v2.0.0/2004\\MIDI-Unprocessed_SMF_16_R1_2004_01-08_ORIG_MID--AUDIO_16_R1_2004_04_Track04_wav.midi\n",
            "maestro-v2.0.0/2004\\MIDI-Unprocessed_SMF_16_R1_2004_01-08_ORIG_MID--AUDIO_16_R1_2004_05_Track05_wav.midi\n",
            "maestro-v2.0.0/2004\\MIDI-Unprocessed_SMF_16_R1_2004_01-08_ORIG_MID--AUDIO_16_R1_2004_06_Track06_wav.midi\n",
            "maestro-v2.0.0/2004\\MIDI-Unprocessed_SMF_17_R1_2004_01-02_ORIG_MID--AUDIO_20_R2_2004_02_Track02_wav.midi\n",
            "maestro-v2.0.0/2004\\MIDI-Unprocessed_SMF_17_R1_2004_01-02_ORIG_MID--AUDIO_20_R2_2004_04_Track04_wav.midi\n",
            "maestro-v2.0.0/2004\\MIDI-Unprocessed_SMF_17_R1_2004_01-02_ORIG_MID--AUDIO_20_R2_2004_06_Track06_wav.midi\n",
            "maestro-v2.0.0/2004\\MIDI-Unprocessed_SMF_17_R1_2004_01-03_ORIG_MID--AUDIO_17_R1_2004_02_Track02_wav--1.midi\n",
            "maestro-v2.0.0/2004\\MIDI-Unprocessed_SMF_17_R1_2004_01-03_ORIG_MID--AUDIO_17_R1_2004_02_Track02_wav--2.midi\n",
            "maestro-v2.0.0/2004\\MIDI-Unprocessed_SMF_17_R1_2004_01-03_ORIG_MID--AUDIO_17_R1_2004_03_Track03_wav.midi\n",
            "maestro-v2.0.0/2004\\MIDI-Unprocessed_SMF_17_R1_2004_01-03_ORIG_MID--AUDIO_17_R1_2004_06_Track06_wav.midi\n",
            "maestro-v2.0.0/2004\\MIDI-Unprocessed_SMF_17_R1_2004_03-06_ORIG_MID--AUDIO_20_R2_2004_08_Track08_wav.midi\n",
            "maestro-v2.0.0/2004\\MIDI-Unprocessed_SMF_17_R1_2004_03-06_ORIG_MID--AUDIO_20_R2_2004_12_Track12_wav--1.midi\n",
            "maestro-v2.0.0/2004\\MIDI-Unprocessed_SMF_17_R1_2004_03-06_ORIG_MID--AUDIO_20_R2_2004_12_Track12_wav--2.midi\n",
            "maestro-v2.0.0/2004\\MIDI-Unprocessed_SMF_17_R1_2004_04_ORIG_MID--AUDIO_17_R1_2004_11_Track11_wav.midi\n",
            "maestro-v2.0.0/2004\\MIDI-Unprocessed_SMF_22_R1_2004_01-04_ORIG_MID--AUDIO_22_R1_2004_03_Track03_wav.midi\n",
            "maestro-v2.0.0/2004\\MIDI-Unprocessed_SMF_22_R1_2004_01-04_ORIG_MID--AUDIO_22_R1_2004_05_Track05_wav.midi\n",
            "maestro-v2.0.0/2004\\MIDI-Unprocessed_XP_01_R1_2004_01-02_ORIG_MID--AUDIO_01_R1_2004_02_Track02_wav.midi\n",
            "maestro-v2.0.0/2004\\MIDI-Unprocessed_XP_01_R1_2004_01-02_ORIG_MID--AUDIO_01_R1_2004_03_Track03_wav.midi\n",
            "maestro-v2.0.0/2004\\MIDI-Unprocessed_XP_01_R1_2004_04-05_ORIG_MID--AUDIO_01_R1_2004_05_Track05_wav.midi\n",
            "maestro-v2.0.0/2004\\MIDI-Unprocessed_XP_01_R1_2004_04-05_ORIG_MID--AUDIO_01_R1_2004_06_Track06_wav.midi\n",
            "maestro-v2.0.0/2004\\MIDI-Unprocessed_XP_03_R1_2004_01-02_ORIG_MID--AUDIO_03_R1_2004_01_Track01_wav.midi\n",
            "maestro-v2.0.0/2004\\MIDI-Unprocessed_XP_04_R1_2004_01-02_ORIG_MID--AUDIO_04_R1_2004_02_Track02_wav.midi\n",
            "maestro-v2.0.0/2004\\MIDI-Unprocessed_XP_04_R1_2004_03-05_ORIG_MID--AUDIO_04_R1_2004_04_Track04_wav.midi\n",
            "maestro-v2.0.0/2004\\MIDI-Unprocessed_XP_04_R1_2004_03-05_ORIG_MID--AUDIO_04_R1_2004_05_Track05_wav.midi\n",
            "maestro-v2.0.0/2004\\MIDI-Unprocessed_XP_04_R1_2004_03-05_ORIG_MID--AUDIO_04_R1_2004_06_Track06_wav.midi\n",
            "maestro-v2.0.0/2004\\MIDI-Unprocessed_XP_04_R1_2004_06_ORIG_MID--AUDIO_04_R1_2004_08_Track08_wav.midi\n",
            "maestro-v2.0.0/2004\\MIDI-Unprocessed_XP_06_R1_2004_02-03_ORIG_MID--AUDIO_06_R1_2004_05_Track05_wav.midi\n",
            "maestro-v2.0.0/2004\\MIDI-Unprocessed_XP_06_R2_2004_01_ORIG_MID--AUDIO_06_R2_2004_01_Track01_wav.midi\n",
            "maestro-v2.0.0/2004\\MIDI-Unprocessed_XP_06_R2_2004_01_ORIG_MID--AUDIO_06_R2_2004_02_Track02_wav.midi\n",
            "maestro-v2.0.0/2004\\MIDI-Unprocessed_XP_06_R2_2004_01_ORIG_MID--AUDIO_06_R2_2004_03_Track03_wav.midi\n",
            "maestro-v2.0.0/2004\\MIDI-Unprocessed_XP_08_R1_2004_01-02_ORIG_MID--AUDIO_08_R1_2004_01_Track01_wav.midi\n",
            "maestro-v2.0.0/2004\\MIDI-Unprocessed_XP_08_R1_2004_03_ORIG_MID--AUDIO_08_R1_2004_03_Track03_wav.midi\n",
            "maestro-v2.0.0/2004\\MIDI-Unprocessed_XP_08_R1_2004_04-06_ORIG_MID--AUDIO_08_R1_2004_04_Track04_wav.midi\n",
            "maestro-v2.0.0/2004\\MIDI-Unprocessed_XP_08_R1_2004_04-06_ORIG_MID--AUDIO_08_R1_2004_05_Track05_wav--1.midi\n",
            "maestro-v2.0.0/2004\\MIDI-Unprocessed_XP_08_R1_2004_04-06_ORIG_MID--AUDIO_08_R1_2004_05_Track05_wav--2.midi\n",
            "maestro-v2.0.0/2004\\MIDI-Unprocessed_XP_09_R1_2004_01-02_ORIG_MID--AUDIO_09_R1_2004_01_Track01_wav.midi\n",
            "maestro-v2.0.0/2004\\MIDI-Unprocessed_XP_09_R1_2004_01-02_ORIG_MID--AUDIO_09_R1_2004_02_Track02_wav.midi\n",
            "maestro-v2.0.0/2004\\MIDI-Unprocessed_XP_09_R1_2004_01-02_ORIG_MID--AUDIO_09_R1_2004_03_Track03_wav.midi\n",
            "maestro-v2.0.0/2004\\MIDI-Unprocessed_XP_09_R1_2004_05_ORIG_MID--AUDIO_09_R1_2004_06_Track06_wav.midi\n",
            "maestro-v2.0.0/2004\\MIDI-Unprocessed_XP_09_R1_2004_05_ORIG_MID--AUDIO_09_R1_2004_07_Track07_wav.midi\n",
            "maestro-v2.0.0/2004\\MIDI-Unprocessed_XP_09_R1_2004_05_ORIG_MID--AUDIO_09_R1_2004_08_Track08_wav.midi\n",
            "maestro-v2.0.0/2004\\MIDI-Unprocessed_XP_10_R1_2004_01-02_ORIG_MID--AUDIO_10_R1_2004_01_Track01_wav.midi\n",
            "maestro-v2.0.0/2004\\MIDI-Unprocessed_XP_10_R1_2004_03-04_ORIG_MID--AUDIO_10_R1_2004_03_Track03_wav.midi\n",
            "maestro-v2.0.0/2004\\MIDI-Unprocessed_XP_11_R1_2004_01-02_ORIG_MID--AUDIO_11_R1_2004_01_Track01_wav.midi\n",
            "maestro-v2.0.0/2004\\MIDI-Unprocessed_XP_11_R1_2004_03-04_ORIG_MID--AUDIO_11_R1_2004_03_Track03_wav.midi\n",
            "maestro-v2.0.0/2004\\MIDI-Unprocessed_XP_11_R1_2004_03-04_ORIG_MID--AUDIO_11_R1_2004_04_Track04_wav.midi\n",
            "maestro-v2.0.0/2004\\MIDI-Unprocessed_XP_14_R1_2004_01-03_ORIG_MID--AUDIO_14_R1_2004_01_Track01_wav.midi\n",
            "maestro-v2.0.0/2004\\MIDI-Unprocessed_XP_14_R1_2004_04_ORIG_MID--AUDIO_14_R1_2004_04_Track04_wav.midi\n",
            "maestro-v2.0.0/2004\\MIDI-Unprocessed_XP_14_R1_2004_04_ORIG_MID--AUDIO_14_R1_2004_05_Track05_wav.midi\n",
            "maestro-v2.0.0/2004\\MIDI-Unprocessed_XP_14_R1_2004_04_ORIG_MID--AUDIO_14_R1_2004_06_Track06_wav.midi\n",
            "maestro-v2.0.0/2004\\MIDI-Unprocessed_XP_14_R2_2004_01_ORIG_MID--AUDIO_14_R2_2004_02_Track02_wav.midi\n",
            "maestro-v2.0.0/2004\\MIDI-Unprocessed_XP_14_R2_2004_01_ORIG_MID--AUDIO_14_R2_2004_03_Track03_wav.midi\n",
            "maestro-v2.0.0/2004\\MIDI-Unprocessed_XP_14_R2_2004_01_ORIG_MID--AUDIO_14_R2_2004_04_Track04_wav.midi\n",
            "maestro-v2.0.0/2004\\MIDI-Unprocessed_XP_15_R1_2004_01-02_ORIG_MID--AUDIO_15_R1_2004_01_Track01_wav.midi\n",
            "maestro-v2.0.0/2004\\MIDI-Unprocessed_XP_15_R2_2004_01_ORIG_MID--AUDIO_15_R2_2004_01_Track01_wav.midi\n",
            "maestro-v2.0.0/2004\\MIDI-Unprocessed_XP_15_R2_2004_01_ORIG_MID--AUDIO_15_R2_2004_02_Track02_wav.midi\n",
            "maestro-v2.0.0/2004\\MIDI-Unprocessed_XP_15_R2_2004_01_ORIG_MID--AUDIO_15_R2_2004_03_Track03_wav.midi\n",
            "maestro-v2.0.0/2004\\MIDI-Unprocessed_XP_15_R2_2004_01_ORIG_MID--AUDIO_15_R2_2004_04_Track04_wav.midi\n",
            "maestro-v2.0.0/2004\\MIDI-Unprocessed_XP_16_R2_2004_01_ORIG_MID--AUDIO_16_R2_2004_02_Track02_wav.midi\n",
            "maestro-v2.0.0/2004\\MIDI-Unprocessed_XP_16_R2_2004_01_ORIG_MID--AUDIO_16_R2_2004_03_Track03_wav.midi\n",
            "maestro-v2.0.0/2004\\MIDI-Unprocessed_XP_16_R2_2004_01_ORIG_MID--AUDIO_16_R2_2004_04_Track04_wav.midi\n",
            "maestro-v2.0.0/2004\\MIDI-Unprocessed_XP_17_R2_2004_01_ORIG_MID--AUDIO_17_R2_2004_01_Track01_wav.midi\n",
            "maestro-v2.0.0/2004\\MIDI-Unprocessed_XP_17_R2_2004_01_ORIG_MID--AUDIO_17_R2_2004_02_Track02_wav.midi\n",
            "maestro-v2.0.0/2004\\MIDI-Unprocessed_XP_17_R2_2004_01_ORIG_MID--AUDIO_17_R2_2004_03_Track03_wav.midi\n",
            "maestro-v2.0.0/2004\\MIDI-Unprocessed_XP_17_R2_2004_01_ORIG_MID--AUDIO_17_R2_2004_04_Track04_wav.midi\n",
            "maestro-v2.0.0/2004\\MIDI-Unprocessed_XP_18_R1_2004_01-02_ORIG_MID--AUDIO_18_R1_2004_02_Track02_wav.midi\n",
            "maestro-v2.0.0/2004\\MIDI-Unprocessed_XP_18_R1_2004_01-02_ORIG_MID--AUDIO_18_R1_2004_03_Track03_wav.midi\n",
            "maestro-v2.0.0/2004\\MIDI-Unprocessed_XP_18_R1_2004_01-02_ORIG_MID--AUDIO_18_R1_2004_04_Track04_wav.midi\n",
            "maestro-v2.0.0/2004\\MIDI-Unprocessed_XP_18_R1_2004_01-02_ORIG_MID--AUDIO_18_R1_2004_05_Track05_wav.midi\n",
            "maestro-v2.0.0/2004\\MIDI-Unprocessed_XP_19_R1_2004_01-02_ORIG_MID--AUDIO_19_R1_2004_01_Track01_wav.midi\n",
            "maestro-v2.0.0/2004\\MIDI-Unprocessed_XP_19_R1_2004_01-02_ORIG_MID--AUDIO_19_R1_2004_02_Track02_wav.midi\n",
            "maestro-v2.0.0/2004\\MIDI-Unprocessed_XP_19_R2_2004_01_ORIG_MID--AUDIO_19_R2_2004_01_Track01_wav.midi\n",
            "maestro-v2.0.0/2004\\MIDI-Unprocessed_XP_19_R2_2004_01_ORIG_MID--AUDIO_19_R2_2004_02_Track02_wav.midi\n",
            "maestro-v2.0.0/2004\\MIDI-Unprocessed_XP_19_R2_2004_01_ORIG_MID--AUDIO_19_R2_2004_03_Track03_wav.midi\n",
            "maestro-v2.0.0/2004\\MIDI-Unprocessed_XP_20_R2_2004_01_ORIG_MID--AUDIO_20_R1_2004_01_Track01_wav.midi\n",
            "maestro-v2.0.0/2004\\MIDI-Unprocessed_XP_20_R2_2004_01_ORIG_MID--AUDIO_20_R1_2004_02_Track02_wav.midi\n",
            "maestro-v2.0.0/2004\\MIDI-Unprocessed_XP_20_R2_2004_01_ORIG_MID--AUDIO_20_R1_2004_03_Track03_wav.midi\n",
            "maestro-v2.0.0/2004\\MIDI-Unprocessed_XP_21_R1_2004_02_ORIG_MID--AUDIO_21_R1_2004_02_Track02_wav.midi\n",
            "maestro-v2.0.0/2004\\MIDI-Unprocessed_XP_21_R1_2004_02_ORIG_MID--AUDIO_21_R1_2004_03_Track03_wav.midi\n",
            "maestro-v2.0.0/2004\\MIDI-Unprocessed_XP_22_R2_2004_01_ORIG_MID--AUDIO_22_R2_2004_01_Track01_wav.midi\n",
            "maestro-v2.0.0/2004\\MIDI-Unprocessed_XP_22_R2_2004_01_ORIG_MID--AUDIO_22_R2_2004_02_Track02_wav.midi\n",
            "maestro-v2.0.0/2004\\MIDI-Unprocessed_XP_22_R2_2004_01_ORIG_MID--AUDIO_22_R2_2004_03_Track03_wav.midi\n",
            "maestro-v2.0.0/2004\\MIDI-Unprocessed_XP_22_R2_2004_01_ORIG_MID--AUDIO_22_R2_2004_04_Track04_wav.midi\n"
          ]
        }
      ],
      "source": [
        "import os\n",
        "import pretty_midi\n",
        "\n",
        "midi_files_dir = data_dir\n",
        "output_dir = \"selected_midi_files\"  # Define the output directory\n",
        "output_path = os.path.join(midi_files_dir, output_dir)\n",
        "\n",
        "if not os.path.exists(output_path):\n",
        "    os.makedirs(output_path)\n",
        "\n",
        "# Criteria for selection\n",
        "desired_time_signature = (4, 4)  # (numerator, denominator)\n",
        "min_length_seconds = 100\n",
        "max_length_seconds = 800\n",
        "\n",
        "selected_files = []\n",
        "\n",
        "# Iterate over all files in the directory\n",
        "for filepath in paths:\n",
        "    try:\n",
        "        # Load the MIDI file\n",
        "        midi_data = pretty_midi.PrettyMIDI(filepath)\n",
        "\n",
        "        # Check time signatures\n",
        "        time_signatures = midi_data.time_signature_changes\n",
        "        has_desired_time_signature = any(ts.numerator == desired_time_signature[0] and\n",
        "                                            ts.denominator == desired_time_signature[1]\n",
        "                                            for ts in time_signatures)\n",
        "\n",
        "        # Check length\n",
        "        length = midi_data.get_end_time()  # This returns the length in seconds\n",
        "        if has_desired_time_signature and min_length_seconds <= length <= max_length_seconds:\n",
        "            # Construct output file path\n",
        "            \n",
        "            # Copy the file to the output directory\n",
        "            selected_files.append(filepath)\n",
        "\n",
        "    except Exception as e:\n",
        "        print(f\"Error processing {filepath}: {e}\")\n",
        "\n",
        "# Print or use the selected files\n",
        "for file in selected_files:\n",
        "    print(file)\n"
      ]
    },
    {
      "cell_type": "code",
      "execution_count": 7,
      "metadata": {
        "colab": {
          "base_uri": "https://localhost:8080/"
        },
        "id": "EVTC6UGSTmYn",
        "outputId": "60591849-14d6-4e91-ec85-e2bebd1acf47"
      },
      "outputs": [
        {
          "name": "stderr",
          "output_type": "stream",
          "text": [
            "Tokenizing MIDIs (data/only2004): 100%|██████████| 101/101 [00:36<00:00,  2.77it/s]\n"
          ]
        }
      ],
      "source": [
        "from miditok import REMI\n",
        "from pathlib import Path\n",
        "\n",
        "\n",
        "# Creates the tokenizer and list the file paths\n",
        "tokenizer = REMI(sos_eos=True)\n",
        "midi_paths = selected_files\n",
        "\n",
        "# Converts MIDI files to tokens saved as JSON files\n",
        "tokenizer.tokenize_midi_dataset(\n",
        "    midi_paths,\n",
        "    Path('data/only2004')\n",
        ")\n",
        "\n",
        "# Learns the vocabulary with BPE\n"
      ]
    },
    {
      "cell_type": "code",
      "execution_count": 10,
      "metadata": {},
      "outputs": [
        {
          "name": "stderr",
          "output_type": "stream",
          "text": [
            "Loading token files: 100%|██████████| 101/101 [00:00<00:00, 400.84it/s]\n",
            "Learning byte pair encoding: 292it [06:06,  1.26s/it, seq_len_variation=-30.73, avg_nb_token_combs=2.51, max_nb_token_combs=3]\n"
          ]
        },
        {
          "name": "stdout",
          "output_type": "stream",
          "text": [
            "Mean of original lengths: 15497.50495049505\n",
            "Mean length after BPE: 10734.356435643564\n",
            "Variation from original: -30.73 %\n"
          ]
        },
        {
          "name": "stderr",
          "output_type": "stream",
          "text": [
            "Applying BPE to dataset: 100%|██████████| 101/101 [01:00<00:00,  1.66it/s]\n"
          ]
        }
      ],
      "source": [
        "tokenizer.learn_bpe(\n",
        "    'data/only2004',\n",
        "    512,\n",
        "    'data/only2004_BPE'\n",
        ")\n",
        "\n",
        "# Converts the tokenized musics into tokens with BPE\n",
        "tokenizer.apply_bpe_to_dataset(Path('data/only2004'), Path('data/only2004_BPE'))"
      ]
    },
    {
      "cell_type": "markdown",
      "metadata": {},
      "source": [
        "## save tokenizer"
      ]
    },
    {
      "cell_type": "code",
      "execution_count": 11,
      "metadata": {},
      "outputs": [],
      "source": [
        "import pickle\n",
        "\n",
        "# Assuming 'tokenizer' is your REMI tokenizer after it has learned BPE\n",
        "with open('tokenizer_bpe.pkl', 'wb') as f:\n",
        "    pickle.dump(tokenizer, f)\n"
      ]
    },
    {
      "cell_type": "code",
      "execution_count": 12,
      "metadata": {},
      "outputs": [
        {
          "name": "stdout",
          "output_type": "stream",
          "text": [
            "512\n"
          ]
        }
      ],
      "source": [
        "print(tokenizer.len)"
      ]
    },
    {
      "cell_type": "code",
      "execution_count": 13,
      "metadata": {},
      "outputs": [
        {
          "ename": "NameError",
          "evalue": "name 'tokens' is not defined",
          "output_type": "error",
          "traceback": [
            "\u001b[1;31m---------------------------------------------------------------------------\u001b[0m",
            "\u001b[1;31mNameError\u001b[0m                                 Traceback (most recent call last)",
            "\u001b[1;32m~\\AppData\\Local\\Temp\\ipykernel_6192\\4001411728.py\u001b[0m in \u001b[0;36m<module>\u001b[1;34m\u001b[0m\n\u001b[1;32m----> 1\u001b[1;33m \u001b[0mprint\u001b[0m\u001b[1;33m(\u001b[0m\u001b[0mtype\u001b[0m\u001b[1;33m(\u001b[0m\u001b[0mtokens\u001b[0m\u001b[1;33m)\u001b[0m\u001b[1;33m)\u001b[0m\u001b[1;33m\u001b[0m\u001b[0m\n\u001b[0m",
            "\u001b[1;31mNameError\u001b[0m: name 'tokens' is not defined"
          ]
        }
      ],
      "source": [
        "print(type(tokens))"
      ]
    },
    {
      "cell_type": "markdown",
      "metadata": {},
      "source": [
        "## apply to all"
      ]
    },
    {
      "cell_type": "code",
      "execution_count": null,
      "metadata": {},
      "outputs": [],
      "source": [
        "tokenizer.apply_bpe_to_dataset(Path('data/only2004'), Path('data/only2004_BPE'))"
      ]
    },
    {
      "cell_type": "markdown",
      "metadata": {
        "id": "ETdVbfdn8aIh"
      },
      "source": [
        "# Putting the tokens in the right format (numpy arrays)"
      ]
    },
    {
      "cell_type": "code",
      "execution_count": 17,
      "metadata": {
        "id": "SJJIlwMeke3R"
      },
      "outputs": [],
      "source": [
        "import json\n",
        "import numpy as np\n",
        "import os\n",
        "from pathlib import Path\n",
        "\n",
        "output_folder = Path(\"tokenized_data\")\n",
        "output_folder.mkdir(parents=True, exist_ok=True)\n",
        "\n",
        "# Turns all the json files from tokenization in a folder into numpy arrays\n",
        "def json_to_nparray(path):\n",
        "    for filename in os.listdir(path):\n",
        "        if filename.endswith('.json'):\n",
        "            with open(path + '/' + filename, \"r\") as f:\n",
        "                data = json.load(f)\n",
        "                np.save(output_folder / (filename[:-5] + '.npy'), np.array(data))  # Corrected the save path\n",
        "        continue\n",
        "\n",
        "json_to_nparray(\"data/only2004_BPE\")"
      ]
    },
    {
      "cell_type": "code",
      "execution_count": 11,
      "metadata": {
        "id": "g-4-m1Pacz92"
      },
      "outputs": [],
      "source": [
        "def get_tokens(path): # function to get all tokens from the dataset and put them in a numpy array\n",
        "    to_shuffle = np.array(()) # to_shuffle aggregator for one piece\n",
        "    data = np.array(()) # data aggregator for one piece\n",
        "    piece_counter = 0\n",
        "\n",
        "    for filename in os.listdir(path):\n",
        "        if filename.endswith('.npy'):\n",
        "            to_shuffle = np.append(to_shuffle, np.load(path + filename, allow_pickle=True)[()])\n",
        "    np.random.shuffle(to_shuffle)\n",
        "\n",
        "    for i in range(len(to_shuffle)):\n",
        "        data = np.append(data, 1)\n",
        "        for j in range(len(to_shuffle[i].get('tokens'))):\n",
        "            data = np.append(data, to_shuffle[i].get('tokens')[j])\n",
        "        data = np.append(data, 2)\n",
        "        piece_counter += 1\n",
        "\n",
        "    return data, piece_counter\n",
        "path_tokens_BPE = \"/content/data/BPE_tokenized_data/\"\n",
        "tokens, piece_counter = get_tokens(path_tokens_BPE)\n",
        "\n",
        "np.save(path_tokens_BPE, tokens)"
      ]
    },
    {
      "cell_type": "markdown",
      "metadata": {
        "id": "LaMVRZfw56eA"
      },
      "source": [
        "# Plot"
      ]
    },
    {
      "cell_type": "code",
      "execution_count": 12,
      "metadata": {
        "colab": {
          "base_uri": "https://localhost:8080/",
          "height": 480
        },
        "id": "ZX6Io2_LgniW",
        "outputId": "589e50a1-3ca1-4952-cf48-75d4b9660179"
      },
      "outputs": [
        {
          "name": "stdout",
          "output_type": "stream",
          "text": [
            "Number of tokens: 512\n",
            "Missing tokens: {0, 188, 121, 122, 123, 92}\n"
          ]
        },
        {
          "data": {
            "image/png": "[encoded data removed]",
            "text/plain": [
              "<Figure size 1000x500 with 1 Axes>"
            ]
          },
          "metadata": {},
          "output_type": "display_data"
        }
      ],
      "source": [
        "import matplotlib.pyplot as plt\n",
        "# plot the distribution of the tokens\n",
        "print(f'Number of tokens: {tokenizer.len}')\n",
        "print(f'Missing tokens: {set(range(0, 512))-set(tokens)}')\n",
        "\n",
        "plt.figure(figsize=(10, 5))\n",
        "plt.hist(tokens, bins=500)\n",
        "plt.show()"
      ]
    },
    {
      "cell_type": "markdown",
      "metadata": {
        "id": "T5ec4jW8nqUW"
      },
      "source": [
        "\n",
        "\n",
        "\n",
        "\n",
        "```\n",
        "\n",
        "# Hier der Transformer"
      ]
    },
    {
      "cell_type": "code",
      "execution_count": 15,
      "metadata": {
        "id": "0yr6VBhlVQzF"
      },
      "outputs": [],
      "source": [
        "import tensorflow as tf\n",
        "import numpy as np\n",
        "# from keras_mlp.layers import ReversibleEmbedding\n",
        "\n",
        "class PosEncode(tf.keras.layers.Layer):\n",
        "    def __init__(self,dims,  max_sep_len,):\n",
        "        super(PosEncode, self).__init__()\n",
        "        self.max_sep_len = max_sep_len\n",
        "        self.pos_enc = self._pos_enc(max_sep_len, dims)\n",
        "\n",
        "    #Add the Embeddings and the Encodings\n",
        "\n",
        "    def _pos_enc(self, length, dims):\n",
        "        pos = np.arange(length)[:, np.newaxis]\n",
        "        j = np.arange(dims)[np.newaxis, :]\n",
        "        #distribute the angles according to the formula for Positional Encodings\n",
        "        angle_rates = 1 / np.power(10000, (2 * j)/ dims)\n",
        "        angle_rads = pos * angle_rates\n",
        "        #even coordinates get sin, odd coordinates get cos\n",
        "        angle_rads[:, 0::2] = np.sin(angle_rads[:, 0::2])\n",
        "        angle_rads[:, 1::2] = np.cos(angle_rads[:, 1::2])\n",
        "        pos_encoding = angle_rads[np.newaxis, ...]\n",
        "        return tf.cast(pos_encoding, dtype=tf.float32)\n",
        "\n",
        "    @tf.function\n",
        "    def call(self, x):\n",
        "\n",
        "        seq_len = x.shape[1]\n",
        "        return tf.slice(self.pos_enc, [0, 0, 0], [-1, seq_len, -1])\n",
        "\n",
        "class InverseEmbedding(tf.keras.layers.Embedding):\n",
        "\n",
        "    def __init__(self, voc_size, dims,  **kwargs):\n",
        "        super(InverseEmbedding, self).__init__(voc_size, dims, **kwargs)\n",
        "\n",
        "    def call(self, x, inverse = False, training = True):\n",
        "        if not inverse:\n",
        "            return super().call(x)\n",
        "\n",
        "        trans = tf.transpose(tf.convert_to_tensor(self.embeddings))\n",
        "        return tf.matmul(x, trans)\n",
        "\n",
        "\n",
        "class MultiHeadAttention(tf.keras.layers.Layer):\n",
        "    def __init__(self, dims, num_heads, attn_size, dropout_prob):\n",
        "        super(MultiHeadAttention, self).__init__()\n",
        "        # Initialize the parameters\n",
        "        self.num_heads = num_heads\n",
        "        self.attn_size = attn_size\n",
        "        self.dims = dims\n",
        "\n",
        "        # Layers for QKV projection and output projection\n",
        "        self.qkv_projection = tf.keras.layers.Dense(num_heads * attn_size * 3, use_bias=False)\n",
        "        self.output_projection = tf.keras.layers.Dense(dims)\n",
        "        self.dropout = tf.keras.layers.Dropout(dropout_prob)\n",
        "\n",
        "    def call(self, qs, mask=None):\n",
        "        # Compute batch size and sequence length from inputs\n",
        "        batch_size = tf.shape(qs)[0]\n",
        "        seq_length = tf.shape(qs)[1]\n",
        "\n",
        "        # Project queries, keys, and values\n",
        "        qkv = self.qkv_projection(qs)\n",
        "        qkv = tf.reshape(qkv, [batch_size, seq_length, self.num_heads * 3, self.attn_size])\n",
        "        qs, ks, vs = tf.split(qkv, 3, axis=2)\n",
        "\n",
        "        # Compute scaled dot-product attention\n",
        "        qs = tf.transpose(qs, [0, 2, 1, 3])\n",
        "        ks = tf.transpose(ks, [0, 2, 3, 1])\n",
        "        attn_product = tf.matmul(qs, ks) / tf.math.sqrt(tf.cast(self.attn_size, tf.float32))\n",
        "\n",
        "        # Apply mask, if provided\n",
        "        if mask is not None:\n",
        "            mask = tf.expand_dims(mask, 1)\n",
        "            mask = tf.expand_dims(mask, 2)\n",
        "            mask = tf.broadcast_to(mask, [batch_size, self.num_heads, seq_length, seq_length])\n",
        "            attn_product = tf.where(mask == 0, tf.fill(tf.shape(attn_product), -1e9), attn_product)\n",
        "\n",
        "        # Softmax and dropout\n",
        "        scores = tf.nn.softmax(attn_product, axis=-1)\n",
        "        scores = self.dropout(scores)\n",
        "\n",
        "        # Weighted sum of values\n",
        "        vs = tf.transpose(vs, [0, 2, 1, 3])\n",
        "        res = tf.matmul(scores, vs)\n",
        "\n",
        "        # Reshape and project to output size\n",
        "        res = tf.reshape(tf.transpose(res, [0, 2, 1, 3]), [batch_size, -1, self.num_heads * self.attn_size])\n",
        "        output = self.output_projection(res)\n",
        "\n",
        "        return output\n",
        "\n",
        "\n",
        "class SubLayerLogic(tf.keras.layers.Layer):\n",
        "    def __init__(self, d_model, dropout_rate):\n",
        "        super(SubLayerLogic, self).__init__()\n",
        "\n",
        "        self.dropout = tf.keras.layers.Dropout(dropout_rate)\n",
        "        self.norm = tf.keras.layers.LayerNormalization()\n",
        "\n",
        "    def calls(self, x, sublayer):\n",
        "\n",
        "        return x + self.dropout(sublayer(self.norm(x)))\n",
        "\n",
        "class SelfAttentionBlock(tf.keras.layers.Layer):\n",
        "    def __init__(self, d_model, num_heads, dropout_rate):\n",
        "        super(SelfAttentionBlock, self).__init__()\n",
        "        self.ffn = tf.keras.layers.Dense(d_model, \"silu\")\n",
        "        self.attention = MultiHeadAttention(d_model, num_heads,d_model//num_heads, dropout_rate)\n",
        "        self.sub1 = SubLayerLogic(d_model, dropout_rate)\n",
        "        self.sub2 = SubLayerLogic(d_model, dropout_rate)\n",
        "\n",
        "    @tf.function\n",
        "    def call(self, x, mask):\n",
        "        x = self.sub1(x, lambda inputs : self.attention(inputs, mask))\n",
        "        return self.sub2(x, self.attention)\n",
        "\n",
        "class Transformer(tf.keras.Model):\n",
        "    def __init__(self, voc_size, dims, maxseqlen, num_heads, dropout_rate, n_blocks):\n",
        "        super(Transformer, self).__init__()\n",
        "\n",
        "        self.posemb = PosEncode(dims, maxseqlen)\n",
        "        self.embedding = InverseEmbedding(voc_size, dims)\n",
        "        self.blocks = [\n",
        "            SelfAttentionBlock(dims, num_heads, dropout_rate) for _ in range(n_blocks)\n",
        "        ]\n",
        "\n",
        "    def encode(self, x):\n",
        "\n",
        "        return self.posemb(x) + self.embedding(x, inverse=False)\n",
        "\n",
        "    def gen_mask(self, seq_len):\n",
        "        return tf.linalg.band_part(tf.ones((seq_len, seq_len)), -1, 0)[None,None,:]\n",
        "\n",
        "    @tf.function\n",
        "    def call(self, x, mask = None):\n",
        "\n",
        "        seq_len = x.shape[1]\n",
        "\n",
        "        x = self.encode(x)\n",
        "\n",
        "        if mask is None:\n",
        "          mask = self.gen_mask(seq_len)\n",
        "\n",
        "        for block in self.blocks:\n",
        "            x = block(x, mask)\n",
        "\n",
        "        return self.embedding(x, inverse = True)"
      ]
    },
    {
      "cell_type": "markdown",
      "metadata": {
        "id": "w48-jCgn9EIx"
      },
      "source": [
        "# Den Transformer testen mit mock data"
      ]
    },
    {
      "cell_type": "code",
      "execution_count": 16,
      "metadata": {
        "colab": {
          "base_uri": "https://localhost:8080/"
        },
        "id": "YVSdqR5w9Kw7",
        "outputId": "dee6616f-6e2c-421c-884e-a9cab9a234c4"
      },
      "outputs": [
        {
          "name": "stdout",
          "output_type": "stream",
          "text": [
            "Transformer Output: (1, 50, 128)\n"
          ]
        }
      ],
      "source": [
        "# Instantiate and test the full model\n",
        "transformer_model = Transformer(voc_size=128, dims=512, maxseqlen=100, num_heads=8, dropout_rate=0.1, n_blocks=6)\n",
        "x_dummy_tokens = tf.random.uniform((1, 50), maxval=128, dtype=tf.int32)\n",
        "print(\"Transformer Output:\", transformer_model(x_dummy_tokens).shape)  # Expected: (1, 50, 128)\n"
      ]
    },
    {
      "cell_type": "code",
      "execution_count": null,
      "metadata": {
        "id": "LHWXOEBz-pYU"
      },
      "outputs": [],
      "source": []
    },
    {
      "cell_type": "code",
      "execution_count": null,
      "metadata": {
        "id": "0vhAtxSk-pan"
      },
      "outputs": [],
      "source": []
    },
    {
      "cell_type": "code",
      "execution_count": null,
      "metadata": {
        "id": "VXo4vWyY-peL"
      },
      "outputs": [],
      "source": []
    },
    {
      "cell_type": "code",
      "execution_count": null,
      "metadata": {
        "id": "yiroyLvus2wb"
      },
      "outputs": [],
      "source": [
        "voc_size = tokenizer.len #richtige syntax?\n",
        "dims = 96 #wie bei b&b?\n",
        "maxseqlen =\n",
        "num_heads = 8 #wie bei b&b\n",
        "dropout_rate = 0.1 #wie bei b&b\n",
        "n_blocks = 2 #2-4\n",
        "attn_size = #dims / num_heads\n",
        "\n",
        "learning_rate = #learning rate scheduler?\n",
        "batch_size = #wie herausfinden\n",
        "epochs =\n"
      ]
    }
  ],
  "metadata": {
    "colab": {
      "collapsed_sections": [
        "T5ec4jW8nqUW"
      ],
      "include_colab_link": true,
      "provenance": []
    },
    "kernelspec": {
      "display_name": "Python 3",
      "name": "python3"
    },
    "language_info": {
      "codemirror_mode": {
        "name": "ipython",
        "version": 3
      },
      "file_extension": ".py",
      "mimetype": "text/x-python",
      "name": "python",
      "nbconvert_exporter": "python",
      "pygments_lexer": "ipython3",
      "version": "3.7.0"
    }
  },
  "nbformat": 4,
  "nbformat_minor": 0
}
