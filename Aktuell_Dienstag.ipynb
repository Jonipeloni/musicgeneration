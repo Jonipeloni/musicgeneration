{
  "nbformat": 4,
  "nbformat_minor": 0,
  "metadata": {
    "colab": {
      "provenance": [],
      "collapsed_sections": [
        "T5ec4jW8nqUW"
      ],
      "include_colab_link": true
    },
    "kernelspec": {
      "name": "python3",
      "display_name": "Python 3"
    },
    "language_info": {
      "name": "python"
    }
  },
  "cells": [
    {
      "cell_type": "markdown",
      "metadata": {
        "id": "view-in-github",
        "colab_type": "text"
      },
      "source": [
        "<a href=\"https://colab.research.google.com/github/Jonipeloni/musicgeneration/blob/main/Aktuell_Dienstag.ipynb\" target=\"_parent\"><img src=\"https://colab.research.google.com/assets/colab-badge.svg\" alt=\"Open In Colab\"/></a>"
      ]
    },
    {
      "cell_type": "code",
      "source": [
        "pip install 'miditok == 1.4.2'"
      ],
      "metadata": {
        "colab": {
          "base_uri": "https://localhost:8080/",
          "height": 755
        },
        "id": "cQstDdMySaT8",
        "outputId": "bfe70908-76a9-4187-dbf6-833c3da4b76f"
      },
      "execution_count": 1,
      "outputs": [
        {
          "output_type": "stream",
          "name": "stdout",
          "text": [
            "Collecting miditok==1.4.2\n",
            "  Downloading miditok-1.4.2-py3-none-any.whl (84 kB)\n",
            "\u001b[2K     \u001b[90m━━━━━━━━━━━━━━━━━━━━━━━━━━━━━━━━━━━━━━━━\u001b[0m \u001b[32m84.4/84.4 kB\u001b[0m \u001b[31m907.0 kB/s\u001b[0m eta \u001b[36m0:00:00\u001b[0m\n",
            "\u001b[?25hCollecting numpy<1.24,>=1.19 (from miditok==1.4.2)\n",
            "  Downloading numpy-1.23.5-cp310-cp310-manylinux_2_17_x86_64.manylinux2014_x86_64.whl (17.1 MB)\n",
            "\u001b[2K     \u001b[90m━━━━━━━━━━━━━━━━━━━━━━━━━━━━━━━━━━━━━━━━\u001b[0m \u001b[32m17.1/17.1 MB\u001b[0m \u001b[31m49.0 MB/s\u001b[0m eta \u001b[36m0:00:00\u001b[0m\n",
            "\u001b[?25hCollecting miditoolkit>=0.1.16 (from miditok==1.4.2)\n",
            "  Downloading miditoolkit-1.0.1-py3-none-any.whl (24 kB)\n",
            "Requirement already satisfied: tqdm in /usr/local/lib/python3.10/dist-packages (from miditok==1.4.2) (4.66.2)\n",
            "Requirement already satisfied: matplotlib in /usr/local/lib/python3.10/dist-packages (from miditoolkit>=0.1.16->miditok==1.4.2) (3.7.1)\n",
            "Collecting mido>=1.1.16 (from miditoolkit>=0.1.16->miditok==1.4.2)\n",
            "  Downloading mido-1.3.2-py3-none-any.whl (54 kB)\n",
            "\u001b[2K     \u001b[90m━━━━━━━━━━━━━━━━━━━━━━━━━━━━━━━━━━━━━━━━\u001b[0m \u001b[32m54.6/54.6 kB\u001b[0m \u001b[31m4.3 MB/s\u001b[0m eta \u001b[36m0:00:00\u001b[0m\n",
            "\u001b[?25hCollecting packaging~=23.1 (from mido>=1.1.16->miditoolkit>=0.1.16->miditok==1.4.2)\n",
            "  Downloading packaging-23.2-py3-none-any.whl (53 kB)\n",
            "\u001b[2K     \u001b[90m━━━━━━━━━━━━━━━━━━━━━━━━━━━━━━━━━━━━━━━━\u001b[0m \u001b[32m53.0/53.0 kB\u001b[0m \u001b[31m2.5 MB/s\u001b[0m eta \u001b[36m0:00:00\u001b[0m\n",
            "\u001b[?25hRequirement already satisfied: contourpy>=1.0.1 in /usr/local/lib/python3.10/dist-packages (from matplotlib->miditoolkit>=0.1.16->miditok==1.4.2) (1.2.1)\n",
            "Requirement already satisfied: cycler>=0.10 in /usr/local/lib/python3.10/dist-packages (from matplotlib->miditoolkit>=0.1.16->miditok==1.4.2) (0.12.1)\n",
            "Requirement already satisfied: fonttools>=4.22.0 in /usr/local/lib/python3.10/dist-packages (from matplotlib->miditoolkit>=0.1.16->miditok==1.4.2) (4.51.0)\n",
            "Requirement already satisfied: kiwisolver>=1.0.1 in /usr/local/lib/python3.10/dist-packages (from matplotlib->miditoolkit>=0.1.16->miditok==1.4.2) (1.4.5)\n",
            "Requirement already satisfied: pillow>=6.2.0 in /usr/local/lib/python3.10/dist-packages (from matplotlib->miditoolkit>=0.1.16->miditok==1.4.2) (9.4.0)\n",
            "Requirement already satisfied: pyparsing>=2.3.1 in /usr/local/lib/python3.10/dist-packages (from matplotlib->miditoolkit>=0.1.16->miditok==1.4.2) (3.1.2)\n",
            "Requirement already satisfied: python-dateutil>=2.7 in /usr/local/lib/python3.10/dist-packages (from matplotlib->miditoolkit>=0.1.16->miditok==1.4.2) (2.8.2)\n",
            "Requirement already satisfied: six>=1.5 in /usr/local/lib/python3.10/dist-packages (from python-dateutil>=2.7->matplotlib->miditoolkit>=0.1.16->miditok==1.4.2) (1.16.0)\n",
            "Installing collected packages: packaging, numpy, mido, miditoolkit, miditok\n",
            "  Attempting uninstall: packaging\n",
            "    Found existing installation: packaging 24.0\n",
            "    Uninstalling packaging-24.0:\n",
            "      Successfully uninstalled packaging-24.0\n",
            "  Attempting uninstall: numpy\n",
            "    Found existing installation: numpy 1.25.2\n",
            "    Uninstalling numpy-1.25.2:\n",
            "      Successfully uninstalled numpy-1.25.2\n",
            "\u001b[31mERROR: pip's dependency resolver does not currently take into account all the packages that are installed. This behaviour is the source of the following dependency conflicts.\n",
            "chex 0.1.86 requires numpy>=1.24.1, but you have numpy 1.23.5 which is incompatible.\n",
            "pandas-stubs 2.0.3.230814 requires numpy>=1.25.0; python_version >= \"3.9\", but you have numpy 1.23.5 which is incompatible.\u001b[0m\u001b[31m\n",
            "\u001b[0mSuccessfully installed miditok-1.4.2 miditoolkit-1.0.1 mido-1.3.2 numpy-1.23.5 packaging-23.2\n"
          ]
        },
        {
          "output_type": "display_data",
          "data": {
            "application/vnd.colab-display-data+json": {
              "pip_warning": {
                "packages": [
                  "numpy"
                ]
              },
              "id": "a0d50f0eeb3f45baa7e2ded54e9c3013"
            }
          },
          "metadata": {}
        }
      ]
    },
    {
      "cell_type": "code",
      "source": [
        "!pip install pretty_midi numpy"
      ],
      "metadata": {
        "colab": {
          "base_uri": "https://localhost:8080/"
        },
        "id": "jB8FChu_jj0_",
        "outputId": "7021ed44-13ca-41ad-8ef0-396b0f25524f"
      },
      "execution_count": 2,
      "outputs": [
        {
          "output_type": "stream",
          "name": "stdout",
          "text": [
            "Collecting pretty_midi\n",
            "  Downloading pretty_midi-0.2.10.tar.gz (5.6 MB)\n",
            "\u001b[2K     \u001b[90m━━━━━━━━━━━━━━━━━━━━━━━━━━━━━━━━━━━━━━━━\u001b[0m \u001b[32m5.6/5.6 MB\u001b[0m \u001b[31m21.9 MB/s\u001b[0m eta \u001b[36m0:00:00\u001b[0m\n",
            "\u001b[?25h  Preparing metadata (setup.py) ... \u001b[?25l\u001b[?25hdone\n",
            "Requirement already satisfied: numpy in /usr/local/lib/python3.10/dist-packages (1.23.5)\n",
            "Requirement already satisfied: mido>=1.1.16 in /usr/local/lib/python3.10/dist-packages (from pretty_midi) (1.3.2)\n",
            "Requirement already satisfied: six in /usr/local/lib/python3.10/dist-packages (from pretty_midi) (1.16.0)\n",
            "Requirement already satisfied: packaging~=23.1 in /usr/local/lib/python3.10/dist-packages (from mido>=1.1.16->pretty_midi) (23.2)\n",
            "Building wheels for collected packages: pretty_midi\n",
            "  Building wheel for pretty_midi (setup.py) ... \u001b[?25l\u001b[?25hdone\n",
            "  Created wheel for pretty_midi: filename=pretty_midi-0.2.10-py3-none-any.whl size=5592289 sha256=6ca829973db3fd73827fbe66ef0d8e0dd3290e5fdc4025469b222ca78d0c1642\n",
            "  Stored in directory: /root/.cache/pip/wheels/cd/a5/30/7b8b7f58709f5150f67f98fde4b891ebf0be9ef07a8af49f25\n",
            "Successfully built pretty_midi\n",
            "Installing collected packages: pretty_midi\n",
            "Successfully installed pretty_midi-0.2.10\n"
          ]
        }
      ]
    },
    {
      "cell_type": "code",
      "source": [
        "import os\n",
        "import shutil\n",
        "import numpy as np\n",
        "import tensorflow as tf\n",
        "import pretty_midi\n",
        "import pathlib\n",
        "import collections\n",
        "from miditok import REMI\n",
        "\n",
        "#import datetime<\n",
        "#import fluidsynth\n",
        "#import glob\n",
        "#import pretty_midi\n",
        "#import seaborn as sns\n",
        "\n",
        "\n"
      ],
      "metadata": {
        "id": "bRO_e6nRjfvz"
      },
      "execution_count": 3,
      "outputs": []
    },
    {
      "cell_type": "code",
      "source": [
        "#Loading Data\n",
        "data_dir = pathlib.Path('data/maestro-v2.0.0')\n",
        "if not data_dir.exists():\n",
        "  tf.keras.utils.get_file(\n",
        "      'maestro-v2.0.0-midi.zip',\n",
        "      origin='https://storage.googleapis.com/magentadata/datasets/maestro/v2.0.0/maestro-v2.0.0-midi.zip',\n",
        "      extract=True,\n",
        "      cache_dir='.', cache_subdir='data',\n",
        "  )"
      ],
      "metadata": {
        "id": "2CH_AUwejTgg",
        "colab": {
          "base_uri": "https://localhost:8080/"
        },
        "outputId": "68dcf8d7-2cf2-414b-f613-a194953d0efc"
      },
      "execution_count": 4,
      "outputs": [
        {
          "output_type": "stream",
          "name": "stdout",
          "text": [
            "Downloading data from https://storage.googleapis.com/magentadata/datasets/maestro/v2.0.0/maestro-v2.0.0-midi.zip\n",
            "59243107/59243107 [==============================] - 2s 0us/step\n"
          ]
        }
      ]
    },
    {
      "cell_type": "markdown",
      "source": [
        "##"
      ],
      "metadata": {
        "id": "UDoqu2pir3oK"
      }
    },
    {
      "cell_type": "code",
      "source": [
        "#Shrinking amount of Files\n",
        "import shutil\n",
        "from pathlib import Path\n",
        "\n",
        "subdirectories = [\"2006\", \"2008\", \"2009\", \"2011\", \"2013\", \"2014\", \"2015\", \"2017\", \"2018\"]\n",
        "for a in subdirectories:\n",
        "\n",
        "  directory_to_delete = data_dir / a\n",
        "\n",
        "  # Delete the directory and all its contents\n",
        "  try:\n",
        "      shutil.rmtree(directory_to_delete)\n",
        "      print(f\"Deleted {directory_to_delete}\")\n",
        "  except Exception as e:\n",
        "      print(f\"Error deleting {directory_to_delete}: {e}\")"
      ],
      "metadata": {
        "colab": {
          "base_uri": "https://localhost:8080/"
        },
        "id": "A5zlvti1j8dN",
        "outputId": "67b9db61-707e-41a6-a450-9393abb1643c"
      },
      "execution_count": 5,
      "outputs": [
        {
          "output_type": "stream",
          "name": "stdout",
          "text": [
            "Deleted data/maestro-v2.0.0/2006\n",
            "Deleted data/maestro-v2.0.0/2008\n",
            "Deleted data/maestro-v2.0.0/2009\n",
            "Deleted data/maestro-v2.0.0/2011\n",
            "Deleted data/maestro-v2.0.0/2013\n",
            "Deleted data/maestro-v2.0.0/2014\n",
            "Deleted data/maestro-v2.0.0/2015\n",
            "Deleted data/maestro-v2.0.0/2017\n",
            "Deleted data/maestro-v2.0.0/2018\n"
          ]
        }
      ]
    },
    {
      "cell_type": "code",
      "source": [
        "folders = [\"2004\"]\n",
        "for folder in folders:\n",
        "    folder_path = os.path.join(data_dir, folder)\n",
        "\n",
        "    # Check if the folder exists\n",
        "    if os.path.exists(folder_path) and os.path.isdir(folder_path):\n",
        "        for filename in os.listdir(folder_path):\n",
        "            file_path = os.path.join(folder_path, filename)\n",
        "\n",
        "            # Check if it is a file and not a sub-directory\n",
        "            if os.path.isfile(file_path):\n",
        "                # Move file\n",
        "                shutil.move(file_path, data_dir)\n",
        "\n",
        "        # Remove the now-empty folder\n",
        "        os.rmdir(folder_path)"
      ],
      "metadata": {
        "id": "wHCTH1oIkDf4"
      },
      "execution_count": 6,
      "outputs": []
    },
    {
      "cell_type": "code",
      "source": [
        "import os\n",
        "import pretty_midi\n",
        "\n",
        "midi_files_dir = data_dir\n",
        "output_dir = \"selected_midi_files\"  # Define the output directory\n",
        "output_path = os.path.join(midi_files_dir, output_dir)\n",
        "\n",
        "if not os.path.exists(output_path):\n",
        "    os.makedirs(output_path)\n",
        "\n",
        "selected_files = []\n",
        "\n",
        "# Iterate over all files in the directory\n",
        "for filename in os.listdir(midi_files_dir):\n",
        "    if filename.endswith('.mid') or filename.endswith('.midi'):  # Check if it's a MIDI file\n",
        "        file_path = os.path.join(midi_files_dir, filename)\n",
        "\n",
        "        try:\n",
        "            # Load the MIDI file\n",
        "            midi_data = pretty_midi.PrettyMIDI(file_path)\n",
        "\n",
        "            # Check time signatures\n",
        "            time_signatures = midi_data.time_signature_changes\n",
        "            has_desired_time_signature = any(ts.numerator == desired_time_signature[0] and\n",
        "                                             ts.denominator == desired_time_signature[1]\n",
        "                                             for ts in time_signatures)\n",
        "\n",
        "            # Check length\n",
        "            length = midi_data.get_end_time()  # This returns the length in seconds\n",
        "            if has_desired_time_signature and min_length_seconds <= length <= max_length_seconds:\n",
        "                # Construct output file path\n",
        "                output_file_path = os.path.join(output_path, filename)\n",
        "                # Copy the file to the output directory\n",
        "                os.rename(file_path, output_file_path)\n",
        "                selected_files.append(output_file_path)\n",
        "\n",
        "        except Exception as e:\n",
        "            print(f\"Error processing {filename}: {e}\")\n",
        "\n",
        "# Print or use the selected files\n",
        "for file in selected_files:\n",
        "    print(file)\n"
      ],
      "metadata": {
        "id": "RQAaeIpGkMWY",
        "colab": {
          "base_uri": "https://localhost:8080/"
        },
        "outputId": "e1d565ce-0ec7-4b30-ec2e-16e3ca376636"
      },
      "execution_count": 7,
      "outputs": [
        {
          "output_type": "stream",
          "name": "stdout",
          "text": [
            "Error processing MIDI-Unprocessed_XP_06_R2_2004_01_ORIG_MID--AUDIO_06_R2_2004_01_Track01_wav.midi: name 'desired_time_signature' is not defined\n",
            "Error processing MIDI-Unprocessed_XP_10_R1_2004_03-04_ORIG_MID--AUDIO_10_R1_2004_03_Track03_wav.midi: name 'desired_time_signature' is not defined\n",
            "Error processing MIDI-Unprocessed_XP_22_R2_2004_01_ORIG_MID--AUDIO_22_R2_2004_03_Track03_wav.midi: name 'desired_time_signature' is not defined\n",
            "Error processing MIDI-Unprocessed_XP_10_R1_2004_01-02_ORIG_MID--AUDIO_10_R1_2004_01_Track01_wav.midi: name 'desired_time_signature' is not defined\n",
            "Error processing MIDI-Unprocessed_SMF_13_01_2004_01-05_ORIG_MID--AUDIO_13_R1_2004_05_Track05_wav.midi: name 'desired_time_signature' is not defined\n",
            "Error processing MIDI-Unprocessed_SMF_17_R1_2004_01-03_ORIG_MID--AUDIO_17_R1_2004_02_Track02_wav--2.midi: name 'desired_time_signature' is not defined\n",
            "Error processing MIDI-Unprocessed_XP_16_R2_2004_01_ORIG_MID--AUDIO_16_R2_2004_03_Track03_wav.midi: name 'desired_time_signature' is not defined\n",
            "Error processing MIDI-Unprocessed_SMF_16_R1_2004_01-08_ORIG_MID--AUDIO_16_R1_2004_13_Track13_wav.midi: name 'desired_time_signature' is not defined\n",
            "Error processing MIDI-Unprocessed_SMF_13_01_2004_01-05_ORIG_MID--AUDIO_13_R1_2004_10_Track10_wav.midi: name 'desired_time_signature' is not defined\n",
            "Error processing MIDI-Unprocessed_XP_16_R2_2004_01_ORIG_MID--AUDIO_16_R2_2004_04_Track04_wav.midi: name 'desired_time_signature' is not defined\n",
            "Error processing MIDI-Unprocessed_SMF_22_R1_2004_01-04_ORIG_MID--AUDIO_22_R1_2004_17_Track17_wav.midi: name 'desired_time_signature' is not defined\n",
            "Error processing MIDI-Unprocessed_SMF_12_01_2004_01-05_ORIG_MID--AUDIO_12_R1_2004_08_Track08_wav.midi: name 'desired_time_signature' is not defined\n",
            "Error processing MIDI-Unprocessed_SMF_12_01_2004_01-05_ORIG_MID--AUDIO_12_R1_2004_03_Track03_wav--1.midi: name 'desired_time_signature' is not defined\n",
            "Error processing MIDI-Unprocessed_XP_15_R1_2004_01-02_ORIG_MID--AUDIO_15_R1_2004_02_Track02_wav.midi: name 'desired_time_signature' is not defined\n",
            "Error processing MIDI-Unprocessed_XP_01_R1_2004_01-02_ORIG_MID--AUDIO_01_R1_2004_03_Track03_wav.midi: name 'desired_time_signature' is not defined\n",
            "Error processing MIDI-Unprocessed_XP_06_R1_2004_01_ORIG_MID--AUDIO_06_R1_2004_01_Track01_wav.midi: name 'desired_time_signature' is not defined\n",
            "Error processing MIDI-Unprocessed_SMF_16_R1_2004_01-08_ORIG_MID--AUDIO_16_R1_2004_04_Track04_wav.midi: name 'desired_time_signature' is not defined\n",
            "Error processing MIDI-Unprocessed_SMF_12_01_2004_01-05_ORIG_MID--AUDIO_12_R1_2004_07_Track07_wav.midi: name 'desired_time_signature' is not defined\n",
            "Error processing MIDI-Unprocessed_SMF_17_R1_2004_01-02_ORIG_MID--AUDIO_20_R2_2004_04_Track04_wav.midi: name 'desired_time_signature' is not defined\n",
            "Error processing MIDI-Unprocessed_XP_21_R1_2004_02_ORIG_MID--AUDIO_21_R1_2004_02_Track02_wav.midi: name 'desired_time_signature' is not defined\n",
            "Error processing MIDI-Unprocessed_XP_15_R1_2004_04_ORIG_MID--AUDIO_15_R1_2004_04_Track04_wav.midi: name 'desired_time_signature' is not defined\n",
            "Error processing MIDI-Unprocessed_SMF_02_R1_2004_01-05_ORIG_MID--AUDIO_02_R1_2004_05_Track05_wav.midi: name 'desired_time_signature' is not defined\n",
            "Error processing MIDI-Unprocessed_XP_11_R1_2004_03-04_ORIG_MID--AUDIO_11_R1_2004_04_Track04_wav.midi: name 'desired_time_signature' is not defined\n",
            "Error processing MIDI-Unprocessed_SMF_13_01_2004_01-05_ORIG_MID--AUDIO_13_R1_2004_08_Track08_wav.midi: name 'desired_time_signature' is not defined\n",
            "Error processing MIDI-Unprocessed_SMF_07_R1_2004_01_ORIG_MID--AUDIO_07_R1_2004_04_Track04_wav.midi: name 'desired_time_signature' is not defined\n",
            "Error processing MIDI-Unprocessed_XP_03_R1_2004_01-02_ORIG_MID--AUDIO_03_R1_2004_02_Track02_wav.midi: name 'desired_time_signature' is not defined\n",
            "Error processing MIDI-Unprocessed_XP_09_R1_2004_01-02_ORIG_MID--AUDIO_09_R1_2004_02_Track02_wav.midi: name 'desired_time_signature' is not defined\n",
            "Error processing MIDI-Unprocessed_SMF_02_R1_2004_01-05_ORIG_MID--AUDIO_02_R1_2004_08_Track08_wav.midi: name 'desired_time_signature' is not defined\n",
            "Error processing MIDI-Unprocessed_SMF_16_R1_2004_01-08_ORIG_MID--AUDIO_16_R1_2004_05_Track05_wav.midi: name 'desired_time_signature' is not defined\n",
            "Error processing MIDI-Unprocessed_SMF_17_R1_2004_03-06_ORIG_MID--AUDIO_20_R2_2004_12_Track12_wav--1.midi: name 'desired_time_signature' is not defined\n",
            "Error processing MIDI-Unprocessed_XP_20_R2_2004_01_ORIG_MID--AUDIO_20_R1_2004_02_Track02_wav.midi: name 'desired_time_signature' is not defined\n",
            "Error processing MIDI-Unprocessed_XP_11_R1_2004_01-02_ORIG_MID--AUDIO_11_R1_2004_02_Track02_wav.midi: name 'desired_time_signature' is not defined\n",
            "Error processing MIDI-Unprocessed_XP_10_R1_2004_05_ORIG_MID--AUDIO_10_R1_2004_05_Track05_wav.midi: name 'desired_time_signature' is not defined\n",
            "Error processing MIDI-Unprocessed_SMF_05_R1_2004_01_ORIG_MID--AUDIO_05_R1_2004_03_Track03_wav.midi: name 'desired_time_signature' is not defined\n",
            "Error processing MIDI-Unprocessed_XP_06_R1_2004_02-03_ORIG_MID--AUDIO_06_R1_2004_05_Track05_wav.midi: name 'desired_time_signature' is not defined\n",
            "Error processing MIDI-Unprocessed_XP_19_R2_2004_01_ORIG_MID--AUDIO_19_R2_2004_01_Track01_wav.midi: name 'desired_time_signature' is not defined\n",
            "Error processing MIDI-Unprocessed_SMF_02_R1_2004_01-05_ORIG_MID--AUDIO_02_R1_2004_10_Track10_wav.midi: name 'desired_time_signature' is not defined\n",
            "Error processing MIDI-Unprocessed_XP_04_R1_2004_03-05_ORIG_MID--AUDIO_04_R1_2004_05_Track05_wav.midi: name 'desired_time_signature' is not defined\n",
            "Error processing MIDI-Unprocessed_XP_14_R1_2004_04_ORIG_MID--AUDIO_14_R1_2004_06_Track06_wav.midi: name 'desired_time_signature' is not defined\n",
            "Error processing MIDI-Unprocessed_XP_15_R2_2004_01_ORIG_MID--AUDIO_15_R2_2004_03_Track03_wav.midi: name 'desired_time_signature' is not defined\n",
            "Error processing MIDI-Unprocessed_XP_14_R1_2004_04_ORIG_MID--AUDIO_14_R1_2004_05_Track05_wav.midi: name 'desired_time_signature' is not defined\n",
            "Error processing MIDI-Unprocessed_XP_04_R1_2004_01-02_ORIG_MID--AUDIO_04_R1_2004_01_Track01_wav.midi: name 'desired_time_signature' is not defined\n",
            "Error processing MIDI-Unprocessed_XP_09_R1_2004_01-02_ORIG_MID--AUDIO_09_R1_2004_03_Track03_wav.midi: name 'desired_time_signature' is not defined\n",
            "Error processing MIDI-Unprocessed_SMF_13_01_2004_01-05_ORIG_MID--AUDIO_13_R1_2004_09_Track09_wav.midi: name 'desired_time_signature' is not defined\n",
            "Error processing MIDI-Unprocessed_XP_08_R1_2004_03_ORIG_MID--AUDIO_08_R1_2004_03_Track03_wav.midi: name 'desired_time_signature' is not defined\n",
            "Error processing MIDI-Unprocessed_SMF_22_R1_2004_01-04_ORIG_MID--AUDIO_22_R1_2004_10_Track10_wav.midi: name 'desired_time_signature' is not defined\n",
            "Error processing MIDI-Unprocessed_XP_03_R1_2004_01-02_ORIG_MID--AUDIO_03_R1_2004_01_Track01_wav.midi: name 'desired_time_signature' is not defined\n",
            "Error processing MIDI-Unprocessed_XP_22_R2_2004_01_ORIG_MID--AUDIO_22_R2_2004_04_Track04_wav.midi: name 'desired_time_signature' is not defined\n",
            "Error processing MIDI-Unprocessed_SMF_07_R1_2004_01_ORIG_MID--AUDIO_07_R1_2004_06_Track06_wav.midi: name 'desired_time_signature' is not defined\n",
            "Error processing MIDI-Unprocessed_XP_14_R1_2004_04_ORIG_MID--AUDIO_14_R1_2004_04_Track04_wav.midi: name 'desired_time_signature' is not defined\n",
            "Error processing MIDI-Unprocessed_XP_04_R1_2004_06_ORIG_MID--AUDIO_04_R1_2004_08_Track08_wav.midi: name 'desired_time_signature' is not defined\n",
            "Error processing MIDI-Unprocessed_XP_04_R1_2004_03-05_ORIG_MID--AUDIO_04_R1_2004_04_Track04_wav.midi: name 'desired_time_signature' is not defined\n",
            "Error processing MIDI-Unprocessed_XP_22_R2_2004_01_ORIG_MID--AUDIO_22_R2_2004_01_Track01_wav.midi: name 'desired_time_signature' is not defined\n",
            "Error processing MIDI-Unprocessed_XP_09_R1_2004_01-02_ORIG_MID--AUDIO_09_R1_2004_01_Track01_wav.midi: name 'desired_time_signature' is not defined\n",
            "Error processing MIDI-Unprocessed_XP_21_R1_2004_02_ORIG_MID--AUDIO_21_R1_2004_03_Track03_wav.midi: name 'desired_time_signature' is not defined\n",
            "Error processing MIDI-Unprocessed_SMF_22_R1_2004_01-04_ORIG_MID--AUDIO_22_R1_2004_05_Track05_wav.midi: name 'desired_time_signature' is not defined\n",
            "Error processing MIDI-Unprocessed_SMF_17_R1_2004_01-02_ORIG_MID--AUDIO_20_R2_2004_06_Track06_wav.midi: name 'desired_time_signature' is not defined\n",
            "Error processing MIDI-Unprocessed_XP_08_R1_2004_04-06_ORIG_MID--AUDIO_08_R1_2004_05_Track05_wav--2.midi: name 'desired_time_signature' is not defined\n",
            "Error processing MIDI-Unprocessed_XP_04_R1_2004_01-02_ORIG_MID--AUDIO_04_R1_2004_02_Track02_wav.midi: name 'desired_time_signature' is not defined\n",
            "Error processing MIDI-Unprocessed_XP_01_R1_2004_04-05_ORIG_MID--AUDIO_01_R1_2004_06_Track06_wav.midi: name 'desired_time_signature' is not defined\n",
            "Error processing MIDI-Unprocessed_SMF_07_R1_2004_01_ORIG_MID--AUDIO_07_R1_2004_02_Track02_wav.midi: name 'desired_time_signature' is not defined\n",
            "Error processing MIDI-Unprocessed_XP_14_R2_2004_01_ORIG_MID--AUDIO_14_R2_2004_03_Track03_wav.midi: name 'desired_time_signature' is not defined\n",
            "Error processing MIDI-Unprocessed_SMF_05_R1_2004_02-03_ORIG_MID--AUDIO_05_R1_2004_06_Track06_wav.midi: name 'desired_time_signature' is not defined\n",
            "Error processing MIDI-Unprocessed_XP_01_R1_2004_03_ORIG_MID--AUDIO_01_R1_2004_04_Track04_wav.midi: name 'desired_time_signature' is not defined\n",
            "Error processing MIDI-Unprocessed_XP_14_R2_2004_01_ORIG_MID--AUDIO_14_R2_2004_02_Track02_wav.midi: name 'desired_time_signature' is not defined\n",
            "Error processing MIDI-Unprocessed_SMF_16_R1_2004_01-08_ORIG_MID--AUDIO_16_R1_2004_02_Track02_wav.midi: name 'desired_time_signature' is not defined\n",
            "Error processing MIDI-Unprocessed_XP_11_R1_2004_01-02_ORIG_MID--AUDIO_11_R1_2004_01_Track01_wav.midi: name 'desired_time_signature' is not defined\n",
            "Error processing MIDI-Unprocessed_XP_19_R1_2004_01-02_ORIG_MID--AUDIO_19_R1_2004_02_Track02_wav.midi: name 'desired_time_signature' is not defined\n",
            "Error processing MIDI-Unprocessed_SMF_13_01_2004_01-05_ORIG_MID--AUDIO_13_R1_2004_02_Track02_wav.midi: name 'desired_time_signature' is not defined\n",
            "Error processing MIDI-Unprocessed_SMF_13_01_2004_01-05_ORIG_MID--AUDIO_13_R1_2004_12_Track12_wav.midi: name 'desired_time_signature' is not defined\n",
            "Error processing MIDI-Unprocessed_XP_08_R1_2004_01-02_ORIG_MID--AUDIO_08_R1_2004_01_Track01_wav.midi: name 'desired_time_signature' is not defined\n",
            "Error processing MIDI-Unprocessed_SMF_12_01_2004_01-05_ORIG_MID--AUDIO_12_R1_2004_09_Track09_wav.midi: name 'desired_time_signature' is not defined\n",
            "Error processing MIDI-Unprocessed_XP_19_R1_2004_01-02_ORIG_MID--AUDIO_19_R1_2004_01_Track01_wav.midi: name 'desired_time_signature' is not defined\n",
            "Error processing MIDI-Unprocessed_XP_08_R1_2004_04-06_ORIG_MID--AUDIO_08_R1_2004_04_Track04_wav.midi: name 'desired_time_signature' is not defined\n",
            "Error processing MIDI-Unprocessed_XP_21_R1_2004_01_ORIG_MID--AUDIO_21_R1_2004_01_Track01_wav.midi: name 'desired_time_signature' is not defined\n",
            "Error processing MIDI-Unprocessed_XP_06_R2_2004_01_ORIG_MID--AUDIO_06_R2_2004_02_Track02_wav.midi: name 'desired_time_signature' is not defined\n",
            "Error processing MIDI-Unprocessed_XP_15_R2_2004_01_ORIG_MID--AUDIO_15_R2_2004_04_Track04_wav.midi: name 'desired_time_signature' is not defined\n",
            "Error processing MIDI-Unprocessed_XP_15_R2_2004_01_ORIG_MID--AUDIO_15_R2_2004_02_Track02_wav.midi: name 'desired_time_signature' is not defined\n",
            "Error processing MIDI-Unprocessed_XP_04_R1_2004_03-05_ORIG_MID--AUDIO_04_R1_2004_06_Track06_wav.midi: name 'desired_time_signature' is not defined\n",
            "Error processing MIDI-Unprocessed_XP_20_R2_2004_01_ORIG_MID--AUDIO_20_R1_2004_03_Track03_wav.midi: name 'desired_time_signature' is not defined\n",
            "Error processing MIDI-Unprocessed_XP_20_R2_2004_01_ORIG_MID--AUDIO_20_R1_2004_01_Track01_wav.midi: name 'desired_time_signature' is not defined\n",
            "Error processing MIDI-Unprocessed_XP_15_R1_2004_03_ORIG_MID--AUDIO_15_R1_2004_03_Track03_wav.midi: name 'desired_time_signature' is not defined\n",
            "Error processing MIDI-Unprocessed_SMF_16_R1_2004_01-08_ORIG_MID--AUDIO_16_R1_2004_08_Track08_wav.midi: name 'desired_time_signature' is not defined\n",
            "Error processing MIDI-Unprocessed_XP_01_R1_2004_04-05_ORIG_MID--AUDIO_01_R1_2004_05_Track05_wav.midi: name 'desired_time_signature' is not defined\n",
            "Error processing MIDI-Unprocessed_SMF_07_R1_2004_01_ORIG_MID--AUDIO_07_R1_2004_12_Track12_wav.midi: name 'desired_time_signature' is not defined\n",
            "Error processing MIDI-Unprocessed_XP_14_R1_2004_01-03_ORIG_MID--AUDIO_14_R1_2004_01_Track01_wav.midi: name 'desired_time_signature' is not defined\n",
            "Error processing MIDI-Unprocessed_SMF_16_R1_2004_01-08_ORIG_MID--AUDIO_16_R1_2004_03_Track03_wav.midi: name 'desired_time_signature' is not defined\n",
            "Error processing MIDI-Unprocessed_XP_10_R1_2004_01-02_ORIG_MID--AUDIO_10_R1_2004_02_Track02_wav.midi: name 'desired_time_signature' is not defined\n",
            "Error processing MIDI-Unprocessed_XP_14_R2_2004_01_ORIG_MID--AUDIO_14_R2_2004_01_Track01_wav.midi: name 'desired_time_signature' is not defined\n",
            "Error processing MIDI-Unprocessed_SMF_17_R1_2004_01-02_ORIG_MID--AUDIO_20_R2_2004_02_Track02_wav.midi: name 'desired_time_signature' is not defined\n",
            "Error processing MIDI-Unprocessed_XP_19_R2_2004_01_ORIG_MID--AUDIO_19_R2_2004_02_Track02_wav.midi: name 'desired_time_signature' is not defined\n",
            "Error processing MIDI-Unprocessed_XP_19_R1_2004_01-02_ORIG_MID--AUDIO_19_R1_2004_03_Track03_wav.midi: name 'desired_time_signature' is not defined\n",
            "Error processing MIDI-Unprocessed_XP_09_R1_2004_05_ORIG_MID--AUDIO_09_R1_2004_06_Track06_wav.midi: name 'desired_time_signature' is not defined\n",
            "Error processing MIDI-Unprocessed_XP_15_R2_2004_01_ORIG_MID--AUDIO_15_R2_2004_01_Track01_wav.midi: name 'desired_time_signature' is not defined\n",
            "Error processing MIDI-Unprocessed_XP_01_R1_2004_01-02_ORIG_MID--AUDIO_01_R1_2004_02_Track02_wav.midi: name 'desired_time_signature' is not defined\n",
            "Error processing MIDI-Unprocessed_XP_17_R2_2004_01_ORIG_MID--AUDIO_17_R2_2004_01_Track01_wav.midi: name 'desired_time_signature' is not defined\n",
            "Error processing MIDI-Unprocessed_SMF_17_R1_2004_01-03_ORIG_MID--AUDIO_17_R1_2004_03_Track03_wav.midi: name 'desired_time_signature' is not defined\n",
            "Error processing MIDI-Unprocessed_XP_04_R2_2004_01_ORIG_MID--AUDIO_04_R2_2004_02_Track02_wav.midi: name 'desired_time_signature' is not defined\n",
            "Error processing MIDI-Unprocessed_XP_22_R2_2004_01_ORIG_MID--AUDIO_22_R2_2004_02_Track02_wav.midi: name 'desired_time_signature' is not defined\n",
            "Error processing MIDI-Unprocessed_XP_18_R1_2004_04_ORIG_MID--AUDIO_18_R1_2004_07_Track07_wav.midi: name 'desired_time_signature' is not defined\n",
            "Error processing MIDI-Unprocessed_SMF_02_R1_2004_01-05_ORIG_MID--AUDIO_02_R1_2004_06_Track06_wav.midi: name 'desired_time_signature' is not defined\n",
            "Error processing MIDI-Unprocessed_XP_04_R2_2004_01_ORIG_MID--AUDIO_04_R2_2004_01_Track01_wav.midi: name 'desired_time_signature' is not defined\n",
            "Error processing MIDI-Unprocessed_XP_16_R2_2004_01_ORIG_MID--AUDIO_16_R2_2004_02_Track02_wav.midi: name 'desired_time_signature' is not defined\n",
            "Error processing MIDI-Unprocessed_XP_19_R2_2004_01_ORIG_MID--AUDIO_19_R2_2004_03_Track03_wav.midi: name 'desired_time_signature' is not defined\n",
            "Error processing MIDI-Unprocessed_SMF_17_R1_2004_01-03_ORIG_MID--AUDIO_17_R1_2004_02_Track02_wav--1.midi: name 'desired_time_signature' is not defined\n",
            "Error processing MIDI-Unprocessed_XP_18_R1_2004_01-02_ORIG_MID--AUDIO_18_R1_2004_03_Track03_wav.midi: name 'desired_time_signature' is not defined\n",
            "Error processing MIDI-Unprocessed_SMF_17_R1_2004_04_ORIG_MID--AUDIO_17_R1_2004_09_Track09_wav.midi: name 'desired_time_signature' is not defined\n",
            "Error processing MIDI-Unprocessed_XP_15_R1_2004_01-02_ORIG_MID--AUDIO_15_R1_2004_01_Track01_wav.midi: name 'desired_time_signature' is not defined\n",
            "Error processing MIDI-Unprocessed_XP_09_R1_2004_05_ORIG_MID--AUDIO_09_R1_2004_08_Track08_wav.midi: name 'desired_time_signature' is not defined\n",
            "Error processing MIDI-Unprocessed_SMF_17_R1_2004_04_ORIG_MID--AUDIO_17_R1_2004_11_Track11_wav.midi: name 'desired_time_signature' is not defined\n",
            "Error processing MIDI-Unprocessed_XP_08_R1_2004_04-06_ORIG_MID--AUDIO_08_R1_2004_05_Track05_wav--1.midi: name 'desired_time_signature' is not defined\n",
            "Error processing MIDI-Unprocessed_SMF_12_01_2004_01-05_ORIG_MID--AUDIO_12_R1_2004_10_Track10_wav.midi: name 'desired_time_signature' is not defined\n",
            "Error processing MIDI-Unprocessed_XP_17_R2_2004_01_ORIG_MID--AUDIO_17_R2_2004_04_Track04_wav.midi: name 'desired_time_signature' is not defined\n",
            "Error processing MIDI-Unprocessed_XP_11_R1_2004_03-04_ORIG_MID--AUDIO_11_R1_2004_03_Track03_wav.midi: name 'desired_time_signature' is not defined\n",
            "Error processing MIDI-Unprocessed_XP_18_R1_2004_01-02_ORIG_MID--AUDIO_18_R1_2004_02_Track02_wav.midi: name 'desired_time_signature' is not defined\n",
            "Error processing MIDI-Unprocessed_XP_17_R2_2004_01_ORIG_MID--AUDIO_17_R2_2004_02_Track02_wav.midi: name 'desired_time_signature' is not defined\n",
            "Error processing MIDI-Unprocessed_SMF_17_R1_2004_01-03_ORIG_MID--AUDIO_17_R1_2004_06_Track06_wav.midi: name 'desired_time_signature' is not defined\n",
            "Error processing MIDI-Unprocessed_SMF_16_R1_2004_01-08_ORIG_MID--AUDIO_16_R1_2004_06_Track06_wav.midi: name 'desired_time_signature' is not defined\n",
            "Error processing MIDI-Unprocessed_XP_17_R2_2004_01_ORIG_MID--AUDIO_17_R2_2004_03_Track03_wav.midi: name 'desired_time_signature' is not defined\n",
            "Error processing MIDI-Unprocessed_SMF_05_R1_2004_01_ORIG_MID--AUDIO_05_R1_2004_02_Track02_wav.midi: name 'desired_time_signature' is not defined\n",
            "Error processing MIDI-Unprocessed_SMF_22_R1_2004_01-04_ORIG_MID--AUDIO_22_R1_2004_03_Track03_wav.midi: name 'desired_time_signature' is not defined\n",
            "Error processing MIDI-Unprocessed_XP_18_R1_2004_01-02_ORIG_MID--AUDIO_18_R1_2004_04_Track04_wav.midi: name 'desired_time_signature' is not defined\n",
            "Error processing MIDI-Unprocessed_XP_18_R1_2004_01-02_ORIG_MID--AUDIO_18_R1_2004_05_Track05_wav.midi: name 'desired_time_signature' is not defined\n",
            "Error processing MIDI-Unprocessed_XP_14_R1_2004_01-03_ORIG_MID--AUDIO_14_R1_2004_03_Track03_wav.midi: name 'desired_time_signature' is not defined\n",
            "Error processing MIDI-Unprocessed_XP_16_R2_2004_01_ORIG_MID--AUDIO_16_R2_2004_01_Track01_wav.midi: name 'desired_time_signature' is not defined\n",
            "Error processing MIDI-Unprocessed_XP_06_R2_2004_01_ORIG_MID--AUDIO_06_R2_2004_03_Track03_wav.midi: name 'desired_time_signature' is not defined\n",
            "Error processing MIDI-Unprocessed_XP_08_R1_2004_01-02_ORIG_MID--AUDIO_08_R1_2004_02_Track02_wav.midi: name 'desired_time_signature' is not defined\n",
            "Error processing MIDI-Unprocessed_XP_21_R1_2004_03_ORIG_MID--AUDIO_21_R1_2004_04_Track04_wav.midi: name 'desired_time_signature' is not defined\n",
            "Error processing MIDI-Unprocessed_SMF_17_R1_2004_03-06_ORIG_MID--AUDIO_20_R2_2004_08_Track08_wav.midi: name 'desired_time_signature' is not defined\n",
            "Error processing MIDI-Unprocessed_XP_14_R2_2004_01_ORIG_MID--AUDIO_14_R2_2004_04_Track04_wav.midi: name 'desired_time_signature' is not defined\n",
            "Error processing MIDI-Unprocessed_SMF_17_R1_2004_03-06_ORIG_MID--AUDIO_20_R2_2004_12_Track12_wav--2.midi: name 'desired_time_signature' is not defined\n",
            "Error processing MIDI-Unprocessed_XP_09_R1_2004_05_ORIG_MID--AUDIO_09_R1_2004_07_Track07_wav.midi: name 'desired_time_signature' is not defined\n"
          ]
        }
      ]
    },
    {
      "cell_type": "code",
      "source": [
        "from miditok import REMI\n",
        "from pathlib import Path\n",
        "\n",
        "# A validation method to discard MIDIs we do not want\n",
        "def midi_valid(midi) -> bool:\n",
        "    if any(ts.numerator != 4 for ts in midi.time_signature_changes):\n",
        "        return False  # time signature different from 4/*, 4 beats per bar\n",
        "    if midi.max_tick < 10 * midi.ticks_per_beat:\n",
        "        return False  # this MIDI is too short\n",
        "    return True\n",
        "\n",
        "# Creates the tokenizer and list the file paths\n",
        "tokenizer = REMI(sos_eos=True)\n",
        "midi_paths = list(Path('/content/data/maestro-v2.0.0/selected_midi_files').glob('**/*.mid*'))\n",
        "\n",
        "# Converts MIDI files to tokens saved as JSON files\n",
        "tokenizer.tokenize_midi_dataset(\n",
        "    midi_paths,\n",
        "    Path('data/new_grand_midi_noBPE'),\n",
        "    midi_valid\n",
        ")\n",
        "\n",
        "# Learns the vocabulary with BPE\n",
        "tokenizer.learn_bpe(\n",
        "    'data/new_grand_midi_noBPE',\n",
        "    512,\n",
        "    'data/new_grand_midi_BPE'\n",
        ")\n",
        "\n",
        "# Converts the tokenized musics into tokens with BPE\n",
        "tokenizer.apply_bpe_to_dataset(Path('data/new_grand_midi_noBPE'), Path('data/new_grand_midi_BPE'))"
      ],
      "metadata": {
        "colab": {
          "base_uri": "https://localhost:8080/",
          "height": 349
        },
        "id": "EVTC6UGSTmYn",
        "outputId": "1bae618b-0235-47e6-a226-5912858d5d9a"
      },
      "execution_count": 8,
      "outputs": [
        {
          "output_type": "stream",
          "name": "stderr",
          "text": [
            "Tokenizing MIDIs (data/new_grand_midi_noBPE): 0it [00:00, ?it/s]\n"
          ]
        },
        {
          "output_type": "error",
          "ename": "AssertionError",
          "evalue": "BPE learning: the specified path does not contain tokens files (json)",
          "traceback": [
            "\u001b[0;31m---------------------------------------------------------------------------\u001b[0m",
            "\u001b[0;31mAssertionError\u001b[0m                            Traceback (most recent call last)",
            "\u001b[0;32m<ipython-input-8-1bfe94f715a4>\u001b[0m in \u001b[0;36m<cell line: 24>\u001b[0;34m()\u001b[0m\n\u001b[1;32m     22\u001b[0m \u001b[0;34m\u001b[0m\u001b[0m\n\u001b[1;32m     23\u001b[0m \u001b[0;31m# Learns the vocabulary with BPE\u001b[0m\u001b[0;34m\u001b[0m\u001b[0;34m\u001b[0m\u001b[0m\n\u001b[0;32m---> 24\u001b[0;31m tokenizer.learn_bpe(\n\u001b[0m\u001b[1;32m     25\u001b[0m     \u001b[0;34m'data/new_grand_midi_noBPE'\u001b[0m\u001b[0;34m,\u001b[0m\u001b[0;34m\u001b[0m\u001b[0;34m\u001b[0m\u001b[0m\n\u001b[1;32m     26\u001b[0m     \u001b[0;36m512\u001b[0m\u001b[0;34m,\u001b[0m\u001b[0;34m\u001b[0m\u001b[0;34m\u001b[0m\u001b[0m\n",
            "\u001b[0;32m/usr/local/lib/python3.10/dist-packages/miditok/midi_tokenizer_base.py\u001b[0m in \u001b[0;36mlearn_bpe\u001b[0;34m(self, tokens_path, vocab_size, out_dir, files_lim, save_converted_samples, print_seq_len_variation)\u001b[0m\n\u001b[1;32m    693\u001b[0m         \u001b[0mfiles_paths\u001b[0m \u001b[0;34m=\u001b[0m \u001b[0mlist\u001b[0m\u001b[0;34m(\u001b[0m\u001b[0mPath\u001b[0m\u001b[0;34m(\u001b[0m\u001b[0mtokens_path\u001b[0m\u001b[0;34m)\u001b[0m\u001b[0;34m.\u001b[0m\u001b[0mglob\u001b[0m\u001b[0;34m(\u001b[0m\u001b[0;34m\"**/*.json\"\u001b[0m\u001b[0;34m)\u001b[0m\u001b[0;34m)\u001b[0m\u001b[0;34m\u001b[0m\u001b[0;34m\u001b[0m\u001b[0m\n\u001b[1;32m    694\u001b[0m         assert (\n\u001b[0;32m--> 695\u001b[0;31m             \u001b[0mlen\u001b[0m\u001b[0;34m(\u001b[0m\u001b[0mfiles_paths\u001b[0m\u001b[0;34m)\u001b[0m \u001b[0;34m>\u001b[0m \u001b[0;36m0\u001b[0m\u001b[0;34m\u001b[0m\u001b[0;34m\u001b[0m\u001b[0m\n\u001b[0m\u001b[1;32m    696\u001b[0m         ), \"BPE learning: the specified path does not contain tokens files (json)\"\n\u001b[1;32m    697\u001b[0m         files_paths_bpe = (\n",
            "\u001b[0;31mAssertionError\u001b[0m: BPE learning: the specified path does not contain tokens files (json)"
          ]
        }
      ]
    },
    {
      "cell_type": "code",
      "source": [
        "import json\n",
        "import numpy as np\n",
        "import os\n",
        "from pathlib import Path\n",
        "\n",
        "output_folder = Path(\"/content/data/BPE_tokenized_data\")\n",
        "output_folder.mkdir(parents=True, exist_ok=True)\n",
        "\n",
        "# Turns all the json files from tokenization in a folder into numpy arrays\n",
        "def json_to_nparray(path):\n",
        "    for filename in os.listdir(path):\n",
        "        if filename.endswith('.json'):\n",
        "            with open(path + '/' + filename, \"r\") as f:\n",
        "                data = json.load(f)\n",
        "                np.save(output_folder / (filename[:-5] + '.npy'), np.array(data))  # Corrected the save path\n",
        "        continue\n",
        "\n",
        "json_to_nparray(\"/content/data/new_grand_midi_BPE\")"
      ],
      "metadata": {
        "id": "SJJIlwMeke3R"
      },
      "execution_count": null,
      "outputs": []
    },
    {
      "cell_type": "code",
      "source": [
        "path_tokens_BPE = \"/content/data/BPE_tokenized_data/\""
      ],
      "metadata": {
        "id": "pKJ4Z8cTlBgy"
      },
      "execution_count": null,
      "outputs": []
    },
    {
      "cell_type": "code",
      "source": [
        "def get_tokens(path): # function to get all tokens from the dataset and put them in a numpy array\n",
        "    to_shuffle = np.array(()) # to_shuffle aggregator for one piece\n",
        "    data = np.array(()) # data aggregator for one piece\n",
        "    piece_counter = 0\n",
        "\n",
        "    for filename in os.listdir(path):\n",
        "        if filename.endswith('.npy'):\n",
        "            to_shuffle = np.append(to_shuffle, np.load(path + filename, allow_pickle=True)[()])\n",
        "    np.random.shuffle(to_shuffle)\n",
        "\n",
        "    for i in range(len(to_shuffle)):\n",
        "        data = np.append(data, 1)\n",
        "        for j in range(len(to_shuffle[i].get('tokens'))):\n",
        "            data = np.append(data, to_shuffle[i].get('tokens')[j])\n",
        "        data = np.append(data, 2)\n",
        "        piece_counter += 1\n",
        "\n",
        "    return data, piece_counter\n",
        "\n",
        "tokens, piece_counter = get_tokens(path_tokens_BPE)\n",
        "\n",
        "np.save(path_tokens_BPE, tokens)"
      ],
      "metadata": {
        "id": "g-4-m1Pacz92"
      },
      "execution_count": null,
      "outputs": []
    },
    {
      "cell_type": "code",
      "source": [
        "import matplotlib.pyplot as plt\n",
        "# plot the distribution of the tokens\n",
        "print(f'Number of tokens: {tokenizer.len}')\n",
        "print(f'Missing tokens: {set(range(0, 512))-set(tokens)}')\n",
        "\n",
        "plt.figure(figsize=(10, 5))\n",
        "plt.hist(tokens, bins=500)\n",
        "plt.show()"
      ],
      "metadata": {
        "id": "ZX6Io2_LgniW"
      },
      "execution_count": null,
      "outputs": []
    },
    {
      "cell_type": "markdown",
      "source": [
        "\n",
        "\n",
        "\n",
        "\n",
        "```\n",
        "\n",
        "# Hier der Transformer"
      ],
      "metadata": {
        "id": "T5ec4jW8nqUW"
      }
    },
    {
      "cell_type": "code",
      "source": [
        "import tensorflow as tf\n",
        "import numpy as np\n",
        "# from keras_mlp.layers import ReversibleEmbedding\n",
        "\n",
        "class PosEncode(tf.keras.layers.Layer):\n",
        "    def __init__(self,dims,  max_sep_len,):\n",
        "        super(PosEncode, self).__init__()\n",
        "        self.max_sep_len = max_sep_len\n",
        "        self.pos_enc = self._pos_enc(max_sep_len, dims)\n",
        "\n",
        "    #Add the Embeddings and the Encodings\n",
        "\n",
        "    def _pos_enc(self, length, dims):\n",
        "        pos = np.arange(length)[:, np.newaxis]\n",
        "        j = np.arange(dims)[np.newaxis, :]\n",
        "        #distribute the angles according to the formula for Positional Encodings\n",
        "        angle_rates = 1 / np.power(10000, (2 * j)/ dims)\n",
        "        angle_rads = pos * angle_rates\n",
        "        #even coordinates get sin, odd coordinates get cos\n",
        "        angle_rads[:, 0::2] = np.sin(angle_rads[:, 0::2])\n",
        "        angle_rads[:, 1::2] = np.cos(angle_rads[:, 1::2])\n",
        "        pos_encoding = angle_rads[np.newaxis, ...]\n",
        "        return tf.cast(pos_encoding, dtype=tf.float32)\n",
        "\n",
        "    @tf.function\n",
        "    def call(self, x):\n",
        "\n",
        "        seq_len = x.shape[1]\n",
        "        return tf.slice(self.pos_enc, [0, 0, 0], [-1, seq_len, -1])\n",
        "\n",
        "class InverseEmbedding(tf.keras.layers.Embedding):\n",
        "\n",
        "    def __init__(self, voc_size, dims,  **kwargs):\n",
        "        super(InverseEmbedding, self).__init__(voc_size, dims, **kwargs)\n",
        "\n",
        "    def call(self, x, inverse = False, training = True):\n",
        "        if not inverse:\n",
        "            return super().call(x)\n",
        "\n",
        "        trans = tf.transpose(tf.convert_to_tensor(self.embeddings))\n",
        "        return tf.matmul(x, trans)\n",
        "\n",
        "\n",
        "class MultiHeadAttention(tf.keras.layers.Layer):\n",
        "    def __init__(self, dims, num_heads, attn_size, dropout_prob):\n",
        "        super(MultiHeadAttention, self).__init__()\n",
        "        # Initialize the parameters\n",
        "        self.num_heads = num_heads\n",
        "        self.attn_size = attn_size\n",
        "        self.dims = dims\n",
        "\n",
        "        # Layers for QKV projection and output projection\n",
        "        self.qkv_projection = tf.keras.layers.Dense(num_heads * attn_size * 3, use_bias=False)\n",
        "        self.output_projection = tf.keras.layers.Dense(dims)\n",
        "        self.dropout = tf.keras.layers.Dropout(dropout_prob)\n",
        "\n",
        "    def call(self, qs, mask=None):\n",
        "        # Compute batch size and sequence length from inputs\n",
        "        batch_size = tf.shape(qs)[0]\n",
        "        seq_length = tf.shape(qs)[1]\n",
        "\n",
        "        # Project queries, keys, and values\n",
        "        qkv = self.qkv_projection(qs)\n",
        "        qkv = tf.reshape(qkv, [batch_size, seq_length, self.num_heads * 3, self.attn_size])\n",
        "        qs, ks, vs = tf.split(qkv, 3, axis=2)\n",
        "\n",
        "        # Compute scaled dot-product attention\n",
        "        qs = tf.transpose(qs, [0, 2, 1, 3])\n",
        "        ks = tf.transpose(ks, [0, 2, 3, 1])\n",
        "        attn_product = tf.matmul(qs, ks) / tf.math.sqrt(tf.cast(self.attn_size, tf.float32))\n",
        "\n",
        "        # Apply mask, if provided\n",
        "        if mask is not None:\n",
        "            mask = tf.expand_dims(mask, 1)\n",
        "            mask = tf.expand_dims(mask, 2)\n",
        "            mask = tf.broadcast_to(mask, [batch_size, self.num_heads, seq_length, seq_length])\n",
        "            attn_product = tf.where(mask == 0, tf.fill(tf.shape(attn_product), -1e9), attn_product)\n",
        "\n",
        "        # Softmax and dropout\n",
        "        scores = tf.nn.softmax(attn_product, axis=-1)\n",
        "        scores = self.dropout(scores)\n",
        "\n",
        "        # Weighted sum of values\n",
        "        vs = tf.transpose(vs, [0, 2, 1, 3])\n",
        "        res = tf.matmul(scores, vs)\n",
        "\n",
        "        # Reshape and project to output size\n",
        "        res = tf.reshape(tf.transpose(res, [0, 2, 1, 3]), [batch_size, -1, self.num_heads * self.attn_size])\n",
        "        output = self.output_projection(res)\n",
        "\n",
        "        return output\n",
        "\n",
        "\n",
        "class SubLayerLogic(tf.keras.layers.Layer):\n",
        "    def __init__(self, d_model, dropout_rate):\n",
        "        super(SubLayerLogic, self).__init__()\n",
        "\n",
        "        self.dropout = tf.keras.layers.Dropout(dropout_rate)\n",
        "        self.norm = tf.keras.layers.LayerNormalization()\n",
        "\n",
        "    def calls(self, x, sublayer):\n",
        "\n",
        "        return x + self.dropout(sublayer(self.norm(x)))\n",
        "\n",
        "class SelfAttentionBlock(tf.keras.layers.Layer):\n",
        "    def __init__(self, d_model, num_heads, dropout_rate):\n",
        "        super(SelfAttentionBlock, self).__init__()\n",
        "        self.ffn = tf.keras.layers.Dense(d_model, \"silu\")\n",
        "        self.attention = MultiHeadAttention(d_model, num_heads,d_model//num_heads, dropout_rate)\n",
        "        self.sub1 = SubLayerLogic(d_model, dropout_rate)\n",
        "        self.sub2 = SubLayerLogic(d_model, dropout_rate)\n",
        "\n",
        "    @tf.function\n",
        "    def call(self, x, mask):\n",
        "        x = self.sub1(x, lambda inputs : self.attention(inputs, mask))\n",
        "        return self.sub2(x, self.attention)\n",
        "\n",
        "class Transformer(tf.keras.Model):\n",
        "    def __init__(self, voc_size, dims, maxseqlen, num_heads, dropout_rate, n_blocks):\n",
        "        super(Transformer, self).__init__()\n",
        "\n",
        "        self.posemb = PosEncode(dims, maxseqlen)\n",
        "        self.embedding = InverseEmbedding(voc_size, dims)\n",
        "        self.blocks = [\n",
        "            SelfAttentionBlock(dims, num_heads, dropout_rate) for _ in range(n_blocks)\n",
        "        ]\n",
        "\n",
        "    def encode(self, x):\n",
        "\n",
        "        return self.posemb(x) + self.embedding(x, inverse=False)\n",
        "\n",
        "    def gen_mask(self, seq_len):\n",
        "        return tf.linalg.band_part(tf.ones((seq_len, seq_len)), -1, 0)[None,None,:]\n",
        "\n",
        "    @tf.function\n",
        "    def call(self, x, maks = None):\n",
        "\n",
        "        seq_len = x.shape[1]\n",
        "\n",
        "        x = self.encode(x)\n",
        "\n",
        "        if mask is None:\n",
        "          mask = self.gen_mask(seq_len)\n",
        "\n",
        "        for block in self.blocks:\n",
        "            x = block(x, mask)\n",
        "\n",
        "        return self.embedding(x, inverse = True)"
      ],
      "metadata": {
        "id": "0yr6VBhlVQzF"
      },
      "execution_count": null,
      "outputs": []
    },
    {
      "cell_type": "code",
      "source": [],
      "metadata": {
        "id": "yiroyLvus2wb"
      },
      "execution_count": null,
      "outputs": []
    }
  ]
}